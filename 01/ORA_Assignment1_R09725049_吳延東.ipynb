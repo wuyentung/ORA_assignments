{
 "metadata": {
  "language_info": {
   "codemirror_mode": {
    "name": "ipython",
    "version": 3
   },
   "file_extension": ".py",
   "mimetype": "text/x-python",
   "name": "python",
   "nbconvert_exporter": "python",
   "pygments_lexer": "ipython3",
   "version": "3.7.6-final"
  },
  "orig_nbformat": 2,
  "kernelspec": {
   "name": "python3",
   "display_name": "Python 3.7.6 64-bit ('user': virtualenv)",
   "metadata": {
    "interpreter": {
     "hash": "6d46af94c2bbce495f1e668725902fa517c90b1782bcfe2fce0dd9868df553d3"
    }
   }
  }
 },
 "nbformat": 4,
 "nbformat_minor": 2,
 "cells": [
  {
   "cell_type": "code",
   "execution_count": 1,
   "metadata": {},
   "outputs": [],
   "source": [
    "from pulp import *"
   ]
  },
  {
   "source": [
    "## add parameters\n",
    "Ingredients = ['BREAD', 'PEANUT BUTTER', 'JELLY', 'CRACKER', 'MILK', 'JUICE']\n",
    "\n",
    "costs = { # cents\n",
    "    Ingredients[0]: 5, \n",
    "    Ingredients[1]: 4, \n",
    "    Ingredients[2]: 7, \n",
    "    Ingredients[3]: 8, \n",
    "    Ingredients[4]: 15, \n",
    "    Ingredients[5]: 35}\n",
    "\n",
    "fat_kcals = { # kcal\n",
    "    Ingredients[0]: 10, \n",
    "    Ingredients[1]: 75, \n",
    "    Ingredients[2]: 0, \n",
    "    Ingredients[3]: 20, \n",
    "    Ingredients[4]: 70, \n",
    "    Ingredients[5]: 0}\n",
    "\n",
    "total_kcals = { # kcal\n",
    "    Ingredients[0]: 70, \n",
    "    Ingredients[1]: 100, \n",
    "    Ingredients[2]: 50, \n",
    "    Ingredients[3]: 60, \n",
    "    Ingredients[4]: 150, \n",
    "    Ingredients[5]: 100}\n",
    "\n",
    "vit_C = { # mg\n",
    "    Ingredients[0]: 0, \n",
    "    Ingredients[1]: 0, \n",
    "    Ingredients[2]: 3, \n",
    "    Ingredients[3]: 0, \n",
    "    Ingredients[4]: 2, \n",
    "    Ingredients[5]: 120}\n",
    "\n",
    "protein = { # g\n",
    "    Ingredients[0]: 3, \n",
    "    Ingredients[1]: 4, \n",
    "    Ingredients[2]: 0, \n",
    "    Ingredients[3]: 1, \n",
    "    Ingredients[4]: 8, \n",
    "    Ingredients[5]: 1}\n"
   ],
   "cell_type": "code",
   "metadata": {},
   "execution_count": null,
   "outputs": []
  },
  {
   "cell_type": "code",
   "execution_count": 3,
   "metadata": {},
   "outputs": [],
   "source": [
    "## model\n",
    "prob = LpProblem(\"lunch cost down\", LpMinimize)\n"
   ]
  },
  {
   "cell_type": "code",
   "execution_count": 4,
   "metadata": {},
   "outputs": [],
   "source": [
    "## decision vars\n",
    "ingredient_vars = LpVariable.dicts(name=\"Ingredient\", indexs=Ingredients, lowBound=0, upBound=None)"
   ]
  },
  {
   "cell_type": "code",
   "execution_count": 5,
   "metadata": {},
   "outputs": [],
   "source": [
    "## objective function\n",
    "prob += lpSum([costs[i] * ingredient_vars[i] for i in Ingredients])"
   ]
  },
  {
   "cell_type": "code",
   "execution_count": 6,
   "metadata": {},
   "outputs": [],
   "source": [
    "## constraints, nutritional requirements\n",
    "prob += lpSum([total_kcals[i] * ingredient_vars[i] for i in Ingredients]) >= 400 # total kcal\n",
    "prob += lpSum([total_kcals[i] * ingredient_vars[i] for i in Ingredients]) <= 600 # total kcal\n",
    "prob += lpSum([fat_kcals[i] * ingredient_vars[i] for i in Ingredients]) <= 0.3 * lpSum([total_kcals[i] * ingredient_vars[i] for i in Ingredients]) # proportion of fat kcal\n",
    "prob += lpSum([vit_C[i] * ingredient_vars[i] for i in Ingredients]) >= 60 # at least 60 mg vitamin C\n",
    "prob += lpSum([protein[i] * ingredient_vars[i] for i in Ingredients]) >= 12 # at least 12 g protein\n",
    "prob += ingredient_vars[\"BREAD\"] == 2 # 2 slices of bread\n",
    "prob += ingredient_vars[\"PEANUT BUTTER\"] >= 2 * ingredient_vars[\"JELLY\"]  # peanut butter is two times of jelly\n",
    "prob += ingredient_vars[\"MILK\"] + ingredient_vars[\"JUICE\"] >= 1 # at least one cup of liquid"
   ]
  },
  {
   "cell_type": "code",
   "execution_count": 7,
   "metadata": {},
   "outputs": [
    {
     "output_type": "execute_result",
     "data": {
      "text/plain": [
       "1"
      ]
     },
     "metadata": {},
     "execution_count": 7
    }
   ],
   "source": [
    "## solve\n",
    "prob.solve()"
   ]
  },
  {
   "cell_type": "code",
   "execution_count": 8,
   "metadata": {},
   "outputs": [
    {
     "output_type": "stream",
     "name": "stdout",
     "text": [
      "Status: Optimal\nIngredient_BREAD = 2.0\nIngredient_CRACKER = 1.0394518\nIngredient_JELLY = 0.28737542\nIngredient_JUICE = 0.48421927\nIngredient_MILK = 0.51578073\nIngredient_PEANUT_BUTTER = 0.57475083\nobj= 47.310631060000006\n"
     ]
    }
   ],
   "source": [
    "#查看目前解的狀態\n",
    "print(\"Status:\", LpStatus[prob.status])\n",
    "\n",
    "#印出解及目標值\n",
    "for v in prob.variables():\n",
    "    print(v.name, \"=\", v.varValue)\n",
    "print('obj=',value(prob.objective))\n",
    "#解的另一種方式\n",
    "# for i in Ingredients:\n",
    "#   print(ingredient_vars[i],\"=\",ingredient_vars[i].value())"
   ]
  },
  {
   "source": [
    "import numpy as np\n"
   ],
   "cell_type": "code",
   "metadata": {},
   "execution_count": 10,
   "outputs": []
  },
  {
   "cell_type": "code",
   "execution_count": 11,
   "metadata": {},
   "outputs": [
    {
     "output_type": "stream",
     "name": "stdout",
     "text": [
      "[[0.8 0.2 0.  0. ]\n [0.  0.  0.2 0.8]\n [0.  1.  0.  0. ]\n [0.8 0.2 0.  0. ]]\n"
     ]
    }
   ],
   "source": [
    "p = np.array([[0.8, 0.2, 0, 0], [0, 0, 0.2, 0.8], [0, 1, 0, 0], [0.8, 0.2, 0, 0]])\n",
    "print(p)"
   ]
  },
  {
   "cell_type": "code",
   "execution_count": 12,
   "metadata": {},
   "outputs": [
    {
     "output_type": "stream",
     "name": "stdout",
     "text": [
      "[[0.64 0.16 0.04 0.16]\n [0.64 0.36 0.   0.  ]\n [0.   0.   0.2  0.8 ]\n [0.64 0.16 0.04 0.16]]\n0.04000000000000001\n"
     ]
    }
   ],
   "source": [
    "p2 = np.dot(p, p)\n",
    "print(p2)\n",
    "print(p2[0][2])\n"
   ]
  },
  {
   "cell_type": "code",
   "execution_count": 13,
   "metadata": {},
   "outputs": [
    {
     "output_type": "stream",
     "name": "stdout",
     "text": [
      "[[0.61952 0.19488 0.03712 0.14848]\n [0.59392 0.17408 0.0464  0.1856 ]\n [0.64    0.232   0.0256  0.1024 ]\n [0.61952 0.19488 0.03712 0.14848]]\n0.037120000000000014\n"
     ]
    }
   ],
   "source": [
    "p4 = np.dot(p2, p2)\n",
    "p5 = np.dot(p4, p)\n",
    "print(p5)\n",
    "print(p5[0][2])\n"
   ]
  },
  {
   "cell_type": "code",
   "execution_count": 14,
   "metadata": {},
   "outputs": [
    {
     "output_type": "stream",
     "name": "stdout",
     "text": [
      "[[0.61529129 0.19220439 0.03850086 0.15400346]\n [0.61601382 0.1929815  0.03820093 0.15280374]\n [0.61410509 0.19100467 0.03897805 0.15591219]\n [0.61529129 0.19220439 0.03850086 0.15400346]]\n0.03850086400000004\n"
     ]
    }
   ],
   "source": [
    "p10 = np.dot(p5, p5)\n",
    "print(p10)\n",
    "print(p10[0][2])\n"
   ]
  },
  {
   "cell_type": "code",
   "execution_count": 15,
   "metadata": {},
   "outputs": [
    {
     "output_type": "stream",
     "name": "stdout",
     "text": [
      "[[0.61538449 0.19230756 0.03846159 0.15384635]\n [0.61538541 0.19230853 0.03846121 0.15384485]\n [0.61538306 0.19230606 0.03846218 0.1538487 ]\n [0.61538449 0.19230756 0.03846159 0.15384635]]\n0.03846158821035613\n"
     ]
    }
   ],
   "source": [
    "p20 = np.dot(p10, p10)\n",
    "print(p20)\n",
    "print(p20[0][2])\n"
   ]
  },
  {
   "cell_type": "code",
   "execution_count": 16,
   "metadata": {},
   "outputs": [
    {
     "output_type": "stream",
     "name": "stdout",
     "text": [
      "[[0.61538462 0.19230769 0.03846154 0.15384615]\n [0.61538462 0.19230769 0.03846154 0.15384615]\n [0.61538462 0.19230769 0.03846154 0.15384615]\n [0.61538462 0.19230769 0.03846154 0.15384615]]\n0.038461538461615784\n"
     ]
    }
   ],
   "source": [
    "p40 = np.dot(p20, p20)\n",
    "print(p40)\n",
    "print(p40[0][2])"
   ]
  },
  {
   "cell_type": "code",
   "execution_count": 17,
   "metadata": {},
   "outputs": [
    {
     "output_type": "stream",
     "name": "stdout",
     "text": [
      "expected_cost is:  1153.8461538484735\n"
     ]
    }
   ],
   "source": [
    "inoperable_cost = 30000\n",
    "p_inoperable = p40[0][2] \n",
    "expected_cost = p_inoperable * inoperable_cost + (1 - p_inoperable) * 0\n",
    "print(\"expected_cost is: \", expected_cost)"
   ]
  },
  {
   "cell_type": "code",
   "execution_count": null,
   "metadata": {},
   "outputs": [],
   "source": []
  }
 ]
}