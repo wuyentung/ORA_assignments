{
 "cells": [
  {
   "cell_type": "code",
   "execution_count": 1,
   "id": "right-recommendation",
   "metadata": {},
   "outputs": [],
   "source": [
    "import gurobipy as gp\n",
    "from gurobipy import GRB\n",
    "import matplotlib.pyplot as plt\n",
    "import math\n",
    "import numpy as np"
   ]
  },
  {
   "cell_type": "markdown",
   "id": "specified-adams",
   "metadata": {},
   "source": [
    "## 1."
   ]
  },
  {
   "cell_type": "code",
   "execution_count": 2,
   "id": "moved-breakdown",
   "metadata": {},
   "outputs": [],
   "source": [
    "W = [[5, 3, 0, 0],\n",
    "     [0, 1, 8, 4]]\n",
    "V = [[0, 6], \n",
    "     [6, 0]]\n",
    "a = [0, 4, 6, 10]\n",
    "b = [2, 0, 8, 4]\n",
    "n = 2\n",
    "m = 4"
   ]
  },
  {
   "cell_type": "markdown",
   "id": "romantic-proxy",
   "metadata": {},
   "source": [
    "### (a)\n",
    "#### Non-linear Form\n",
    "##### Decision Variables\n",
    "$x_j, y_j, \\forall j \\in \\text{facilities}$: 新據點的兩軸座標\n",
    "##### Model\n",
    "$\\text{min}f_1 + f_2$  \n",
    "x-axis: $f_1 = \\displaystyle{\\sum_{1 \\leq j < k \\leq n} v_{jk} |x_j - x_k| + \\sum_{j=1}^{n} \\sum_{i=1}^{m}w_{ji}}|x_j-a_i|$  \n",
    "y-axis: $f_2 = \\displaystyle{\\sum_{1 \\leq j < k \\leq n} v_{jk} |y_j - y_k| + \\sum_{j=1}^{n} \\sum_{i=1}^{m}w_{ji}}|y_j-b_i|$  \n",
    "$\\text{s.t.}$  \n",
    "$x_j, y_j \\geq 0, \\forall j \\in \\text{facilities}$\n",
    "#### Linear Form\n",
    "##### Decision Variables\n",
    "$x_j, y_j, \\forall j \\in \\text{facilities}$: 新據點的兩軸座標  \n",
    "$p^X_{jk}$: 新據點j到新據點k在x軸上的左邊幾單位  \n",
    "$q^X_{jk}$: 新據點j到新據點k在x軸上的右邊幾單位  \n",
    "$r^X_{ji}$: 新據點j到舊據點i在x軸上的右邊幾單位  \n",
    "$s^X_{ji}$: 新據點j到舊據點i在x軸上的左邊幾單位  \n",
    "$p^Y_{jk}$: 新據點j到新據點k在y軸上的左邊幾單位  \n",
    "$q^Y_{jk}$: 新據點j到新據點k在y軸上的右邊幾單位  \n",
    "$r^Y_{ji}$: 新據點j到舊據點i在y軸上的右邊幾單位  \n",
    "$s^Y_{ji}$: 新據點j到舊據點i在y軸上的左邊幾單位 \n",
    "##### Model\n",
    "$\\text{min}f_1^\\prime + f_2^\\prime$, where  \n",
    "x-axis: $f_1^\\prime = \\displaystyle{\\sum_{1 \\leq j < k \\leq n} v_{jk} (p^X_{jk} + q^X_{jk}) + \\sum_{j=1}^{n} \\sum_{i=1}^{m}w_{ji}(r^X_{ji} + s^X_{ji})}$  \n",
    "y-axis: $f_2^\\prime = \\displaystyle{\\sum_{1 \\leq j < k \\leq n} v_{jk} (p^Y_{jk} + q^Y_{jk}) + \\sum_{j=1}^{n} \\sum_{i=1}^{m}w_{ji}(r^Y_{ji} + s^Y_{ji})}$  \n",
    "$\\text{s.t.}$  \n",
    "$x_j - q^X_{jk} + p^X_{jk} = x_k, 1 \\leq j < k \\leq n$  \n",
    "$x_j - r^X_{ji} + s^X_{ji} = a_i, 1 \\leq i \\leq m, 1 \\leq j \\leq n$  \n",
    "$y_j - q^Y_{jk} + p^Y_{jk} = y_k, 1 \\leq j < k \\leq n$  \n",
    "$y_j - r^Y_{ji} + s^Y_{ji} = b_i, 1 \\leq i \\leq m, 1 \\leq j \\leq n$  \n",
    "$x_j, x_k, r^X_{ji}, s^X_{ji}, q^X_{jk}, p^X_{jk}, y_j, y_k, r^Y_{ji}, s^Y_{ji}, q^Y_{jk}, p^Y_{jk} \\geq 0, \\forall j \\in \\text{facilities}$  \n",
    "### (b)"
   ]
  },
  {
   "cell_type": "code",
   "execution_count": 3,
   "id": "above-candidate",
   "metadata": {},
   "outputs": [
    {
     "output_type": "stream",
     "name": "stdout",
     "text": [
      "Academic license - for non-commercial use only - expires 2021-05-28\n",
      "Using license file /home/cu2189191862/gurobi.lic\n"
     ]
    }
   ],
   "source": [
    "model = gp.Model(\"FLP\")"
   ]
  },
  {
   "cell_type": "code",
   "execution_count": 4,
   "id": "infrared-china",
   "metadata": {},
   "outputs": [],
   "source": [
    "x = model.addVars(2, lb=0.0, ub=float('inf'), vtype=GRB.CONTINUOUS, name=\"x\")\n",
    "y = model.addVars(2, lb=0.0, ub=float('inf'), vtype=GRB.CONTINUOUS, name=\"y\")\n",
    "p_X = model.addVars(2, 2, lb=0.0, ub=float('inf'), vtype=GRB.CONTINUOUS, name=\"p_X\")\n",
    "q_X = model.addVars(2, 2, lb=0.0, ub=float('inf'), vtype=GRB.CONTINUOUS, name=\"q_X\")\n",
    "r_X = model.addVars(2, 4, lb=0.0, ub=float('inf'), vtype=GRB.CONTINUOUS, name=\"r_X\")\n",
    "s_X = model.addVars(2, 4, lb=0.0, ub=float('inf'), vtype=GRB.CONTINUOUS, name=\"s_X\")\n",
    "p_Y = model.addVars(2, 2, lb=0.0, ub=float('inf'), vtype=GRB.CONTINUOUS, name=\"p_Y\")\n",
    "q_Y = model.addVars(2, 2, lb=0.0, ub=float('inf'), vtype=GRB.CONTINUOUS, name=\"q_Y\")\n",
    "r_Y = model.addVars(2, 4, lb=0.0, ub=float('inf'), vtype=GRB.CONTINUOUS, name=\"r_Y\")\n",
    "s_Y = model.addVars(2, 4, lb=0.0, ub=float('inf'), vtype=GRB.CONTINUOUS, name=\"s_Y\")\n"
   ]
  },
  {
   "cell_type": "code",
   "execution_count": 5,
   "metadata": {},
   "outputs": [],
   "source": [
    "f_prime1 = gp.quicksum(V[j][k] * (p_X[j, k] + q_X[j, k]) for j in range(n) for k in range(n) if j < k) + \\\n",
    "           gp.quicksum(W[j][i] * (r_X[j, i] + s_X[j, i]) for j in range(n) for i in range(m))\n",
    "f_prime2 = gp.quicksum(V[j][k] * (p_Y[j, k] + q_Y[j, k]) for j in range(n) for k in range(n) if j < k) + \\\n",
    "           gp.quicksum(W[j][i] * (r_Y[j, i] + s_Y[j, i]) for j in range(n) for i in range(m))\n",
    "\n",
    "model.setObjective(f_prime1 + f_prime2, GRB.MINIMIZE)"
   ]
  },
  {
   "cell_type": "code",
   "execution_count": 6,
   "metadata": {},
   "outputs": [
    {
     "output_type": "execute_result",
     "data": {
      "text/plain": [
       "{(0, 0): <gurobi.Constr *Awaiting Model Update*>,\n",
       " (0, 1): <gurobi.Constr *Awaiting Model Update*>,\n",
       " (0, 2): <gurobi.Constr *Awaiting Model Update*>,\n",
       " (0, 3): <gurobi.Constr *Awaiting Model Update*>,\n",
       " (1, 0): <gurobi.Constr *Awaiting Model Update*>,\n",
       " (1, 1): <gurobi.Constr *Awaiting Model Update*>,\n",
       " (1, 2): <gurobi.Constr *Awaiting Model Update*>,\n",
       " (1, 3): <gurobi.Constr *Awaiting Model Update*>}"
      ]
     },
     "metadata": {},
     "execution_count": 6
    }
   ],
   "source": [
    "model.addConstrs(x[j] - q_X[j, k] + p_X[j, k] - x[k] == 0 for j in range(n) for k in range(n) if j < k)\n",
    "model.addConstrs(x[j] - r_X[j, i] + s_X[j, i] == a[i] for j in range(n) for i in range(m))\n",
    "model.addConstrs(y[j] - q_Y[j, k] + p_Y[j, k] == y[k] for j in range(n) for k in range(n) if j < k)\n",
    "model.addConstrs(y[j] - r_Y[j, i] + s_Y[j, i] == b[i] for j in range(n) for i in range(m))"
   ]
  },
  {
   "cell_type": "code",
   "execution_count": 7,
   "metadata": {},
   "outputs": [
    {
     "output_type": "stream",
     "name": "stdout",
     "text": [
      "Gurobi Optimizer version 9.1.1 build v9.1.1rc0 (linux64)\n",
      "Thread count: 32 physical cores, 64 logical processors, using up to 32 threads\n",
      "Optimize a model with 18 rows, 52 columns and 56 nonzeros\n",
      "Model fingerprint: 0x118aeb53\n",
      "Coefficient statistics:\n",
      "  Matrix range     [1e+00, 1e+00]\n",
      "  Objective range  [1e+00, 8e+00]\n",
      "  Bounds range     [0e+00, 0e+00]\n",
      "  RHS range        [2e+00, 1e+01]\n",
      "Presolve removed 9 rows and 30 columns\n",
      "Presolve time: 0.01s\n",
      "Presolved: 9 rows, 22 columns, 29 nonzeros\n",
      "\n",
      "Iteration    Objective       Primal Inf.    Dual Inf.      Time\n",
      "       0    0.0000000e+00   3.800000e+01   0.000000e+00      0s\n",
      "       8    1.0400000e+02   0.000000e+00   0.000000e+00      0s\n",
      "\n",
      "Solved in 8 iterations and 0.01 seconds\n",
      "Optimal objective  1.040000000e+02\n"
     ]
    }
   ],
   "source": [
    "model.write('q1.lp')\n",
    "\n",
    "model.optimize()"
   ]
  },
  {
   "source": [
    "### (c)"
   ],
   "cell_type": "markdown",
   "metadata": {}
  },
  {
   "cell_type": "code",
   "execution_count": 8,
   "metadata": {},
   "outputs": [
    {
     "output_type": "stream",
     "name": "stdout",
     "text": [
      "new facility 0 located at: (4.0, 2.0)\nnew facility 1 located at: (6.0, 4.0)\nobjective value: 104.0\n"
     ]
    }
   ],
   "source": [
    "for j in range(n):\n",
    "    print(\"new facility {} located at: ({}, {})\".format(j, model.getAttr('x', x)[j], model.getAttr('x', y)[j]))\n",
    "\n",
    "print(\"objective value:\", model.objVal)\n"
   ]
  },
  {
   "cell_type": "code",
   "execution_count": 9,
   "metadata": {},
   "outputs": [
    {
     "output_type": "stream",
     "name": "stdout",
     "text": [
      "黑色的點是舊的據點，藍色是新的\n"
     ]
    },
    {
     "output_type": "display_data",
     "data": {
      "text/plain": "<Figure size 432x288 with 1 Axes>",
      "image/svg+xml": "<?xml version=\"1.0\" encoding=\"utf-8\" standalone=\"no\"?>\n<!DOCTYPE svg PUBLIC \"-//W3C//DTD SVG 1.1//EN\"\n  \"http://www.w3.org/Graphics/SVG/1.1/DTD/svg11.dtd\">\n<svg height=\"248.518125pt\" version=\"1.1\" viewBox=\"0 0 362.5625 248.518125\" width=\"362.5625pt\" xmlns=\"http://www.w3.org/2000/svg\" xmlns:xlink=\"http://www.w3.org/1999/xlink\">\n <metadata>\n  <rdf:RDF xmlns:cc=\"http://creativecommons.org/ns#\" xmlns:dc=\"http://purl.org/dc/elements/1.1/\" xmlns:rdf=\"http://www.w3.org/1999/02/22-rdf-syntax-ns#\">\n   <cc:Work>\n    <dc:type rdf:resource=\"http://purl.org/dc/dcmitype/StillImage\"/>\n    <dc:date>2021-04-25T14:29:32.295026</dc:date>\n    <dc:format>image/svg+xml</dc:format>\n    <dc:creator>\n     <cc:Agent>\n      <dc:title>Matplotlib v3.4.1, https://matplotlib.org/</dc:title>\n     </cc:Agent>\n    </dc:creator>\n   </cc:Work>\n  </rdf:RDF>\n </metadata>\n <defs>\n  <style type=\"text/css\">*{stroke-linecap:butt;stroke-linejoin:round;}</style>\n </defs>\n <g id=\"figure_1\">\n  <g id=\"patch_1\">\n   <path d=\"M 0 248.518125 \nL 362.5625 248.518125 \nL 362.5625 0 \nL 0 0 \nz\n\" style=\"fill:none;\"/>\n  </g>\n  <g id=\"axes_1\">\n   <g id=\"patch_2\">\n    <path d=\"M 20.5625 224.64 \nL 355.3625 224.64 \nL 355.3625 7.2 \nL 20.5625 7.2 \nz\n\" style=\"fill:#ffffff;\"/>\n   </g>\n   <g id=\"PathCollection_1\">\n    <defs>\n     <path d=\"M 0 3 \nC 0.795609 3 1.55874 2.683901 2.12132 2.12132 \nC 2.683901 1.55874 3 0.795609 3 0 \nC 3 -0.795609 2.683901 -1.55874 2.12132 -2.12132 \nC 1.55874 -2.683901 0.795609 -3 0 -3 \nC -0.795609 -3 -1.55874 -2.683901 -2.12132 -2.12132 \nC -2.683901 -1.55874 -3 -0.795609 -3 0 \nC -3 0.795609 -2.683901 1.55874 -2.12132 2.12132 \nC -1.55874 2.683901 -0.795609 3 0 3 \nz\n\" id=\"m6f72d61f9e\" style=\"stroke:#1f77b4;\"/>\n    </defs>\n    <g clip-path=\"url(#pb31970aba5)\">\n     <use style=\"fill:#1f77b4;stroke:#1f77b4;\" x=\"157.526136\" xlink:href=\"#m6f72d61f9e\" y=\"165.338182\"/>\n     <use style=\"fill:#1f77b4;stroke:#1f77b4;\" x=\"218.398864\" xlink:href=\"#m6f72d61f9e\" y=\"115.92\"/>\n    </g>\n   </g>\n   <g id=\"PathCollection_2\">\n    <defs>\n     <path d=\"M 0 3 \nC 0.795609 3 1.55874 2.683901 2.12132 2.12132 \nC 2.683901 1.55874 3 0.795609 3 0 \nC 3 -0.795609 2.683901 -1.55874 2.12132 -2.12132 \nC 1.55874 -2.683901 0.795609 -3 0 -3 \nC -0.795609 -3 -1.55874 -2.683901 -2.12132 -2.12132 \nC -2.683901 -1.55874 -3 -0.795609 -3 0 \nC -3 0.795609 -2.683901 1.55874 -2.12132 2.12132 \nC -1.55874 2.683901 -0.795609 3 0 3 \nz\n\" id=\"m8c51a7986e\" style=\"stroke:#000000;\"/>\n    </defs>\n    <g clip-path=\"url(#pb31970aba5)\">\n     <use style=\"stroke:#000000;\" x=\"35.780682\" xlink:href=\"#m8c51a7986e\" y=\"165.338182\"/>\n     <use style=\"stroke:#000000;\" x=\"157.526136\" xlink:href=\"#m8c51a7986e\" y=\"214.756364\"/>\n     <use style=\"stroke:#000000;\" x=\"218.398864\" xlink:href=\"#m8c51a7986e\" y=\"17.083636\"/>\n     <use style=\"stroke:#000000;\" x=\"340.144318\" xlink:href=\"#m8c51a7986e\" y=\"115.92\"/>\n    </g>\n   </g>\n   <g id=\"matplotlib.axis_1\">\n    <g id=\"xtick_1\">\n     <g id=\"line2d_1\">\n      <defs>\n       <path d=\"M 0 0 \nL 0 3.5 \n\" id=\"m5266ec4422\" style=\"stroke:#000000;stroke-width:0.8;\"/>\n      </defs>\n      <g>\n       <use style=\"stroke:#000000;stroke-width:0.8;\" x=\"35.780682\" xlink:href=\"#m5266ec4422\" y=\"224.64\"/>\n      </g>\n     </g>\n     <g id=\"text_1\">\n      <!-- 0 -->\n      <g transform=\"translate(32.599432 239.238437)scale(0.1 -0.1)\">\n       <defs>\n        <path d=\"M 2034 4250 \nQ 1547 4250 1301 3770 \nQ 1056 3291 1056 2328 \nQ 1056 1369 1301 889 \nQ 1547 409 2034 409 \nQ 2525 409 2770 889 \nQ 3016 1369 3016 2328 \nQ 3016 3291 2770 3770 \nQ 2525 4250 2034 4250 \nz\nM 2034 4750 \nQ 2819 4750 3233 4129 \nQ 3647 3509 3647 2328 \nQ 3647 1150 3233 529 \nQ 2819 -91 2034 -91 \nQ 1250 -91 836 529 \nQ 422 1150 422 2328 \nQ 422 3509 836 4129 \nQ 1250 4750 2034 4750 \nz\n\" id=\"DejaVuSans-30\" transform=\"scale(0.015625)\"/>\n       </defs>\n       <use xlink:href=\"#DejaVuSans-30\"/>\n      </g>\n     </g>\n    </g>\n    <g id=\"xtick_2\">\n     <g id=\"line2d_2\">\n      <g>\n       <use style=\"stroke:#000000;stroke-width:0.8;\" x=\"96.653409\" xlink:href=\"#m5266ec4422\" y=\"224.64\"/>\n      </g>\n     </g>\n     <g id=\"text_2\">\n      <!-- 2 -->\n      <g transform=\"translate(93.472159 239.238437)scale(0.1 -0.1)\">\n       <defs>\n        <path d=\"M 1228 531 \nL 3431 531 \nL 3431 0 \nL 469 0 \nL 469 531 \nQ 828 903 1448 1529 \nQ 2069 2156 2228 2338 \nQ 2531 2678 2651 2914 \nQ 2772 3150 2772 3378 \nQ 2772 3750 2511 3984 \nQ 2250 4219 1831 4219 \nQ 1534 4219 1204 4116 \nQ 875 4013 500 3803 \nL 500 4441 \nQ 881 4594 1212 4672 \nQ 1544 4750 1819 4750 \nQ 2544 4750 2975 4387 \nQ 3406 4025 3406 3419 \nQ 3406 3131 3298 2873 \nQ 3191 2616 2906 2266 \nQ 2828 2175 2409 1742 \nQ 1991 1309 1228 531 \nz\n\" id=\"DejaVuSans-32\" transform=\"scale(0.015625)\"/>\n       </defs>\n       <use xlink:href=\"#DejaVuSans-32\"/>\n      </g>\n     </g>\n    </g>\n    <g id=\"xtick_3\">\n     <g id=\"line2d_3\">\n      <g>\n       <use style=\"stroke:#000000;stroke-width:0.8;\" x=\"157.526136\" xlink:href=\"#m5266ec4422\" y=\"224.64\"/>\n      </g>\n     </g>\n     <g id=\"text_3\">\n      <!-- 4 -->\n      <g transform=\"translate(154.344886 239.238437)scale(0.1 -0.1)\">\n       <defs>\n        <path d=\"M 2419 4116 \nL 825 1625 \nL 2419 1625 \nL 2419 4116 \nz\nM 2253 4666 \nL 3047 4666 \nL 3047 1625 \nL 3713 1625 \nL 3713 1100 \nL 3047 1100 \nL 3047 0 \nL 2419 0 \nL 2419 1100 \nL 313 1100 \nL 313 1709 \nL 2253 4666 \nz\n\" id=\"DejaVuSans-34\" transform=\"scale(0.015625)\"/>\n       </defs>\n       <use xlink:href=\"#DejaVuSans-34\"/>\n      </g>\n     </g>\n    </g>\n    <g id=\"xtick_4\">\n     <g id=\"line2d_4\">\n      <g>\n       <use style=\"stroke:#000000;stroke-width:0.8;\" x=\"218.398864\" xlink:href=\"#m5266ec4422\" y=\"224.64\"/>\n      </g>\n     </g>\n     <g id=\"text_4\">\n      <!-- 6 -->\n      <g transform=\"translate(215.217614 239.238437)scale(0.1 -0.1)\">\n       <defs>\n        <path d=\"M 2113 2584 \nQ 1688 2584 1439 2293 \nQ 1191 2003 1191 1497 \nQ 1191 994 1439 701 \nQ 1688 409 2113 409 \nQ 2538 409 2786 701 \nQ 3034 994 3034 1497 \nQ 3034 2003 2786 2293 \nQ 2538 2584 2113 2584 \nz\nM 3366 4563 \nL 3366 3988 \nQ 3128 4100 2886 4159 \nQ 2644 4219 2406 4219 \nQ 1781 4219 1451 3797 \nQ 1122 3375 1075 2522 \nQ 1259 2794 1537 2939 \nQ 1816 3084 2150 3084 \nQ 2853 3084 3261 2657 \nQ 3669 2231 3669 1497 \nQ 3669 778 3244 343 \nQ 2819 -91 2113 -91 \nQ 1303 -91 875 529 \nQ 447 1150 447 2328 \nQ 447 3434 972 4092 \nQ 1497 4750 2381 4750 \nQ 2619 4750 2861 4703 \nQ 3103 4656 3366 4563 \nz\n\" id=\"DejaVuSans-36\" transform=\"scale(0.015625)\"/>\n       </defs>\n       <use xlink:href=\"#DejaVuSans-36\"/>\n      </g>\n     </g>\n    </g>\n    <g id=\"xtick_5\">\n     <g id=\"line2d_5\">\n      <g>\n       <use style=\"stroke:#000000;stroke-width:0.8;\" x=\"279.271591\" xlink:href=\"#m5266ec4422\" y=\"224.64\"/>\n      </g>\n     </g>\n     <g id=\"text_5\">\n      <!-- 8 -->\n      <g transform=\"translate(276.090341 239.238437)scale(0.1 -0.1)\">\n       <defs>\n        <path d=\"M 2034 2216 \nQ 1584 2216 1326 1975 \nQ 1069 1734 1069 1313 \nQ 1069 891 1326 650 \nQ 1584 409 2034 409 \nQ 2484 409 2743 651 \nQ 3003 894 3003 1313 \nQ 3003 1734 2745 1975 \nQ 2488 2216 2034 2216 \nz\nM 1403 2484 \nQ 997 2584 770 2862 \nQ 544 3141 544 3541 \nQ 544 4100 942 4425 \nQ 1341 4750 2034 4750 \nQ 2731 4750 3128 4425 \nQ 3525 4100 3525 3541 \nQ 3525 3141 3298 2862 \nQ 3072 2584 2669 2484 \nQ 3125 2378 3379 2068 \nQ 3634 1759 3634 1313 \nQ 3634 634 3220 271 \nQ 2806 -91 2034 -91 \nQ 1263 -91 848 271 \nQ 434 634 434 1313 \nQ 434 1759 690 2068 \nQ 947 2378 1403 2484 \nz\nM 1172 3481 \nQ 1172 3119 1398 2916 \nQ 1625 2713 2034 2713 \nQ 2441 2713 2670 2916 \nQ 2900 3119 2900 3481 \nQ 2900 3844 2670 4047 \nQ 2441 4250 2034 4250 \nQ 1625 4250 1398 4047 \nQ 1172 3844 1172 3481 \nz\n\" id=\"DejaVuSans-38\" transform=\"scale(0.015625)\"/>\n       </defs>\n       <use xlink:href=\"#DejaVuSans-38\"/>\n      </g>\n     </g>\n    </g>\n    <g id=\"xtick_6\">\n     <g id=\"line2d_6\">\n      <g>\n       <use style=\"stroke:#000000;stroke-width:0.8;\" x=\"340.144318\" xlink:href=\"#m5266ec4422\" y=\"224.64\"/>\n      </g>\n     </g>\n     <g id=\"text_6\">\n      <!-- 10 -->\n      <g transform=\"translate(333.781818 239.238437)scale(0.1 -0.1)\">\n       <defs>\n        <path d=\"M 794 531 \nL 1825 531 \nL 1825 4091 \nL 703 3866 \nL 703 4441 \nL 1819 4666 \nL 2450 4666 \nL 2450 531 \nL 3481 531 \nL 3481 0 \nL 794 0 \nL 794 531 \nz\n\" id=\"DejaVuSans-31\" transform=\"scale(0.015625)\"/>\n       </defs>\n       <use xlink:href=\"#DejaVuSans-31\"/>\n       <use x=\"63.623047\" xlink:href=\"#DejaVuSans-30\"/>\n      </g>\n     </g>\n    </g>\n   </g>\n   <g id=\"matplotlib.axis_2\">\n    <g id=\"ytick_1\">\n     <g id=\"line2d_7\">\n      <defs>\n       <path d=\"M 0 0 \nL -3.5 0 \n\" id=\"m105ec47e16\" style=\"stroke:#000000;stroke-width:0.8;\"/>\n      </defs>\n      <g>\n       <use style=\"stroke:#000000;stroke-width:0.8;\" x=\"20.5625\" xlink:href=\"#m105ec47e16\" y=\"214.756364\"/>\n      </g>\n     </g>\n     <g id=\"text_7\">\n      <!-- 0 -->\n      <g transform=\"translate(7.2 218.555582)scale(0.1 -0.1)\">\n       <use xlink:href=\"#DejaVuSans-30\"/>\n      </g>\n     </g>\n    </g>\n    <g id=\"ytick_2\">\n     <g id=\"line2d_8\">\n      <g>\n       <use style=\"stroke:#000000;stroke-width:0.8;\" x=\"20.5625\" xlink:href=\"#m105ec47e16\" y=\"190.047273\"/>\n      </g>\n     </g>\n     <g id=\"text_8\">\n      <!-- 1 -->\n      <g transform=\"translate(7.2 193.846491)scale(0.1 -0.1)\">\n       <use xlink:href=\"#DejaVuSans-31\"/>\n      </g>\n     </g>\n    </g>\n    <g id=\"ytick_3\">\n     <g id=\"line2d_9\">\n      <g>\n       <use style=\"stroke:#000000;stroke-width:0.8;\" x=\"20.5625\" xlink:href=\"#m105ec47e16\" y=\"165.338182\"/>\n      </g>\n     </g>\n     <g id=\"text_9\">\n      <!-- 2 -->\n      <g transform=\"translate(7.2 169.137401)scale(0.1 -0.1)\">\n       <use xlink:href=\"#DejaVuSans-32\"/>\n      </g>\n     </g>\n    </g>\n    <g id=\"ytick_4\">\n     <g id=\"line2d_10\">\n      <g>\n       <use style=\"stroke:#000000;stroke-width:0.8;\" x=\"20.5625\" xlink:href=\"#m105ec47e16\" y=\"140.629091\"/>\n      </g>\n     </g>\n     <g id=\"text_10\">\n      <!-- 3 -->\n      <g transform=\"translate(7.2 144.42831)scale(0.1 -0.1)\">\n       <defs>\n        <path d=\"M 2597 2516 \nQ 3050 2419 3304 2112 \nQ 3559 1806 3559 1356 \nQ 3559 666 3084 287 \nQ 2609 -91 1734 -91 \nQ 1441 -91 1130 -33 \nQ 819 25 488 141 \nL 488 750 \nQ 750 597 1062 519 \nQ 1375 441 1716 441 \nQ 2309 441 2620 675 \nQ 2931 909 2931 1356 \nQ 2931 1769 2642 2001 \nQ 2353 2234 1838 2234 \nL 1294 2234 \nL 1294 2753 \nL 1863 2753 \nQ 2328 2753 2575 2939 \nQ 2822 3125 2822 3475 \nQ 2822 3834 2567 4026 \nQ 2313 4219 1838 4219 \nQ 1578 4219 1281 4162 \nQ 984 4106 628 3988 \nL 628 4550 \nQ 988 4650 1302 4700 \nQ 1616 4750 1894 4750 \nQ 2613 4750 3031 4423 \nQ 3450 4097 3450 3541 \nQ 3450 3153 3228 2886 \nQ 3006 2619 2597 2516 \nz\n\" id=\"DejaVuSans-33\" transform=\"scale(0.015625)\"/>\n       </defs>\n       <use xlink:href=\"#DejaVuSans-33\"/>\n      </g>\n     </g>\n    </g>\n    <g id=\"ytick_5\">\n     <g id=\"line2d_11\">\n      <g>\n       <use style=\"stroke:#000000;stroke-width:0.8;\" x=\"20.5625\" xlink:href=\"#m105ec47e16\" y=\"115.92\"/>\n      </g>\n     </g>\n     <g id=\"text_11\">\n      <!-- 4 -->\n      <g transform=\"translate(7.2 119.719219)scale(0.1 -0.1)\">\n       <use xlink:href=\"#DejaVuSans-34\"/>\n      </g>\n     </g>\n    </g>\n    <g id=\"ytick_6\">\n     <g id=\"line2d_12\">\n      <g>\n       <use style=\"stroke:#000000;stroke-width:0.8;\" x=\"20.5625\" xlink:href=\"#m105ec47e16\" y=\"91.210909\"/>\n      </g>\n     </g>\n     <g id=\"text_12\">\n      <!-- 5 -->\n      <g transform=\"translate(7.2 95.010128)scale(0.1 -0.1)\">\n       <defs>\n        <path d=\"M 691 4666 \nL 3169 4666 \nL 3169 4134 \nL 1269 4134 \nL 1269 2991 \nQ 1406 3038 1543 3061 \nQ 1681 3084 1819 3084 \nQ 2600 3084 3056 2656 \nQ 3513 2228 3513 1497 \nQ 3513 744 3044 326 \nQ 2575 -91 1722 -91 \nQ 1428 -91 1123 -41 \nQ 819 9 494 109 \nL 494 744 \nQ 775 591 1075 516 \nQ 1375 441 1709 441 \nQ 2250 441 2565 725 \nQ 2881 1009 2881 1497 \nQ 2881 1984 2565 2268 \nQ 2250 2553 1709 2553 \nQ 1456 2553 1204 2497 \nQ 953 2441 691 2322 \nL 691 4666 \nz\n\" id=\"DejaVuSans-35\" transform=\"scale(0.015625)\"/>\n       </defs>\n       <use xlink:href=\"#DejaVuSans-35\"/>\n      </g>\n     </g>\n    </g>\n    <g id=\"ytick_7\">\n     <g id=\"line2d_13\">\n      <g>\n       <use style=\"stroke:#000000;stroke-width:0.8;\" x=\"20.5625\" xlink:href=\"#m105ec47e16\" y=\"66.501818\"/>\n      </g>\n     </g>\n     <g id=\"text_13\">\n      <!-- 6 -->\n      <g transform=\"translate(7.2 70.301037)scale(0.1 -0.1)\">\n       <use xlink:href=\"#DejaVuSans-36\"/>\n      </g>\n     </g>\n    </g>\n    <g id=\"ytick_8\">\n     <g id=\"line2d_14\">\n      <g>\n       <use style=\"stroke:#000000;stroke-width:0.8;\" x=\"20.5625\" xlink:href=\"#m105ec47e16\" y=\"41.792727\"/>\n      </g>\n     </g>\n     <g id=\"text_14\">\n      <!-- 7 -->\n      <g transform=\"translate(7.2 45.591946)scale(0.1 -0.1)\">\n       <defs>\n        <path d=\"M 525 4666 \nL 3525 4666 \nL 3525 4397 \nL 1831 0 \nL 1172 0 \nL 2766 4134 \nL 525 4134 \nL 525 4666 \nz\n\" id=\"DejaVuSans-37\" transform=\"scale(0.015625)\"/>\n       </defs>\n       <use xlink:href=\"#DejaVuSans-37\"/>\n      </g>\n     </g>\n    </g>\n    <g id=\"ytick_9\">\n     <g id=\"line2d_15\">\n      <g>\n       <use style=\"stroke:#000000;stroke-width:0.8;\" x=\"20.5625\" xlink:href=\"#m105ec47e16\" y=\"17.083636\"/>\n      </g>\n     </g>\n     <g id=\"text_15\">\n      <!-- 8 -->\n      <g transform=\"translate(7.2 20.882855)scale(0.1 -0.1)\">\n       <use xlink:href=\"#DejaVuSans-38\"/>\n      </g>\n     </g>\n    </g>\n   </g>\n   <g id=\"patch_3\">\n    <path d=\"M 20.5625 224.64 \nL 20.5625 7.2 \n\" style=\"fill:none;stroke:#000000;stroke-linecap:square;stroke-linejoin:miter;stroke-width:0.8;\"/>\n   </g>\n   <g id=\"patch_4\">\n    <path d=\"M 355.3625 224.64 \nL 355.3625 7.2 \n\" style=\"fill:none;stroke:#000000;stroke-linecap:square;stroke-linejoin:miter;stroke-width:0.8;\"/>\n   </g>\n   <g id=\"patch_5\">\n    <path d=\"M 20.5625 224.64 \nL 355.3625 224.64 \n\" style=\"fill:none;stroke:#000000;stroke-linecap:square;stroke-linejoin:miter;stroke-width:0.8;\"/>\n   </g>\n   <g id=\"patch_6\">\n    <path d=\"M 20.5625 7.2 \nL 355.3625 7.2 \n\" style=\"fill:none;stroke:#000000;stroke-linecap:square;stroke-linejoin:miter;stroke-width:0.8;\"/>\n   </g>\n  </g>\n </g>\n <defs>\n  <clipPath id=\"pb31970aba5\">\n   <rect height=\"217.44\" width=\"334.8\" x=\"20.5625\" y=\"7.2\"/>\n  </clipPath>\n </defs>\n</svg>\n",
      "image/png": "[encoded data removed]"
     },
     "metadata": {
      "needs_background": "light"
     }
    }
   ],
   "source": [
    "import matplotlib.pyplot as plt\n",
    "\n",
    "xs = list()\n",
    "ys = list()\n",
    "for j in range(n):\n",
    "    xs.append(model.getAttr('x', x)[j])\n",
    "    ys.append(model.getAttr('x', y)[j])\n",
    "\n",
    "plt.scatter(xs, ys)\n",
    "plt.scatter(a, b, c='k')\n",
    "print(\"黑色的點是舊的據點，藍色是新的\")\n",
    "\n"
   ]
  },
  {
   "source": [
    "## 2.\n",
    "### (a)\n",
    "令在$x$右邊的點的集合為$R$，在$x$左邊的點的集合為$L$，$W_i$為到點$i$的權重  \n",
    "則$x$每向右$1$單位，相對於每個在右處的點的距離都會下降$1$單位、每個在左處的點的距離都會上升$1$單位，  \n",
    "根據斜率的定義：$x$每向右一單位，$f(x)$的改變量  \n",
    "可以得知，以每個點的相對改變量乘上$W_i$的和就是斜率：$\\displaystyle{\\text{slope} = \\sum_{i \\in L}W_i - \\sum_{i \\in R}W_i}$  \n",
    "\n",
    "### (b)\n",
    "因為這是一個convex function，亦即函數上的任意兩點連線段必在函數的上方，所以最佳解所在的位置會在斜率的正負號轉折之處(Optimality properties is because of the convexity of the function)，綜合(a)題的結論，我們知道函數的最低點必定是向右的weight與向左的weight抵銷到為$0$的情況，也就是在這個點才會發生斜率的正負號轉折。\n",
    "\n",
    "\n",
    "\n"
   ],
   "cell_type": "markdown",
   "metadata": {}
  },
  {
   "source": [
    "## 3.\n",
    "4個長為8寬為16、5個長為9寬為9、3個長為18寬為3的長方形\n",
    "### (a)\n"
   ],
   "cell_type": "markdown",
   "metadata": {}
  },
  {
   "source": [
    "#### Variables\n",
    "$x$：總所需面積的$x$軸長度  \n",
    "$y$：總所需面積的$y$軸長度  \n",
    "$x_i^\\prime$：長方形$i$的中心點和原點沿著$x$軸的距離，$i \\in \\text{rectangles}$  \n",
    "$y_i^\\prime$：長方形$i$的中心點和原點沿著$y$軸的距離，$i \\in \\text{rectangles}$  \n",
    "$s_i$：長方形$i$的方向，$1$為$p$軸平行$x$軸，$0$為$p$軸平行$y$軸，$i \\in \\text{rectangles}$  \n",
    "$u_{ik}, v_{ik}$：分別表示長方形$i$與長方形$k$之間的平行與垂直相對位置，$i, k \\in \\text{rectangles}, i \\neq k$  \n",
    "$\\alpha^X_j, \\beta^X_j$：對$\\text{ln }x$線性化所需的變數，$2 \\leq j \\leq m^X$  \n",
    "$\\alpha^Y_j, \\beta^Y_j$：對$\\text{ln }y$線性化所需的變數，$2 \\leq j \\leq m^Y$  \n",
    "\n",
    "\n",
    "#### Model\n",
    "$\\displaystyle{\\text{min } \\text{ln }a_1 + t^X_1(x - a_1) + \\sum_{j=2}^{m^X-1}(t^X_j - t^X_{j-1})(a_j \\alpha^X_j + x - a_j - \\beta^X_j) + \\text{ln }b_1 + t^Y_1(y - b_1) + \\sum_{j=2}^{m^Y-1}(t^Y_j - t^Y_{j-1})(b_j \\alpha^Y_j + y - b_j - \\beta^Y_j)}$  \n",
    "$\\text{s.t.}$  \n",
    "$- \\bar{x} \\alpha^X_j \\leq x - a_j \\leq \\bar{x}(1 - \\alpha^X_j)$  \n",
    "$- \\bar{x} \\alpha^X_j \\leq \\beta^X_j \\leq \\bar{x} \\alpha^X_{j} $  \n",
    "$\\bar{x} (\\alpha^X_j - 1) + x \\leq \\beta^X_j \\leq \\bar{x} (1 - \\alpha^X_j) + x $  \n",
    "$\\alpha^X_j \\geq \\alpha^X_{j-1}$  \n",
    "$\\forall 2 \\leq j \\leq m^X$  \n",
    "  \n",
    "$- \\bar{y} \\alpha^Y_j \\leq y - b_j \\leq \\bar{y}(1 - \\alpha^Y_j)$  \n",
    "$- \\bar{y} \\alpha^Y_j \\leq \\beta^Y_j \\leq \\bar{y} \\alpha^Y_{j} $  \n",
    "$\\bar{y} (\\alpha^Y_j - 1) + y \\leq \\beta^Y_j \\leq \\bar{y} (1 - \\alpha^Y_j) + y $  \n",
    "$\\alpha^Y_j \\geq \\alpha^Y_{j-1}$  \n",
    "$\\forall 2 \\leq j \\leq m^Y$  \n",
    "  \n",
    "$(x^\\prime_i - x^\\prime_k) + u_{ik} \\bar{x} + v_{ik} \\bar{x} \\geq \\frac{1}{2} (p_i s_i + q_i (1-s_i) + p_k s_k + q_k (1-s_k)), \\forall i,k \\in \\text{rectangles} $  \n",
    "$(x^\\prime_k - x^\\prime_i) + (1 - u_{ik}) \\bar{x} + v_{ik} \\bar{x} \\geq \\frac{1}{2} (p_i s_i + q_i (1-s_i) + p_k s_k + q_k (1-s_k)), \\forall i,k \\in \\text{rectangles} $  \n",
    "$(y^\\prime_i - y^\\prime_k) + u_{ik} \\bar{y} + (1 - v_{ik}) \\bar{y} \\geq \\frac{1}{2} (p_i (1 - s_i) + q_i s_i + p_k (1 - s_k) + q_k s_k), \\forall i,k \\in \\text{rectangles} $  \n",
    "$(y^\\prime_k - y^\\prime_i) + (1 - u_{ik}) \\bar{y} + (1 - v_{ik}) \\bar{y} \\geq \\frac{1}{2} (p_i (1 - s_i) + q_i s_i + p_k (1 - s_k) + q_k s_k), \\forall i,k \\in \\text{rectangles} $  \n",
    "  \n",
    "$\\bar{x} \\geq x \\geq x^\\prime_i + \\frac{1}{2}(p_i s_i + q_i (1-s_i)), \\forall i \\in \\text{rectangles} $  \n",
    "$\\bar{y} \\geq y \\geq y^\\prime_i + \\frac{1}{2}(p_i (1-s_i) + q_i s_i), \\forall i \\in \\text{rectangles} $  \n",
    "$x^\\prime_i - \\frac{1}{2}(p_i s_i + q_i (1-s_i)) \\geq 0, \\forall i \\in \\text{rectangles} $  \n",
    "$y^\\prime_i - \\frac{1}{2}(p_i (1-s_i) + q_i s_i) \\geq 0, \\forall i \\in \\text{rectangles} $\n",
    "\n",
    "\n",
    "  \n",
    "  \n",
    "$s_i, u_{ik}, v_{ik}, \\alpha^X_j, \\alpha^Y_j \\in \\{0, 1\\}, \\text{else all varialbes} \\geq 0$  \n"
   ],
   "cell_type": "markdown",
   "metadata": {}
  },
  {
   "source": [
    "### (b)"
   ],
   "cell_type": "markdown",
   "metadata": {}
  },
  {
   "cell_type": "code",
   "execution_count": 1,
   "metadata": {},
   "outputs": [],
   "source": [
    "import gurobipy as gp\n",
    "from gurobipy import GRB\n",
    "import matplotlib.pyplot as plt\n",
    "import math\n",
    "import numpy as np\n",
    "P = [8] * 4 + [9] * 5 + [18] * 3\n",
    "Q = [16] * 4 + [9] * 5 + [3] * 3\n",
    "x_bar = 18 * 3 + 9 * 5 + 16 * 4\n",
    "y_bar = 18 * 3 + 9 * 5 + 16 * 4\n",
    "\n",
    "J = len(P)\n",
    "m_X = 10\n",
    "m_Y = 10"
   ]
  },
  {
   "cell_type": "code",
   "execution_count": 2,
   "metadata": {},
   "outputs": [
    {
     "output_type": "execute_result",
     "data": {
      "text/plain": [
       "<matplotlib.collections.PathCollection at 0x7f6e09c3f910>"
      ]
     },
     "metadata": {},
     "execution_count": 2
    },
    {
     "output_type": "display_data",
     "data": {
      "text/plain": "<Figure size 432x288 with 1 Axes>",
      "image/svg+xml": "<?xml version=\"1.0\" encoding=\"utf-8\" standalone=\"no\"?>\n<!DOCTYPE svg PUBLIC \"-//W3C//DTD SVG 1.1//EN\"\n  \"http://www.w3.org/Graphics/SVG/1.1/DTD/svg11.dtd\">\n<svg height=\"248.518125pt\" version=\"1.1\" viewBox=\"0 0 372.103125 248.518125\" width=\"372.103125pt\" xmlns=\"http://www.w3.org/2000/svg\" xmlns:xlink=\"http://www.w3.org/1999/xlink\">\n <metadata>\n  <rdf:RDF xmlns:cc=\"http://creativecommons.org/ns#\" xmlns:dc=\"http://purl.org/dc/elements/1.1/\" xmlns:rdf=\"http://www.w3.org/1999/02/22-rdf-syntax-ns#\">\n   <cc:Work>\n    <dc:type rdf:resource=\"http://purl.org/dc/dcmitype/StillImage\"/>\n    <dc:date>2021-04-27T11:44:17.386360</dc:date>\n    <dc:format>image/svg+xml</dc:format>\n    <dc:creator>\n     <cc:Agent>\n      <dc:title>Matplotlib v3.4.1, https://matplotlib.org/</dc:title>\n     </cc:Agent>\n    </dc:creator>\n   </cc:Work>\n  </rdf:RDF>\n </metadata>\n <defs>\n  <style type=\"text/css\">*{stroke-linecap:butt;stroke-linejoin:round;}</style>\n </defs>\n <g id=\"figure_1\">\n  <g id=\"patch_1\">\n   <path d=\"M 0 248.518125 \nL 372.103125 248.518125 \nL 372.103125 0 \nL 0 0 \nz\n\" style=\"fill:none;\"/>\n  </g>\n  <g id=\"axes_1\">\n   <g id=\"patch_2\">\n    <path d=\"M 30.103125 224.64 \nL 364.903125 224.64 \nL 364.903125 7.2 \nL 30.103125 7.2 \nz\n\" style=\"fill:#ffffff;\"/>\n   </g>\n   <g id=\"PathCollection_1\">\n    <defs>\n     <path d=\"M 0 3 \nC 0.795609 3 1.55874 2.683901 2.12132 2.12132 \nC 2.683901 1.55874 3 0.795609 3 0 \nC 3 -0.795609 2.683901 -1.55874 2.12132 -2.12132 \nC 1.55874 -2.683901 0.795609 -3 0 -3 \nC -0.795609 -3 -1.55874 -2.683901 -2.12132 -2.12132 \nC -2.683901 -1.55874 -3 -0.795609 -3 0 \nC -3 0.795609 -2.683901 1.55874 -2.12132 2.12132 \nC -1.55874 2.683901 -0.795609 3 0 3 \nz\n\" id=\"m97f4b51f9c\" style=\"stroke:#1f77b4;\"/>\n    </defs>\n    <g clip-path=\"url(#p526376ed56)\">\n     <use style=\"fill:#1f77b4;stroke:#1f77b4;\" x=\"45.321307\" xlink:href=\"#m97f4b51f9c\" y=\"214.756364\"/>\n     <use style=\"fill:#1f77b4;stroke:#1f77b4;\" x=\"79.139489\" xlink:href=\"#m97f4b51f9c\" y=\"119.002361\"/>\n     <use style=\"fill:#1f77b4;stroke:#1f77b4;\" x=\"112.95767\" xlink:href=\"#m97f4b51f9c\" y=\"88.414062\"/>\n     <use style=\"fill:#1f77b4;stroke:#1f77b4;\" x=\"146.775852\" xlink:href=\"#m97f4b51f9c\" y=\"69.652563\"/>\n     <use style=\"fill:#1f77b4;stroke:#1f77b4;\" x=\"180.594034\" xlink:href=\"#m97f4b51f9c\" y=\"56.081696\"/>\n     <use style=\"fill:#1f77b4;stroke:#1f77b4;\" x=\"214.412216\" xlink:href=\"#m97f4b51f9c\" y=\"45.443131\"/>\n     <use style=\"fill:#1f77b4;stroke:#1f77b4;\" x=\"248.230398\" xlink:href=\"#m97f4b51f9c\" y=\"36.692131\"/>\n     <use style=\"fill:#1f77b4;stroke:#1f77b4;\" x=\"282.04858\" xlink:href=\"#m97f4b51f9c\" y=\"29.258751\"/>\n     <use style=\"fill:#1f77b4;stroke:#1f77b4;\" x=\"315.866761\" xlink:href=\"#m97f4b51f9c\" y=\"22.797644\"/>\n     <use style=\"fill:#1f77b4;stroke:#1f77b4;\" x=\"349.684943\" xlink:href=\"#m97f4b51f9c\" y=\"17.083636\"/>\n    </g>\n   </g>\n   <g id=\"matplotlib.axis_1\">\n    <g id=\"xtick_1\">\n     <g id=\"line2d_1\">\n      <defs>\n       <path d=\"M 0 0 \nL 0 3.5 \n\" id=\"m4915077900\" style=\"stroke:#000000;stroke-width:0.8;\"/>\n      </defs>\n      <g>\n       <use style=\"stroke:#000000;stroke-width:0.8;\" x=\"39.614489\" xlink:href=\"#m4915077900\" y=\"224.64\"/>\n      </g>\n     </g>\n     <g id=\"text_1\">\n      <!-- 0 -->\n      <g transform=\"translate(36.433239 239.238437)scale(0.1 -0.1)\">\n       <defs>\n        <path d=\"M 2034 4250 \nQ 1547 4250 1301 3770 \nQ 1056 3291 1056 2328 \nQ 1056 1369 1301 889 \nQ 1547 409 2034 409 \nQ 2525 409 2770 889 \nQ 3016 1369 3016 2328 \nQ 3016 3291 2770 3770 \nQ 2525 4250 2034 4250 \nz\nM 2034 4750 \nQ 2819 4750 3233 4129 \nQ 3647 3509 3647 2328 \nQ 3647 1150 3233 529 \nQ 2819 -91 2034 -91 \nQ 1250 -91 836 529 \nQ 422 1150 422 2328 \nQ 422 3509 836 4129 \nQ 1250 4750 2034 4750 \nz\n\" id=\"DejaVuSans-30\" transform=\"scale(0.015625)\"/>\n       </defs>\n       <use xlink:href=\"#DejaVuSans-30\"/>\n      </g>\n     </g>\n    </g>\n    <g id=\"xtick_2\">\n     <g id=\"line2d_2\">\n      <g>\n       <use style=\"stroke:#000000;stroke-width:0.8;\" x=\"77.659943\" xlink:href=\"#m4915077900\" y=\"224.64\"/>\n      </g>\n     </g>\n     <g id=\"text_2\">\n      <!-- 20 -->\n      <g transform=\"translate(71.297443 239.238437)scale(0.1 -0.1)\">\n       <defs>\n        <path d=\"M 1228 531 \nL 3431 531 \nL 3431 0 \nL 469 0 \nL 469 531 \nQ 828 903 1448 1529 \nQ 2069 2156 2228 2338 \nQ 2531 2678 2651 2914 \nQ 2772 3150 2772 3378 \nQ 2772 3750 2511 3984 \nQ 2250 4219 1831 4219 \nQ 1534 4219 1204 4116 \nQ 875 4013 500 3803 \nL 500 4441 \nQ 881 4594 1212 4672 \nQ 1544 4750 1819 4750 \nQ 2544 4750 2975 4387 \nQ 3406 4025 3406 3419 \nQ 3406 3131 3298 2873 \nQ 3191 2616 2906 2266 \nQ 2828 2175 2409 1742 \nQ 1991 1309 1228 531 \nz\n\" id=\"DejaVuSans-32\" transform=\"scale(0.015625)\"/>\n       </defs>\n       <use xlink:href=\"#DejaVuSans-32\"/>\n       <use x=\"63.623047\" xlink:href=\"#DejaVuSans-30\"/>\n      </g>\n     </g>\n    </g>\n    <g id=\"xtick_3\">\n     <g id=\"line2d_3\">\n      <g>\n       <use style=\"stroke:#000000;stroke-width:0.8;\" x=\"115.705398\" xlink:href=\"#m4915077900\" y=\"224.64\"/>\n      </g>\n     </g>\n     <g id=\"text_3\">\n      <!-- 40 -->\n      <g transform=\"translate(109.342898 239.238437)scale(0.1 -0.1)\">\n       <defs>\n        <path d=\"M 2419 4116 \nL 825 1625 \nL 2419 1625 \nL 2419 4116 \nz\nM 2253 4666 \nL 3047 4666 \nL 3047 1625 \nL 3713 1625 \nL 3713 1100 \nL 3047 1100 \nL 3047 0 \nL 2419 0 \nL 2419 1100 \nL 313 1100 \nL 313 1709 \nL 2253 4666 \nz\n\" id=\"DejaVuSans-34\" transform=\"scale(0.015625)\"/>\n       </defs>\n       <use xlink:href=\"#DejaVuSans-34\"/>\n       <use x=\"63.623047\" xlink:href=\"#DejaVuSans-30\"/>\n      </g>\n     </g>\n    </g>\n    <g id=\"xtick_4\">\n     <g id=\"line2d_4\">\n      <g>\n       <use style=\"stroke:#000000;stroke-width:0.8;\" x=\"153.750852\" xlink:href=\"#m4915077900\" y=\"224.64\"/>\n      </g>\n     </g>\n     <g id=\"text_4\">\n      <!-- 60 -->\n      <g transform=\"translate(147.388352 239.238437)scale(0.1 -0.1)\">\n       <defs>\n        <path d=\"M 2113 2584 \nQ 1688 2584 1439 2293 \nQ 1191 2003 1191 1497 \nQ 1191 994 1439 701 \nQ 1688 409 2113 409 \nQ 2538 409 2786 701 \nQ 3034 994 3034 1497 \nQ 3034 2003 2786 2293 \nQ 2538 2584 2113 2584 \nz\nM 3366 4563 \nL 3366 3988 \nQ 3128 4100 2886 4159 \nQ 2644 4219 2406 4219 \nQ 1781 4219 1451 3797 \nQ 1122 3375 1075 2522 \nQ 1259 2794 1537 2939 \nQ 1816 3084 2150 3084 \nQ 2853 3084 3261 2657 \nQ 3669 2231 3669 1497 \nQ 3669 778 3244 343 \nQ 2819 -91 2113 -91 \nQ 1303 -91 875 529 \nQ 447 1150 447 2328 \nQ 447 3434 972 4092 \nQ 1497 4750 2381 4750 \nQ 2619 4750 2861 4703 \nQ 3103 4656 3366 4563 \nz\n\" id=\"DejaVuSans-36\" transform=\"scale(0.015625)\"/>\n       </defs>\n       <use xlink:href=\"#DejaVuSans-36\"/>\n       <use x=\"63.623047\" xlink:href=\"#DejaVuSans-30\"/>\n      </g>\n     </g>\n    </g>\n    <g id=\"xtick_5\">\n     <g id=\"line2d_5\">\n      <g>\n       <use style=\"stroke:#000000;stroke-width:0.8;\" x=\"191.796307\" xlink:href=\"#m4915077900\" y=\"224.64\"/>\n      </g>\n     </g>\n     <g id=\"text_5\">\n      <!-- 80 -->\n      <g transform=\"translate(185.433807 239.238437)scale(0.1 -0.1)\">\n       <defs>\n        <path d=\"M 2034 2216 \nQ 1584 2216 1326 1975 \nQ 1069 1734 1069 1313 \nQ 1069 891 1326 650 \nQ 1584 409 2034 409 \nQ 2484 409 2743 651 \nQ 3003 894 3003 1313 \nQ 3003 1734 2745 1975 \nQ 2488 2216 2034 2216 \nz\nM 1403 2484 \nQ 997 2584 770 2862 \nQ 544 3141 544 3541 \nQ 544 4100 942 4425 \nQ 1341 4750 2034 4750 \nQ 2731 4750 3128 4425 \nQ 3525 4100 3525 3541 \nQ 3525 3141 3298 2862 \nQ 3072 2584 2669 2484 \nQ 3125 2378 3379 2068 \nQ 3634 1759 3634 1313 \nQ 3634 634 3220 271 \nQ 2806 -91 2034 -91 \nQ 1263 -91 848 271 \nQ 434 634 434 1313 \nQ 434 1759 690 2068 \nQ 947 2378 1403 2484 \nz\nM 1172 3481 \nQ 1172 3119 1398 2916 \nQ 1625 2713 2034 2713 \nQ 2441 2713 2670 2916 \nQ 2900 3119 2900 3481 \nQ 2900 3844 2670 4047 \nQ 2441 4250 2034 4250 \nQ 1625 4250 1398 4047 \nQ 1172 3844 1172 3481 \nz\n\" id=\"DejaVuSans-38\" transform=\"scale(0.015625)\"/>\n       </defs>\n       <use xlink:href=\"#DejaVuSans-38\"/>\n       <use x=\"63.623047\" xlink:href=\"#DejaVuSans-30\"/>\n      </g>\n     </g>\n    </g>\n    <g id=\"xtick_6\">\n     <g id=\"line2d_6\">\n      <g>\n       <use style=\"stroke:#000000;stroke-width:0.8;\" x=\"229.841761\" xlink:href=\"#m4915077900\" y=\"224.64\"/>\n      </g>\n     </g>\n     <g id=\"text_6\">\n      <!-- 100 -->\n      <g transform=\"translate(220.298011 239.238437)scale(0.1 -0.1)\">\n       <defs>\n        <path d=\"M 794 531 \nL 1825 531 \nL 1825 4091 \nL 703 3866 \nL 703 4441 \nL 1819 4666 \nL 2450 4666 \nL 2450 531 \nL 3481 531 \nL 3481 0 \nL 794 0 \nL 794 531 \nz\n\" id=\"DejaVuSans-31\" transform=\"scale(0.015625)\"/>\n       </defs>\n       <use xlink:href=\"#DejaVuSans-31\"/>\n       <use x=\"63.623047\" xlink:href=\"#DejaVuSans-30\"/>\n       <use x=\"127.246094\" xlink:href=\"#DejaVuSans-30\"/>\n      </g>\n     </g>\n    </g>\n    <g id=\"xtick_7\">\n     <g id=\"line2d_7\">\n      <g>\n       <use style=\"stroke:#000000;stroke-width:0.8;\" x=\"267.887216\" xlink:href=\"#m4915077900\" y=\"224.64\"/>\n      </g>\n     </g>\n     <g id=\"text_7\">\n      <!-- 120 -->\n      <g transform=\"translate(258.343466 239.238437)scale(0.1 -0.1)\">\n       <use xlink:href=\"#DejaVuSans-31\"/>\n       <use x=\"63.623047\" xlink:href=\"#DejaVuSans-32\"/>\n       <use x=\"127.246094\" xlink:href=\"#DejaVuSans-30\"/>\n      </g>\n     </g>\n    </g>\n    <g id=\"xtick_8\">\n     <g id=\"line2d_8\">\n      <g>\n       <use style=\"stroke:#000000;stroke-width:0.8;\" x=\"305.93267\" xlink:href=\"#m4915077900\" y=\"224.64\"/>\n      </g>\n     </g>\n     <g id=\"text_8\">\n      <!-- 140 -->\n      <g transform=\"translate(296.38892 239.238437)scale(0.1 -0.1)\">\n       <use xlink:href=\"#DejaVuSans-31\"/>\n       <use x=\"63.623047\" xlink:href=\"#DejaVuSans-34\"/>\n       <use x=\"127.246094\" xlink:href=\"#DejaVuSans-30\"/>\n      </g>\n     </g>\n    </g>\n    <g id=\"xtick_9\">\n     <g id=\"line2d_9\">\n      <g>\n       <use style=\"stroke:#000000;stroke-width:0.8;\" x=\"343.978125\" xlink:href=\"#m4915077900\" y=\"224.64\"/>\n      </g>\n     </g>\n     <g id=\"text_9\">\n      <!-- 160 -->\n      <g transform=\"translate(334.434375 239.238437)scale(0.1 -0.1)\">\n       <use xlink:href=\"#DejaVuSans-31\"/>\n       <use x=\"63.623047\" xlink:href=\"#DejaVuSans-36\"/>\n       <use x=\"127.246094\" xlink:href=\"#DejaVuSans-30\"/>\n      </g>\n     </g>\n    </g>\n   </g>\n   <g id=\"matplotlib.axis_2\">\n    <g id=\"ytick_1\">\n     <g id=\"line2d_10\">\n      <defs>\n       <path d=\"M 0 0 \nL -3.5 0 \n\" id=\"m620b24c083\" style=\"stroke:#000000;stroke-width:0.8;\"/>\n      </defs>\n      <g>\n       <use style=\"stroke:#000000;stroke-width:0.8;\" x=\"30.103125\" xlink:href=\"#m620b24c083\" y=\"219.635534\"/>\n      </g>\n     </g>\n     <g id=\"text_10\">\n      <!-- 1.0 -->\n      <g transform=\"translate(7.2 223.434753)scale(0.1 -0.1)\">\n       <defs>\n        <path d=\"M 684 794 \nL 1344 794 \nL 1344 0 \nL 684 0 \nL 684 794 \nz\n\" id=\"DejaVuSans-2e\" transform=\"scale(0.015625)\"/>\n       </defs>\n       <use xlink:href=\"#DejaVuSans-31\"/>\n       <use x=\"63.623047\" xlink:href=\"#DejaVuSans-2e\"/>\n       <use x=\"95.410156\" xlink:href=\"#DejaVuSans-30\"/>\n      </g>\n     </g>\n    </g>\n    <g id=\"ytick_2\">\n     <g id=\"line2d_11\">\n      <g>\n       <use style=\"stroke:#000000;stroke-width:0.8;\" x=\"30.103125\" xlink:href=\"#m620b24c083\" y=\"194.896372\"/>\n      </g>\n     </g>\n     <g id=\"text_11\">\n      <!-- 1.5 -->\n      <g transform=\"translate(7.2 198.695591)scale(0.1 -0.1)\">\n       <defs>\n        <path d=\"M 691 4666 \nL 3169 4666 \nL 3169 4134 \nL 1269 4134 \nL 1269 2991 \nQ 1406 3038 1543 3061 \nQ 1681 3084 1819 3084 \nQ 2600 3084 3056 2656 \nQ 3513 2228 3513 1497 \nQ 3513 744 3044 326 \nQ 2575 -91 1722 -91 \nQ 1428 -91 1123 -41 \nQ 819 9 494 109 \nL 494 744 \nQ 775 591 1075 516 \nQ 1375 441 1709 441 \nQ 2250 441 2565 725 \nQ 2881 1009 2881 1497 \nQ 2881 1984 2565 2268 \nQ 2250 2553 1709 2553 \nQ 1456 2553 1204 2497 \nQ 953 2441 691 2322 \nL 691 4666 \nz\n\" id=\"DejaVuSans-35\" transform=\"scale(0.015625)\"/>\n       </defs>\n       <use xlink:href=\"#DejaVuSans-31\"/>\n       <use x=\"63.623047\" xlink:href=\"#DejaVuSans-2e\"/>\n       <use x=\"95.410156\" xlink:href=\"#DejaVuSans-35\"/>\n      </g>\n     </g>\n    </g>\n    <g id=\"ytick_3\">\n     <g id=\"line2d_12\">\n      <g>\n       <use style=\"stroke:#000000;stroke-width:0.8;\" x=\"30.103125\" xlink:href=\"#m620b24c083\" y=\"170.157211\"/>\n      </g>\n     </g>\n     <g id=\"text_12\">\n      <!-- 2.0 -->\n      <g transform=\"translate(7.2 173.956429)scale(0.1 -0.1)\">\n       <use xlink:href=\"#DejaVuSans-32\"/>\n       <use x=\"63.623047\" xlink:href=\"#DejaVuSans-2e\"/>\n       <use x=\"95.410156\" xlink:href=\"#DejaVuSans-30\"/>\n      </g>\n     </g>\n    </g>\n    <g id=\"ytick_4\">\n     <g id=\"line2d_13\">\n      <g>\n       <use style=\"stroke:#000000;stroke-width:0.8;\" x=\"30.103125\" xlink:href=\"#m620b24c083\" y=\"145.418049\"/>\n      </g>\n     </g>\n     <g id=\"text_13\">\n      <!-- 2.5 -->\n      <g transform=\"translate(7.2 149.217267)scale(0.1 -0.1)\">\n       <use xlink:href=\"#DejaVuSans-32\"/>\n       <use x=\"63.623047\" xlink:href=\"#DejaVuSans-2e\"/>\n       <use x=\"95.410156\" xlink:href=\"#DejaVuSans-35\"/>\n      </g>\n     </g>\n    </g>\n    <g id=\"ytick_5\">\n     <g id=\"line2d_14\">\n      <g>\n       <use style=\"stroke:#000000;stroke-width:0.8;\" x=\"30.103125\" xlink:href=\"#m620b24c083\" y=\"120.678887\"/>\n      </g>\n     </g>\n     <g id=\"text_14\">\n      <!-- 3.0 -->\n      <g transform=\"translate(7.2 124.478106)scale(0.1 -0.1)\">\n       <defs>\n        <path d=\"M 2597 2516 \nQ 3050 2419 3304 2112 \nQ 3559 1806 3559 1356 \nQ 3559 666 3084 287 \nQ 2609 -91 1734 -91 \nQ 1441 -91 1130 -33 \nQ 819 25 488 141 \nL 488 750 \nQ 750 597 1062 519 \nQ 1375 441 1716 441 \nQ 2309 441 2620 675 \nQ 2931 909 2931 1356 \nQ 2931 1769 2642 2001 \nQ 2353 2234 1838 2234 \nL 1294 2234 \nL 1294 2753 \nL 1863 2753 \nQ 2328 2753 2575 2939 \nQ 2822 3125 2822 3475 \nQ 2822 3834 2567 4026 \nQ 2313 4219 1838 4219 \nQ 1578 4219 1281 4162 \nQ 984 4106 628 3988 \nL 628 4550 \nQ 988 4650 1302 4700 \nQ 1616 4750 1894 4750 \nQ 2613 4750 3031 4423 \nQ 3450 4097 3450 3541 \nQ 3450 3153 3228 2886 \nQ 3006 2619 2597 2516 \nz\n\" id=\"DejaVuSans-33\" transform=\"scale(0.015625)\"/>\n       </defs>\n       <use xlink:href=\"#DejaVuSans-33\"/>\n       <use x=\"63.623047\" xlink:href=\"#DejaVuSans-2e\"/>\n       <use x=\"95.410156\" xlink:href=\"#DejaVuSans-30\"/>\n      </g>\n     </g>\n    </g>\n    <g id=\"ytick_6\">\n     <g id=\"line2d_15\">\n      <g>\n       <use style=\"stroke:#000000;stroke-width:0.8;\" x=\"30.103125\" xlink:href=\"#m620b24c083\" y=\"95.939725\"/>\n      </g>\n     </g>\n     <g id=\"text_15\">\n      <!-- 3.5 -->\n      <g transform=\"translate(7.2 99.738944)scale(0.1 -0.1)\">\n       <use xlink:href=\"#DejaVuSans-33\"/>\n       <use x=\"63.623047\" xlink:href=\"#DejaVuSans-2e\"/>\n       <use x=\"95.410156\" xlink:href=\"#DejaVuSans-35\"/>\n      </g>\n     </g>\n    </g>\n    <g id=\"ytick_7\">\n     <g id=\"line2d_16\">\n      <g>\n       <use style=\"stroke:#000000;stroke-width:0.8;\" x=\"30.103125\" xlink:href=\"#m620b24c083\" y=\"71.200563\"/>\n      </g>\n     </g>\n     <g id=\"text_16\">\n      <!-- 4.0 -->\n      <g transform=\"translate(7.2 74.999782)scale(0.1 -0.1)\">\n       <use xlink:href=\"#DejaVuSans-34\"/>\n       <use x=\"63.623047\" xlink:href=\"#DejaVuSans-2e\"/>\n       <use x=\"95.410156\" xlink:href=\"#DejaVuSans-30\"/>\n      </g>\n     </g>\n    </g>\n    <g id=\"ytick_8\">\n     <g id=\"line2d_17\">\n      <g>\n       <use style=\"stroke:#000000;stroke-width:0.8;\" x=\"30.103125\" xlink:href=\"#m620b24c083\" y=\"46.461401\"/>\n      </g>\n     </g>\n     <g id=\"text_17\">\n      <!-- 4.5 -->\n      <g transform=\"translate(7.2 50.26062)scale(0.1 -0.1)\">\n       <use xlink:href=\"#DejaVuSans-34\"/>\n       <use x=\"63.623047\" xlink:href=\"#DejaVuSans-2e\"/>\n       <use x=\"95.410156\" xlink:href=\"#DejaVuSans-35\"/>\n      </g>\n     </g>\n    </g>\n    <g id=\"ytick_9\">\n     <g id=\"line2d_18\">\n      <g>\n       <use style=\"stroke:#000000;stroke-width:0.8;\" x=\"30.103125\" xlink:href=\"#m620b24c083\" y=\"21.722239\"/>\n      </g>\n     </g>\n     <g id=\"text_18\">\n      <!-- 5.0 -->\n      <g transform=\"translate(7.2 25.521458)scale(0.1 -0.1)\">\n       <use xlink:href=\"#DejaVuSans-35\"/>\n       <use x=\"63.623047\" xlink:href=\"#DejaVuSans-2e\"/>\n       <use x=\"95.410156\" xlink:href=\"#DejaVuSans-30\"/>\n      </g>\n     </g>\n    </g>\n   </g>\n   <g id=\"patch_3\">\n    <path d=\"M 30.103125 224.64 \nL 30.103125 7.2 \n\" style=\"fill:none;stroke:#000000;stroke-linecap:square;stroke-linejoin:miter;stroke-width:0.8;\"/>\n   </g>\n   <g id=\"patch_4\">\n    <path d=\"M 364.903125 224.64 \nL 364.903125 7.2 \n\" style=\"fill:none;stroke:#000000;stroke-linecap:square;stroke-linejoin:miter;stroke-width:0.8;\"/>\n   </g>\n   <g id=\"patch_5\">\n    <path d=\"M 30.103125 224.64 \nL 364.903125 224.64 \n\" style=\"fill:none;stroke:#000000;stroke-linecap:square;stroke-linejoin:miter;stroke-width:0.8;\"/>\n   </g>\n   <g id=\"patch_6\">\n    <path d=\"M 30.103125 7.2 \nL 364.903125 7.2 \n\" style=\"fill:none;stroke:#000000;stroke-linecap:square;stroke-linejoin:miter;stroke-width:0.8;\"/>\n   </g>\n  </g>\n </g>\n <defs>\n  <clipPath id=\"p526376ed56\">\n   <rect height=\"217.44\" width=\"334.8\" x=\"30.103125\" y=\"7.2\"/>\n  </clipPath>\n </defs>\n</svg>\n",
      "image/png": "[encoded data removed]"
     },
     "metadata": {
      "needs_background": "light"
     }
    }
   ],
   "source": [
    "a = list()\n",
    "ln_a = list()\n",
    "for _ in np.linspace(3, x_bar, num=m_X):\n",
    "    a.append(_)\n",
    "    ln_a.append(math.log(_))\n",
    "\n",
    "b = list()\n",
    "ln_b = list()\n",
    "for _ in np.linspace(3, y_bar, num=m_Y):\n",
    "    b.append(_)\n",
    "    ln_b.append(math.log(_))\n",
    "\n",
    "t_X = list()\n",
    "for j in range(0, m_X-1):\n",
    "    t_X.append((ln_a[j+1] - ln_a[j]) / (a[j+1] - a[j]))\n",
    "\n",
    "t_Y = list()\n",
    "for j in range(0, m_Y-1):\n",
    "    t_Y.append((ln_b[j+1] - ln_b[j]) / (b[j+1] - b[j]))\n",
    "\n",
    "plt.scatter(a, ln_a)\n",
    "\n",
    "\n"
   ]
  },
  {
   "cell_type": "code",
   "execution_count": 3,
   "metadata": {},
   "outputs": [
    {
     "output_type": "stream",
     "name": "stdout",
     "text": [
      "Academic license - for non-commercial use only - expires 2021-05-28\n",
      "Using license file /home/cu2189191862/gurobi.lic\n",
      "Changed value of parameter TimeLimit to 300.0\n",
      "   Prev: inf  Min: 0.0  Max: inf  Default: inf\n"
     ]
    }
   ],
   "source": [
    "model = gp.Model(\"cutting_stock\")\n",
    "model.setParam('TimeLimit', 5*60)"
   ]
  },
  {
   "cell_type": "code",
   "execution_count": 4,
   "metadata": {},
   "outputs": [],
   "source": [
    "x = model.addVar(lb=0.0, ub=float('inf'), vtype=GRB.CONTINUOUS, name=\"x\")\n",
    "y = model.addVar(lb=0.0, ub=float('inf'), vtype=GRB.CONTINUOUS, name=\"y\")\n",
    "x_prime = model.addVars(J, lb=0.0, ub=float('inf'), vtype=GRB.CONTINUOUS, name=\"x_prime\")\n",
    "y_prime = model.addVars(J, lb=0.0, ub=float('inf'), vtype=GRB.CONTINUOUS, name=\"y_prime\")\n",
    "s = model.addVars(J, vtype=GRB.BINARY, name=\"s\")\n",
    "u = model.addVars(J, J, vtype=GRB.BINARY, name=\"u\")\n",
    "v = model.addVars(J, J, vtype=GRB.BINARY, name=\"v\")\n",
    "alpha_X = model.addVars(m_X, lb=0.0, ub=1.0, vtype=GRB.BINARY, name=\"alpha_X\")\n",
    "alpha_Y = model.addVars(m_Y, lb=0.0, ub=1.0, vtype=GRB.BINARY, name=\"alpha_Y\")\n",
    "beta_X = model.addVars(m_X, lb=0.0, ub=float('inf'), vtype=GRB.CONTINUOUS, name=\"beta_X\")\n",
    "beta_Y = model.addVars(m_Y, lb=0.0, ub=float('inf'), vtype=GRB.CONTINUOUS, name=\"beta_Y\")\n",
    "\n"
   ]
  },
  {
   "cell_type": "code",
   "execution_count": 5,
   "metadata": {},
   "outputs": [],
   "source": [
    "model.setObjective(\n",
    "    ln_a[0] + t_X[0] * (x - a[0]) + \\\n",
    "    gp.quicksum((t_X[j] - t_X[j-1]) * (a[j] * alpha_X[j] + x - a[j] - beta_X[j]) for j in range(1, m_X-1)) + \\\n",
    "    ln_b[0] + t_Y[0] * (y - b[0]) + \\\n",
    "    gp.quicksum((t_Y[j] - t_Y[j-1]) * (b[j] * alpha_Y[j] + y - b[j] - beta_Y[j]) for j in range(1, m_Y-1))\n",
    ")"
   ]
  },
  {
   "cell_type": "code",
   "execution_count": 6,
   "metadata": {},
   "outputs": [
    {
     "output_type": "execute_result",
     "data": {
      "text/plain": [
       "{0: <gurobi.Constr *Awaiting Model Update*>,\n",
       " 1: <gurobi.Constr *Awaiting Model Update*>,\n",
       " 2: <gurobi.Constr *Awaiting Model Update*>,\n",
       " 3: <gurobi.Constr *Awaiting Model Update*>,\n",
       " 4: <gurobi.Constr *Awaiting Model Update*>,\n",
       " 5: <gurobi.Constr *Awaiting Model Update*>,\n",
       " 6: <gurobi.Constr *Awaiting Model Update*>,\n",
       " 7: <gurobi.Constr *Awaiting Model Update*>,\n",
       " 8: <gurobi.Constr *Awaiting Model Update*>,\n",
       " 9: <gurobi.Constr *Awaiting Model Update*>,\n",
       " 10: <gurobi.Constr *Awaiting Model Update*>,\n",
       " 11: <gurobi.Constr *Awaiting Model Update*>}"
      ]
     },
     "metadata": {},
     "execution_count": 6
    }
   ],
   "source": [
    "model.addConstrs(-x_bar * alpha_X[j] <= x - a[j] for j in range(1, m_X))\n",
    "model.addConstrs(x - a[j] <= x_bar * (1 - alpha_X[j]) for j in range(1, m_X))\n",
    "model.addConstrs(-x_bar * alpha_X[j] <= beta_X[j] for j in range(1, m_X))\n",
    "model.addConstrs(beta_X[j] <= x_bar * alpha_X[j] for j in range(1, m_X))\n",
    "model.addConstrs(x_bar * (alpha_X[j] - 1) + x <= beta_X[j] for j in range(1, m_X))\n",
    "model.addConstrs(beta_X[j] <= x_bar * (1 - alpha_X[j]) + x for j in range(1, m_X))\n",
    "model.addConstrs(alpha_X[j] >= alpha_X[j-1] for j in range(1, m_X))\n",
    "\n",
    "\n",
    "\n",
    "model.addConstrs(-y_bar * alpha_Y[j] <= y - b[j] for j in range(1, m_Y))\n",
    "model.addConstrs(y - b[j] <= y_bar * (1 - alpha_Y[j]) for j in range(1, m_Y))\n",
    "model.addConstrs(-y_bar * alpha_Y[j] <= beta_Y[j] for j in range(1, m_Y))\n",
    "model.addConstrs(beta_Y[j] <= y_bar * alpha_Y[j] for j in range(1, m_Y))\n",
    "model.addConstrs(y_bar * (alpha_Y[j] - 1) + y <= beta_Y[j] for j in range(1, m_Y))\n",
    "model.addConstrs(beta_Y[j] <= y_bar * (1 - alpha_Y[j]) + y for j in range(1, m_Y))\n",
    "model.addConstrs(alpha_Y[j] >= alpha_Y[j-1] for j in range(1, m_Y))\n",
    "\n",
    "\n",
    "\n",
    "\n",
    "model.addConstrs(\n",
    "    (x_prime[i] - x_prime[k]) + u[i,k] * x_bar + v[i,k] * x_bar >= \\\n",
    "    0.5 * (P[i] * s[i] + Q[i] * (1 - s[i]) + P[k] * s[k] + Q[k] * (1 - s[k])) \\\n",
    "    for i in range(J) for k in range(J) if i != k\n",
    "    )\n",
    "\n",
    "\n",
    "model.addConstrs(\n",
    "    (x_prime[k] - x_prime[i]) + (1 - u[i,k]) * x_bar + v[i,k] * x_bar >= \\\n",
    "    0.5 * (P[i] * s[i] + Q[i] * (1 - s[i]) + P[k] * s[k] + Q[k] * (1 - s[k])) \\\n",
    "    for i in range(J) for k in range(J) if i != k\n",
    "    )\n",
    "\n",
    "model.addConstrs(\n",
    "    (y_prime[i] - y_prime[k]) + u[i,k] * y_bar + (1 - v[i,k]) * y_bar >= \\\n",
    "    0.5 * (P[i] * (1 - s[i]) + Q[i] * s[i] + P[k] * (1 - s[k]) + Q[k] * s[k]) \\\n",
    "    for i in range(J) for k in range(J) if i != k\n",
    "    )\n",
    "\n",
    "model.addConstrs(\n",
    "    (y_prime[k] - y_prime[i]) + (1 - u[i,k]) * y_bar + (1 - v[i,k]) * y_bar >= \\\n",
    "    0.5 * (P[i] * (1 - s[i]) + Q[i] * s[i] + P[k] * (1 - s[k]) + Q[k] * s[k]) \\\n",
    "    for i in range(J) for k in range(J) if i != k\n",
    "    )\n",
    "\n",
    "model.addConstr(x_bar >= x)\n",
    "model.addConstrs(x >= x_prime[i] + 0.5 * (P[i] * s[i] + Q[i] * (1 - s[i])) for i in range(J))\n",
    "model.addConstr(y_bar >= y)\n",
    "model.addConstrs(y >= y_prime[i] + 0.5 * (P[i] * (1 - s[i]) + Q[i] * s[i]) for i in range(J))\n",
    "\n",
    "model.addConstrs(x_prime[i] - 0.5 * (P[i] * s[i] + Q[i] * (1 - s[i])) >= 0 for i in range(J))\n",
    "model.addConstrs(y_prime[i] - 0.5 * (P[i] * (1 - s[i]) + Q[i] * s[i]) >= 0 for i in range(J))"
   ]
  },
  {
   "cell_type": "code",
   "execution_count": 7,
   "metadata": {},
   "outputs": [
    {
     "output_type": "stream",
     "name": "stdout",
     "text": [
      "Gurobi Optimizer version 9.1.1 build v9.1.1rc0 (linux64)\n",
      "Thread count: 32 physical cores, 64 logical processors, using up to 32 threads\n",
      "Optimize a model with 704 rows, 366 columns and 3118 nonzeros\n",
      "Model fingerprint: 0x5d425985\n",
      "Variable types: 46 continuous, 320 integer (320 binary)\n",
      "Coefficient statistics:\n",
      "  Matrix range     [1e+00, 2e+02]\n",
      "  Objective range  [8e-04, 2e+00]\n",
      "  Bounds range     [1e+00, 1e+00]\n",
      "  RHS range        [2e+00, 3e+02]\n",
      "Found heuristic solution: objective 8.6111309\n",
      "Presolve removed 44 rows and 37 columns\n",
      "Presolve time: 0.01s\n",
      "Presolved: 660 rows, 329 columns, 3094 nonzeros\n",
      "Variable types: 42 continuous, 287 integer (287 binary)\n",
      "\n",
      "Root relaxation: objective 2.234054e+00, 190 iterations, 0.00 seconds\n",
      "\n",
      "    Nodes    |    Current Node    |     Objective Bounds      |     Work\n",
      " Expl Unexpl |  Obj  Depth IntInf | Incumbent    BestBd   Gap | It/Node Time\n",
      "\n",
      "     0     0    2.23405    0  153    8.61113    2.23405  74.1%     -    0s\n",
      "H    0     0                       7.2674699    2.23405  69.3%     -    0s\n",
      "H    0     0                       7.2405791    2.23405  69.1%     -    0s\n",
      "H    0     0                       7.1756740    2.23405  68.9%     -    0s\n",
      "     0     0    4.32776    0  215    7.17567    4.32776  39.7%     -    0s\n",
      "     0     0    4.32776    0  146    7.17567    4.32776  39.7%     -    0s\n",
      "H    0     0                       7.1330156    4.32776  39.3%     -    0s\n",
      "     0     2    4.32776    0  127    7.13302    4.32776  39.3%     -    0s\n",
      "H  160   171                       7.0263695    4.48326  36.2%  31.1    0s\n",
      "H  165   171                       7.0050402    4.48326  36.0%  30.5    0s\n",
      "* 2727  2008              90       6.9222683    4.70098  32.1%  10.9    0s\n",
      " 16258  6132 infeasible   79         6.92227    5.78258  16.5%  26.6    5s\n",
      "H16288  5669                       6.8663797    5.78258  15.8%  26.6    5s\n",
      "H16315  5654                       6.8542851    5.78258  15.6%  26.6    5s\n",
      "*17931  6510              95       6.8339208    5.78305  15.4%  26.3    5s\n",
      "*19429  6819              83       6.8030644    5.78305  15.0%  25.8    5s\n",
      "*24856  8356              96       6.7722081    5.78999  14.5%  24.7    5s\n",
      " 62597 17519    6.65393   67   28    6.77221    6.00077  11.4%  25.5   10s\n",
      "*91020 22526              88       6.7691566    6.00077  11.4%  24.9   14s\n",
      "*92638 21744             106       6.7120006    6.00077  10.6%  25.0   14s\n",
      " 93284 21860    6.00077   71   59    6.71200    6.00077  10.6%  25.2   15s\n",
      "H96158 20180                       6.5956912    6.00077  9.02%  25.7   15s\n",
      "H96180 19174                       6.5956912    6.00077  9.02%  25.7   15s\n",
      "H104824 17206                       6.5956912    6.00077  9.02%  27.1   17s\n",
      "H104858 16292                       6.5956912    6.00077  9.02%  27.1   17s\n",
      " 123766 12252    6.32665   73   68    6.59569    6.00077  9.02%  28.2   20s\n",
      " 209517 23980 infeasible  109         6.59569    6.14991  6.76%  25.7   25s\n",
      " 262362 31761    6.45802   79   61    6.59569    6.17982  6.31%  27.3   30s\n",
      " 304529 39051    6.39797   92   40    6.59569    6.21459  5.78%  30.5   35s\n",
      " 341259 45465 infeasible   80         6.59569    6.21459  5.78%  33.3   40s\n",
      " 379964 49539    6.28392  101   19    6.59569    6.24937  5.25%  34.8   45s\n",
      " 433902 53103    6.35304   76   13    6.59569    6.26889  4.95%  34.7   50s\n",
      "H481916 57757                       6.5956912    6.27235  4.90%  33.1   63s\n",
      "H482026 54944                       6.5956912    6.27235  4.90%  33.1   64s\n",
      " 484928 55263    6.36954   87   46    6.59569    6.27235  4.90%  33.2   65s\n",
      "H495033 50751                       6.5956912    6.27235  4.90%  33.2   67s\n",
      " 545735 47570     cutoff  112         6.59569    6.27235  4.90%  31.7   70s\n",
      " 628512 26943     cutoff  100         6.59569    6.27235  4.90%  30.6   75s\n",
      " 677199 28796 infeasible   94         6.59569    6.27235  4.90%  31.4   80s\n",
      "H677531 28796                       6.5956912    6.27235  4.90%  31.4   80s\n",
      " 713942 35886 infeasible  101         6.59569    6.27235  4.90%  33.2   85s\n",
      "H717631 35897                       6.5956912    6.27235  4.90%  33.4   88s\n",
      "H717660 35897                       6.5956912    6.27235  4.90%  33.4   88s\n",
      "H717664 35897                       6.5956911    6.27235  4.90%  33.4   88s\n",
      " 728167 38114     cutoff   90         6.59569    6.27235  4.90%  34.0   90s\n",
      " 764956 41830 infeasible  107         6.59569    6.27235  4.90%  35.4   95s\n",
      " 807165 44611    6.36954   97   41    6.59569    6.27235  4.90%  36.4  100s\n",
      " 882818 59954    6.44921  102   11    6.59569    6.27235  4.90%  34.7  105s\n",
      " 958707 75863 infeasible  101         6.59569    6.27306  4.89%  32.9  110s\n",
      " 1006106 82615    6.41219  105   30    6.59569    6.27474  4.87%  33.4  115s\n",
      " 1047674 89251    6.27505   96   18    6.59569    6.27474  4.87%  34.1  120s\n",
      " 1111739 94849    6.28580   99   31    6.59569    6.27505  4.86%  33.6  125s\n",
      " 1190838 102605     cutoff  113         6.59569    6.27505  4.86%  32.5  130s\n",
      " 1263822 112851    6.53685  123   13    6.59569    6.27885  4.80%  31.5  135s\n",
      " 1330405 115982    6.37983   94   60    6.59569    6.28580  4.70%  31.1  140s\n",
      " 1388495 121795    6.35332   99   27    6.59569    6.29187  4.61%  30.9  145s\n",
      " 1450778 123270     cutoff   95         6.59569    6.31028  4.33%  30.7  150s\n",
      " 1493155 124765 infeasible   98         6.59569    6.32665  4.08%  31.2  155s\n",
      " 1524648 127012    6.32665   92   56    6.59569    6.32665  4.08%  31.9  160s\n",
      " 1560165 129605    6.32665   88   60    6.59569    6.32665  4.08%  32.7  165s\n",
      " 1591183 132335    6.39086   97   33    6.59569    6.32665  4.08%  33.3  170s\n",
      " 1624385 134668    6.47839   96   28    6.59569    6.32665  4.08%  33.9  175s\n",
      " 1664473 134411 infeasible  101         6.59569    6.33100  4.01%  34.3  180s\n",
      " 1708869 132812 infeasible  106         6.59569    6.34821  3.75%  34.4  185s\n",
      " 1746020 132985    6.34821   92   48    6.59569    6.34821  3.75%  34.6  190s\n",
      " 1795365 131572    6.58440  112   21    6.59569    6.35304  3.68%  34.2  195s\n",
      " 1837204 131513     cutoff   93         6.59569    6.36142  3.55%  34.3  200s\n",
      " 1872789 132015    6.36142   93   61    6.59569    6.36142  3.55%  34.7  205s\n",
      " 1885106 132181    6.37247  108   55    6.59569    6.36142  3.55%  34.8  211s\n",
      " 1900695 132422     cutoff   98         6.59569    6.36142  3.55%  35.0  215s\n",
      " 1936984 132928     cutoff  106         6.59569    6.36142  3.55%  35.4  220s\n",
      " 1969137 134161     cutoff   99         6.59569    6.36142  3.55%  35.8  225s\n",
      " 2001714 135291 infeasible   95         6.59569    6.36142  3.55%  36.2  230s\n",
      " 2032872 136756     cutoff   99         6.59569    6.36142  3.55%  36.5  235s\n",
      " 2064755 137975     cutoff  106         6.59569    6.36142  3.55%  36.9  240s\n",
      " 2099748 138540     cutoff  105         6.59569    6.36257  3.53%  37.2  245s\n",
      " 2140861 137588    6.36954   98   41    6.59569    6.36944  3.43%  37.2  250s\n",
      " 2182125 136241 infeasible   99         6.59569    6.36954  3.43%  37.3  255s\n",
      " 2216387 135450    6.51884   94   38    6.59569    6.36954  3.43%  37.3  260s\n",
      " 2280108 133741     cutoff  108         6.59569    6.37112  3.40%  36.8  265s\n",
      " 2322006 130408     cutoff  105         6.59569    6.37983  3.27%  36.7  270s\n",
      " 2354674 131467    6.38360   97   43    6.59569    6.38360  3.22%  36.9  275s\n",
      " 2387222 132068    6.38360   88   42    6.59569    6.38360  3.22%  37.1  280s\n",
      " 2418362 133113    6.41441   93   36    6.59569    6.38360  3.22%  37.4  285s\n",
      " 2449294 134384    6.43574   90   48    6.59569    6.38360  3.22%  37.6  290s\n",
      " 2478838 135861    6.38360   81   62    6.59569    6.38360  3.22%  37.8  295s\n",
      " 2534280 140195    6.47932  114   21    6.59569    6.38391  3.21%  37.4  300s\n",
      "\n",
      "Cutting planes:\n",
      "  Learned: 20\n",
      "  Gomory: 213\n",
      "  Cover: 79\n",
      "  Implied bound: 5\n",
      "  Projected implied bound: 1\n",
      "  MIR: 632\n",
      "  Flow cover: 1444\n",
      "  Inf proof: 387\n",
      "  Zero half: 7\n",
      "  Network: 1\n",
      "  RLT: 74\n",
      "  Relax-and-lift: 81\n",
      "\n",
      "Explored 2535177 nodes (94829397 simplex iterations) in 300.02 seconds\n",
      "Thread count was 32 (of 64 available processors)\n",
      "\n",
      "Solution count 10: 6.59569 6.59569 6.59569 ... 6.59569\n",
      "\n",
      "Time limit reached\n",
      "Best objective 6.595691100430e+00, best bound 6.383909081115e+00, gap 3.2109%\n"
     ]
    }
   ],
   "source": [
    "model.write('q3.lp')\n",
    "\n",
    "model.optimize()"
   ]
  },
  {
   "source": [
    "### (c)"
   ],
   "cell_type": "markdown",
   "metadata": {}
  },
  {
   "cell_type": "code",
   "execution_count": 8,
   "metadata": {},
   "outputs": [
    {
     "output_type": "stream",
     "name": "stdout",
     "text": [
      "4.0 75.99998751219405\n4.0 8.0\n4.0 60.00001248780329\n5.0 118.99999207158243\n4.5 38.499999999999744\n4.5 47.49999999999903\n4.5 88.49999207158234\n4.5 106.49999207158243\n4.5 97.49999207158243\n1.5 25.0\n4.500000000000007 24.999999999999872\n7.499999999999973 25.0\n"
     ]
    },
    {
     "output_type": "execute_result",
     "data": {
      "text/plain": [
       "<matplotlib.collections.PathCollection at 0x7f6e07a1b250>"
      ]
     },
     "metadata": {},
     "execution_count": 8
    },
    {
     "output_type": "display_data",
     "data": {
      "text/plain": "<Figure size 432x288 with 1 Axes>",
      "image/svg+xml": "<?xml version=\"1.0\" encoding=\"utf-8\" standalone=\"no\"?>\n<!DOCTYPE svg PUBLIC \"-//W3C//DTD SVG 1.1//EN\"\n  \"http://www.w3.org/Graphics/SVG/1.1/DTD/svg11.dtd\">\n<svg height=\"248.518125pt\" version=\"1.1\" viewBox=\"0 0 375.2875 248.518125\" width=\"375.2875pt\" xmlns=\"http://www.w3.org/2000/svg\" xmlns:xlink=\"http://www.w3.org/1999/xlink\">\n <metadata>\n  <rdf:RDF xmlns:cc=\"http://creativecommons.org/ns#\" xmlns:dc=\"http://purl.org/dc/elements/1.1/\" xmlns:rdf=\"http://www.w3.org/1999/02/22-rdf-syntax-ns#\">\n   <cc:Work>\n    <dc:type rdf:resource=\"http://purl.org/dc/dcmitype/StillImage\"/>\n    <dc:date>2021-04-27T11:49:18.979784</dc:date>\n    <dc:format>image/svg+xml</dc:format>\n    <dc:creator>\n     <cc:Agent>\n      <dc:title>Matplotlib v3.4.1, https://matplotlib.org/</dc:title>\n     </cc:Agent>\n    </dc:creator>\n   </cc:Work>\n  </rdf:RDF>\n </metadata>\n <defs>\n  <style type=\"text/css\">*{stroke-linecap:butt;stroke-linejoin:round;}</style>\n </defs>\n <g id=\"figure_1\">\n  <g id=\"patch_1\">\n   <path d=\"M 0 248.518125 \nL 375.2875 248.518125 \nL 375.2875 0 \nL 0 0 \nz\n\" style=\"fill:none;\"/>\n  </g>\n  <g id=\"axes_1\">\n   <g id=\"patch_2\">\n    <path d=\"M 33.2875 224.64 \nL 368.0875 224.64 \nL 368.0875 7.2 \nL 33.2875 7.2 \nz\n\" style=\"fill:#ffffff;\"/>\n   </g>\n   <g id=\"patch_3\">\n    <path clip-path=\"url(#pcf44e2d07b)\" d=\"M 48.505682 108.915861 \nL 319.051136 108.915861 \nL 319.051136 84.012209 \nL 48.505682 84.012209 \nz\n\" style=\"fill:#ffff00;stroke:#ffff00;stroke-linejoin:miter;\"/>\n   </g>\n   <g id=\"patch_4\">\n    <path clip-path=\"url(#pcf44e2d07b)\" d=\"M 48.505682 214.756364 \nL 319.051136 214.756364 \nL 319.051136 189.852711 \nL 48.505682 189.852711 \nz\n\" style=\"fill:#ff0000;stroke:#ff0000;stroke-linejoin:miter;\"/>\n   </g>\n   <g id=\"patch_5\">\n    <path clip-path=\"url(#pcf44e2d07b)\" d=\"M 48.505682 133.819474 \nL 319.051136 133.819474 \nL 319.051136 108.915822 \nL 48.505682 108.915822 \nz\n\" style=\"fill:#0000ff;stroke:#0000ff;stroke-linejoin:miter;\"/>\n   </g>\n   <g id=\"patch_6\">\n    <path clip-path=\"url(#pcf44e2d07b)\" d=\"M 82.323864 41.987289 \nL 352.869318 41.987289 \nL 352.869318 17.083636 \nL 82.323864 17.083636 \nz\n\" style=\"fill:#008000;stroke:#008000;stroke-linejoin:miter;\"/>\n   </g>\n   <g id=\"patch_7\">\n    <path clip-path=\"url(#pcf44e2d07b)\" d=\"M 48.505682 161.836103 \nL 352.869318 161.836103 \nL 352.869318 147.827798 \nL 48.505682 147.827798 \nz\n\" style=\"fill:#ffc0cb;stroke:#ffc0cb;stroke-linejoin:miter;\"/>\n   </g>\n   <g id=\"patch_8\">\n    <path clip-path=\"url(#pcf44e2d07b)\" d=\"M 48.505682 147.827798 \nL 352.869318 147.827798 \nL 352.869318 133.819494 \nL 48.505682 133.819494 \nz\n\" style=\"fill:#800080;stroke:#800080;stroke-linejoin:miter;\"/>\n   </g>\n   <g id=\"patch_9\">\n    <path clip-path=\"url(#pcf44e2d07b)\" d=\"M 48.505682 84.012202 \nL 352.869318 84.012202 \nL 352.869318 70.003897 \nL 48.505682 70.003897 \nz\n\" style=\"fill:#ffff00;stroke:#ffff00;stroke-linejoin:miter;\"/>\n   </g>\n   <g id=\"patch_10\">\n    <path clip-path=\"url(#pcf44e2d07b)\" d=\"M 48.505682 55.995593 \nL 352.869318 55.995593 \nL 352.869318 41.987289 \nL 48.505682 41.987289 \nz\n\" style=\"fill:#ff0000;stroke:#ff0000;stroke-linejoin:miter;\"/>\n   </g>\n   <g id=\"patch_11\">\n    <path clip-path=\"url(#pcf44e2d07b)\" d=\"M 48.505682 70.003897 \nL 352.869318 70.003897 \nL 352.869318 55.995593 \nL 48.505682 55.995593 \nz\n\" style=\"fill:#0000ff;stroke:#0000ff;stroke-linejoin:miter;\"/>\n   </g>\n   <g id=\"patch_12\">\n    <path clip-path=\"url(#pcf44e2d07b)\" d=\"M 48.505682 189.852711 \nL 149.960227 189.852711 \nL 149.960227 161.836103 \nL 48.505682 161.836103 \nz\n\" style=\"fill:#008000;stroke:#008000;stroke-linejoin:miter;\"/>\n   </g>\n   <g id=\"patch_13\">\n    <path clip-path=\"url(#pcf44e2d07b)\" d=\"M 149.960227 189.852711 \nL 251.414773 189.852711 \nL 251.414773 161.836103 \nL 149.960227 161.836103 \nz\n\" style=\"fill:#ffc0cb;stroke:#ffc0cb;stroke-linejoin:miter;\"/>\n   </g>\n   <g id=\"patch_14\">\n    <path clip-path=\"url(#pcf44e2d07b)\" d=\"M 251.414773 189.852711 \nL 352.869318 189.852711 \nL 352.869318 161.836103 \nL 251.414773 161.836103 \nz\n\" style=\"fill:#800080;stroke:#800080;stroke-linejoin:miter;\"/>\n   </g>\n   <g id=\"matplotlib.axis_1\">\n    <g id=\"xtick_1\">\n     <g id=\"line2d_1\">\n      <defs>\n       <path d=\"M 0 0 \nL 0 3.5 \n\" id=\"m11ce0c04ee\" style=\"stroke:#000000;stroke-width:0.8;\"/>\n      </defs>\n      <g>\n       <use style=\"stroke:#000000;stroke-width:0.8;\" x=\"48.505682\" xlink:href=\"#m11ce0c04ee\" y=\"224.64\"/>\n      </g>\n     </g>\n     <g id=\"text_1\">\n      <!-- 0 -->\n      <g transform=\"translate(45.324432 239.238437)scale(0.1 -0.1)\">\n       <defs>\n        <path d=\"M 2034 4250 \nQ 1547 4250 1301 3770 \nQ 1056 3291 1056 2328 \nQ 1056 1369 1301 889 \nQ 1547 409 2034 409 \nQ 2525 409 2770 889 \nQ 3016 1369 3016 2328 \nQ 3016 3291 2770 3770 \nQ 2525 4250 2034 4250 \nz\nM 2034 4750 \nQ 2819 4750 3233 4129 \nQ 3647 3509 3647 2328 \nQ 3647 1150 3233 529 \nQ 2819 -91 2034 -91 \nQ 1250 -91 836 529 \nQ 422 1150 422 2328 \nQ 422 3509 836 4129 \nQ 1250 4750 2034 4750 \nz\n\" id=\"DejaVuSans-30\" transform=\"scale(0.015625)\"/>\n       </defs>\n       <use xlink:href=\"#DejaVuSans-30\"/>\n      </g>\n     </g>\n    </g>\n    <g id=\"xtick_2\">\n     <g id=\"line2d_2\">\n      <g>\n       <use style=\"stroke:#000000;stroke-width:0.8;\" x=\"116.142045\" xlink:href=\"#m11ce0c04ee\" y=\"224.64\"/>\n      </g>\n     </g>\n     <g id=\"text_2\">\n      <!-- 2 -->\n      <g transform=\"translate(112.960795 239.238437)scale(0.1 -0.1)\">\n       <defs>\n        <path d=\"M 1228 531 \nL 3431 531 \nL 3431 0 \nL 469 0 \nL 469 531 \nQ 828 903 1448 1529 \nQ 2069 2156 2228 2338 \nQ 2531 2678 2651 2914 \nQ 2772 3150 2772 3378 \nQ 2772 3750 2511 3984 \nQ 2250 4219 1831 4219 \nQ 1534 4219 1204 4116 \nQ 875 4013 500 3803 \nL 500 4441 \nQ 881 4594 1212 4672 \nQ 1544 4750 1819 4750 \nQ 2544 4750 2975 4387 \nQ 3406 4025 3406 3419 \nQ 3406 3131 3298 2873 \nQ 3191 2616 2906 2266 \nQ 2828 2175 2409 1742 \nQ 1991 1309 1228 531 \nz\n\" id=\"DejaVuSans-32\" transform=\"scale(0.015625)\"/>\n       </defs>\n       <use xlink:href=\"#DejaVuSans-32\"/>\n      </g>\n     </g>\n    </g>\n    <g id=\"xtick_3\">\n     <g id=\"line2d_3\">\n      <g>\n       <use style=\"stroke:#000000;stroke-width:0.8;\" x=\"183.778409\" xlink:href=\"#m11ce0c04ee\" y=\"224.64\"/>\n      </g>\n     </g>\n     <g id=\"text_3\">\n      <!-- 4 -->\n      <g transform=\"translate(180.597159 239.238437)scale(0.1 -0.1)\">\n       <defs>\n        <path d=\"M 2419 4116 \nL 825 1625 \nL 2419 1625 \nL 2419 4116 \nz\nM 2253 4666 \nL 3047 4666 \nL 3047 1625 \nL 3713 1625 \nL 3713 1100 \nL 3047 1100 \nL 3047 0 \nL 2419 0 \nL 2419 1100 \nL 313 1100 \nL 313 1709 \nL 2253 4666 \nz\n\" id=\"DejaVuSans-34\" transform=\"scale(0.015625)\"/>\n       </defs>\n       <use xlink:href=\"#DejaVuSans-34\"/>\n      </g>\n     </g>\n    </g>\n    <g id=\"xtick_4\">\n     <g id=\"line2d_4\">\n      <g>\n       <use style=\"stroke:#000000;stroke-width:0.8;\" x=\"251.414773\" xlink:href=\"#m11ce0c04ee\" y=\"224.64\"/>\n      </g>\n     </g>\n     <g id=\"text_4\">\n      <!-- 6 -->\n      <g transform=\"translate(248.233523 239.238437)scale(0.1 -0.1)\">\n       <defs>\n        <path d=\"M 2113 2584 \nQ 1688 2584 1439 2293 \nQ 1191 2003 1191 1497 \nQ 1191 994 1439 701 \nQ 1688 409 2113 409 \nQ 2538 409 2786 701 \nQ 3034 994 3034 1497 \nQ 3034 2003 2786 2293 \nQ 2538 2584 2113 2584 \nz\nM 3366 4563 \nL 3366 3988 \nQ 3128 4100 2886 4159 \nQ 2644 4219 2406 4219 \nQ 1781 4219 1451 3797 \nQ 1122 3375 1075 2522 \nQ 1259 2794 1537 2939 \nQ 1816 3084 2150 3084 \nQ 2853 3084 3261 2657 \nQ 3669 2231 3669 1497 \nQ 3669 778 3244 343 \nQ 2819 -91 2113 -91 \nQ 1303 -91 875 529 \nQ 447 1150 447 2328 \nQ 447 3434 972 4092 \nQ 1497 4750 2381 4750 \nQ 2619 4750 2861 4703 \nQ 3103 4656 3366 4563 \nz\n\" id=\"DejaVuSans-36\" transform=\"scale(0.015625)\"/>\n       </defs>\n       <use xlink:href=\"#DejaVuSans-36\"/>\n      </g>\n     </g>\n    </g>\n    <g id=\"xtick_5\">\n     <g id=\"line2d_5\">\n      <g>\n       <use style=\"stroke:#000000;stroke-width:0.8;\" x=\"319.051136\" xlink:href=\"#m11ce0c04ee\" y=\"224.64\"/>\n      </g>\n     </g>\n     <g id=\"text_5\">\n      <!-- 8 -->\n      <g transform=\"translate(315.869886 239.238437)scale(0.1 -0.1)\">\n       <defs>\n        <path d=\"M 2034 2216 \nQ 1584 2216 1326 1975 \nQ 1069 1734 1069 1313 \nQ 1069 891 1326 650 \nQ 1584 409 2034 409 \nQ 2484 409 2743 651 \nQ 3003 894 3003 1313 \nQ 3003 1734 2745 1975 \nQ 2488 2216 2034 2216 \nz\nM 1403 2484 \nQ 997 2584 770 2862 \nQ 544 3141 544 3541 \nQ 544 4100 942 4425 \nQ 1341 4750 2034 4750 \nQ 2731 4750 3128 4425 \nQ 3525 4100 3525 3541 \nQ 3525 3141 3298 2862 \nQ 3072 2584 2669 2484 \nQ 3125 2378 3379 2068 \nQ 3634 1759 3634 1313 \nQ 3634 634 3220 271 \nQ 2806 -91 2034 -91 \nQ 1263 -91 848 271 \nQ 434 634 434 1313 \nQ 434 1759 690 2068 \nQ 947 2378 1403 2484 \nz\nM 1172 3481 \nQ 1172 3119 1398 2916 \nQ 1625 2713 2034 2713 \nQ 2441 2713 2670 2916 \nQ 2900 3119 2900 3481 \nQ 2900 3844 2670 4047 \nQ 2441 4250 2034 4250 \nQ 1625 4250 1398 4047 \nQ 1172 3844 1172 3481 \nz\n\" id=\"DejaVuSans-38\" transform=\"scale(0.015625)\"/>\n       </defs>\n       <use xlink:href=\"#DejaVuSans-38\"/>\n      </g>\n     </g>\n    </g>\n   </g>\n   <g id=\"matplotlib.axis_2\">\n    <g id=\"ytick_1\">\n     <g id=\"line2d_6\">\n      <defs>\n       <path d=\"M 0 0 \nL -3.5 0 \n\" id=\"m33ed88212a\" style=\"stroke:#000000;stroke-width:0.8;\"/>\n      </defs>\n      <g>\n       <use style=\"stroke:#000000;stroke-width:0.8;\" x=\"33.2875\" xlink:href=\"#m33ed88212a\" y=\"214.756364\"/>\n      </g>\n     </g>\n     <g id=\"text_6\">\n      <!-- 0 -->\n      <g transform=\"translate(19.925 218.555582)scale(0.1 -0.1)\">\n       <use xlink:href=\"#DejaVuSans-30\"/>\n      </g>\n     </g>\n    </g>\n    <g id=\"ytick_2\">\n     <g id=\"line2d_7\">\n      <g>\n       <use style=\"stroke:#000000;stroke-width:0.8;\" x=\"33.2875\" xlink:href=\"#m33ed88212a\" y=\"183.626798\"/>\n      </g>\n     </g>\n     <g id=\"text_7\">\n      <!-- 20 -->\n      <g transform=\"translate(13.5625 187.426017)scale(0.1 -0.1)\">\n       <use xlink:href=\"#DejaVuSans-32\"/>\n       <use x=\"63.623047\" xlink:href=\"#DejaVuSans-30\"/>\n      </g>\n     </g>\n    </g>\n    <g id=\"ytick_3\">\n     <g id=\"line2d_8\">\n      <g>\n       <use style=\"stroke:#000000;stroke-width:0.8;\" x=\"33.2875\" xlink:href=\"#m33ed88212a\" y=\"152.497233\"/>\n      </g>\n     </g>\n     <g id=\"text_8\">\n      <!-- 40 -->\n      <g transform=\"translate(13.5625 156.296452)scale(0.1 -0.1)\">\n       <use xlink:href=\"#DejaVuSans-34\"/>\n       <use x=\"63.623047\" xlink:href=\"#DejaVuSans-30\"/>\n      </g>\n     </g>\n    </g>\n    <g id=\"ytick_4\">\n     <g id=\"line2d_9\">\n      <g>\n       <use style=\"stroke:#000000;stroke-width:0.8;\" x=\"33.2875\" xlink:href=\"#m33ed88212a\" y=\"121.367668\"/>\n      </g>\n     </g>\n     <g id=\"text_9\">\n      <!-- 60 -->\n      <g transform=\"translate(13.5625 125.166887)scale(0.1 -0.1)\">\n       <use xlink:href=\"#DejaVuSans-36\"/>\n       <use x=\"63.623047\" xlink:href=\"#DejaVuSans-30\"/>\n      </g>\n     </g>\n    </g>\n    <g id=\"ytick_5\">\n     <g id=\"line2d_10\">\n      <g>\n       <use style=\"stroke:#000000;stroke-width:0.8;\" x=\"33.2875\" xlink:href=\"#m33ed88212a\" y=\"90.238102\"/>\n      </g>\n     </g>\n     <g id=\"text_10\">\n      <!-- 80 -->\n      <g transform=\"translate(13.5625 94.037321)scale(0.1 -0.1)\">\n       <use xlink:href=\"#DejaVuSans-38\"/>\n       <use x=\"63.623047\" xlink:href=\"#DejaVuSans-30\"/>\n      </g>\n     </g>\n    </g>\n    <g id=\"ytick_6\">\n     <g id=\"line2d_11\">\n      <g>\n       <use style=\"stroke:#000000;stroke-width:0.8;\" x=\"33.2875\" xlink:href=\"#m33ed88212a\" y=\"59.108537\"/>\n      </g>\n     </g>\n     <g id=\"text_11\">\n      <!-- 100 -->\n      <g transform=\"translate(7.2 62.907756)scale(0.1 -0.1)\">\n       <defs>\n        <path d=\"M 794 531 \nL 1825 531 \nL 1825 4091 \nL 703 3866 \nL 703 4441 \nL 1819 4666 \nL 2450 4666 \nL 2450 531 \nL 3481 531 \nL 3481 0 \nL 794 0 \nL 794 531 \nz\n\" id=\"DejaVuSans-31\" transform=\"scale(0.015625)\"/>\n       </defs>\n       <use xlink:href=\"#DejaVuSans-31\"/>\n       <use x=\"63.623047\" xlink:href=\"#DejaVuSans-30\"/>\n       <use x=\"127.246094\" xlink:href=\"#DejaVuSans-30\"/>\n      </g>\n     </g>\n    </g>\n    <g id=\"ytick_7\">\n     <g id=\"line2d_12\">\n      <g>\n       <use style=\"stroke:#000000;stroke-width:0.8;\" x=\"33.2875\" xlink:href=\"#m33ed88212a\" y=\"27.978972\"/>\n      </g>\n     </g>\n     <g id=\"text_12\">\n      <!-- 120 -->\n      <g transform=\"translate(7.2 31.778191)scale(0.1 -0.1)\">\n       <use xlink:href=\"#DejaVuSans-31\"/>\n       <use x=\"63.623047\" xlink:href=\"#DejaVuSans-32\"/>\n       <use x=\"127.246094\" xlink:href=\"#DejaVuSans-30\"/>\n      </g>\n     </g>\n    </g>\n   </g>\n   <g id=\"patch_15\">\n    <path d=\"M 33.2875 224.64 \nL 33.2875 7.2 \n\" style=\"fill:none;stroke:#000000;stroke-linecap:square;stroke-linejoin:miter;stroke-width:0.8;\"/>\n   </g>\n   <g id=\"patch_16\">\n    <path d=\"M 368.0875 224.64 \nL 368.0875 7.2 \n\" style=\"fill:none;stroke:#000000;stroke-linecap:square;stroke-linejoin:miter;stroke-width:0.8;\"/>\n   </g>\n   <g id=\"patch_17\">\n    <path d=\"M 33.2875 224.64 \nL 368.0875 224.64 \n\" style=\"fill:none;stroke:#000000;stroke-linecap:square;stroke-linejoin:miter;stroke-width:0.8;\"/>\n   </g>\n   <g id=\"patch_18\">\n    <path d=\"M 33.2875 7.2 \nL 368.0875 7.2 \n\" style=\"fill:none;stroke:#000000;stroke-linecap:square;stroke-linejoin:miter;stroke-width:0.8;\"/>\n   </g>\n   <g id=\"PathCollection_1\">\n    <defs>\n     <path d=\"M 0 3 \nC 0.795609 3 1.55874 2.683901 2.12132 2.12132 \nC 2.683901 1.55874 3 0.795609 3 0 \nC 3 -0.795609 2.683901 -1.55874 2.12132 -2.12132 \nC 1.55874 -2.683901 0.795609 -3 0 -3 \nC -0.795609 -3 -1.55874 -2.683901 -2.12132 -2.12132 \nC -2.683901 -1.55874 -3 -0.795609 -3 0 \nC -3 0.795609 -2.683901 1.55874 -2.12132 2.12132 \nC -1.55874 2.683901 -0.795609 3 0 3 \nz\n\" id=\"ma437f88c24\" style=\"stroke:#000000;\"/>\n    </defs>\n    <g clip-path=\"url(#pcf44e2d07b)\">\n     <use style=\"stroke:#000000;\" x=\"183.778409\" xlink:href=\"#ma437f88c24\" y=\"96.464035\"/>\n     <use style=\"stroke:#000000;\" x=\"183.778409\" xlink:href=\"#ma437f88c24\" y=\"202.304538\"/>\n     <use style=\"stroke:#000000;\" x=\"183.778409\" xlink:href=\"#ma437f88c24\" y=\"121.367648\"/>\n     <use style=\"stroke:#000000;\" x=\"217.596591\" xlink:href=\"#ma437f88c24\" y=\"29.535462\"/>\n     <use style=\"stroke:#000000;\" x=\"200.6875\" xlink:href=\"#ma437f88c24\" y=\"154.83195\"/>\n     <use style=\"stroke:#000000;\" x=\"200.6875\" xlink:href=\"#ma437f88c24\" y=\"140.823646\"/>\n     <use style=\"stroke:#000000;\" x=\"200.6875\" xlink:href=\"#ma437f88c24\" y=\"77.00805\"/>\n     <use style=\"stroke:#000000;\" x=\"200.6875\" xlink:href=\"#ma437f88c24\" y=\"48.991441\"/>\n     <use style=\"stroke:#000000;\" x=\"200.6875\" xlink:href=\"#ma437f88c24\" y=\"62.999745\"/>\n     <use style=\"stroke:#000000;\" x=\"99.232955\" xlink:href=\"#ma437f88c24\" y=\"175.844407\"/>\n     <use style=\"stroke:#000000;\" x=\"200.6875\" xlink:href=\"#ma437f88c24\" y=\"175.844407\"/>\n     <use style=\"stroke:#000000;\" x=\"302.142045\" xlink:href=\"#ma437f88c24\" y=\"175.844407\"/>\n    </g>\n   </g>\n  </g>\n </g>\n <defs>\n  <clipPath id=\"pcf44e2d07b\">\n   <rect height=\"217.44\" width=\"334.8\" x=\"33.2875\" y=\"7.2\"/>\n  </clipPath>\n </defs>\n</svg>\n",
      "image/png": "[encoded data removed]"
     },
     "metadata": {
      "needs_background": "light"
     }
    }
   ],
   "source": [
    "from matplotlib.patches import Rectangle\n",
    "fig, ax = plt.subplots()\n",
    "colors = ['yellow', 'red', 'blue', 'green', 'pink', 'purple']\n",
    "xs = list()\n",
    "ys = list()\n",
    "for j in range(J):\n",
    "    center_x, center_y = model.getAttr('x', x_prime)[j], model.getAttr('x', y_prime)[j]\n",
    "    print(center_x, center_y)\n",
    "    xs.append(center_x)\n",
    "    ys.append(center_y)\n",
    "    if model.getAttr('x', s)[j] == 1: # p和x平行\n",
    "        corner_x = center_x - 0.5 * P[j]\n",
    "        corner_y = center_y - 0.5 * Q[j]\n",
    "        ax.add_patch(Rectangle((corner_x, corner_y), P[j], Q[j], color=colors[j%len(colors)]))\n",
    "    else: # p和y平行\n",
    "        corner_x = center_x - 0.5 * Q[j]\n",
    "        corner_y = center_y - 0.5 * P[j]\n",
    "        ax.add_patch(Rectangle((corner_x, corner_y), Q[j], P[j], color=colors[j%len(colors)]))\n",
    "    # break\n",
    "ax.scatter(xs, ys, c='black', zorder=100)\n"
   ]
  },
  {
   "source": [
    "### (d)"
   ],
   "cell_type": "markdown",
   "metadata": {}
  },
  {
   "cell_type": "code",
   "execution_count": 18,
   "metadata": {},
   "outputs": [],
   "source": [
    "import gurobipy as gp\n",
    "from gurobipy import GRB\n",
    "import matplotlib.pyplot as plt\n",
    "import math\n",
    "import numpy as np\n",
    "import time "
   ]
  },
  {
   "cell_type": "code",
   "execution_count": 19,
   "metadata": {},
   "outputs": [],
   "source": [
    "def q3_4(resolution=10, n1=4, n2=5, n3=3, timelimit=3*60, gap=0.04, limit=\"time\"):\n",
    "    start = time.time()\n",
    "    P = [8] * n1 + [9] * n2 + [18] * n3\n",
    "    Q = [16] * n1 + [9] * n2 + [3] * n3\n",
    "    x_bar = 16 * n1 + 9 * n2 + 18 * n3\n",
    "    y_bar = 16 * n1 + 9 * n2 + 18 * n3\n",
    "\n",
    "    J = len(P)\n",
    "    m_X = resolution\n",
    "    m_Y = resolution\n",
    "\n",
    "    a = list()\n",
    "    ln_a = list()\n",
    "    for _ in np.linspace(3, x_bar, num=m_X):\n",
    "        a.append(_)\n",
    "        ln_a.append(math.log(_))\n",
    "\n",
    "    b = list()\n",
    "    ln_b = list()\n",
    "    for _ in np.linspace(3, y_bar, num=m_Y):\n",
    "        b.append(_)\n",
    "        ln_b.append(math.log(_))\n",
    "\n",
    "    t_X = list()\n",
    "    for j in range(0, m_X-1):\n",
    "        t_X.append((ln_a[j+1] - ln_a[j]) / (a[j+1] - a[j]))\n",
    "\n",
    "    t_Y = list()\n",
    "    for j in range(0, m_Y-1):\n",
    "        t_Y.append((ln_b[j+1] - ln_b[j]) / (b[j+1] - b[j]))\n",
    "\n",
    "\n",
    "    model = gp.Model(\"cutting_stock\")\n",
    "    if limit == \"time\":\n",
    "        model.setParam('TimeLimit', timelimit)\n",
    "    elif limit == \"gap\":\n",
    "        model.setParam('MIPGap', gap)\n",
    "\n",
    "    x = model.addVar(lb=0.0, ub=float('inf'), vtype=GRB.CONTINUOUS, name=\"x\")\n",
    "    y = model.addVar(lb=0.0, ub=float('inf'), vtype=GRB.CONTINUOUS, name=\"y\")\n",
    "    x_prime = model.addVars(J, lb=0.0, ub=float('inf'), vtype=GRB.CONTINUOUS, name=\"x_prime\")\n",
    "    y_prime = model.addVars(J, lb=0.0, ub=float('inf'), vtype=GRB.CONTINUOUS, name=\"y_prime\")\n",
    "    s = model.addVars(J, vtype=GRB.BINARY, name=\"s\")\n",
    "    u = model.addVars(J, J, vtype=GRB.BINARY, name=\"u\")\n",
    "    v = model.addVars(J, J, vtype=GRB.BINARY, name=\"v\")\n",
    "    alpha_X = model.addVars(m_X, lb=0.0, ub=1.0, vtype=GRB.BINARY, name=\"alpha_X\")\n",
    "    alpha_Y = model.addVars(m_Y, lb=0.0, ub=1.0, vtype=GRB.BINARY, name=\"alpha_Y\")\n",
    "    beta_X = model.addVars(m_X, lb=0.0, ub=float('inf'), vtype=GRB.CONTINUOUS, name=\"beta_X\")\n",
    "    beta_Y = model.addVars(m_Y, lb=0.0, ub=float('inf'), vtype=GRB.CONTINUOUS, name=\"beta_Y\")\n",
    "\n",
    "    model.setObjective(\n",
    "        ln_a[0] + t_X[0] * (x - a[0]) + \\\n",
    "        gp.quicksum((t_X[j] - t_X[j-1]) * (a[j] * alpha_X[j] + x - a[j] - beta_X[j]) for j in range(1, m_X-1)) + \\\n",
    "        ln_b[0] + t_Y[0] * (y - b[0]) + \\\n",
    "        gp.quicksum((t_Y[j] - t_Y[j-1]) * (b[j] * alpha_Y[j] + y - b[j] - beta_Y[j]) for j in range(1, m_Y-1))\n",
    "    )\n",
    "\n",
    "    model.addConstrs(-x_bar * alpha_X[j] <= x - a[j] for j in range(1, m_X))\n",
    "    model.addConstrs(x - a[j] <= x_bar * (1 - alpha_X[j]) for j in range(1, m_X))\n",
    "    model.addConstrs(-x_bar * alpha_X[j] <= beta_X[j] for j in range(1, m_X))\n",
    "    model.addConstrs(beta_X[j] <= x_bar * alpha_X[j] for j in range(1, m_X))\n",
    "    model.addConstrs(x_bar * (alpha_X[j] - 1) + x <= beta_X[j] for j in range(1, m_X))\n",
    "    model.addConstrs(beta_X[j] <= x_bar * (1 - alpha_X[j]) + x for j in range(1, m_X))\n",
    "    model.addConstrs(alpha_X[j] >= alpha_X[j-1] for j in range(1, m_X))\n",
    "\n",
    "\n",
    "\n",
    "    model.addConstrs(-y_bar * alpha_Y[j] <= y - b[j] for j in range(1, m_Y))\n",
    "    model.addConstrs(y - b[j] <= y_bar * (1 - alpha_Y[j]) for j in range(1, m_Y))\n",
    "    model.addConstrs(-y_bar * alpha_Y[j] <= beta_Y[j] for j in range(1, m_Y))\n",
    "    model.addConstrs(beta_Y[j] <= y_bar * alpha_Y[j] for j in range(1, m_Y))\n",
    "    model.addConstrs(y_bar * (alpha_Y[j] - 1) + y <= beta_Y[j] for j in range(1, m_Y))\n",
    "    model.addConstrs(beta_Y[j] <= y_bar * (1 - alpha_Y[j]) + y for j in range(1, m_Y))\n",
    "    model.addConstrs(alpha_Y[j] >= alpha_Y[j-1] for j in range(1, m_Y))\n",
    "\n",
    "\n",
    "\n",
    "\n",
    "    model.addConstrs(\n",
    "        (x_prime[i] - x_prime[k]) + u[i,k] * x_bar + v[i,k] * x_bar >= \\\n",
    "        0.5 * (P[i] * s[i] + Q[i] * (1 - s[i]) + P[k] * s[k] + Q[k] * (1 - s[k])) \\\n",
    "        for i in range(J) for k in range(J) if i != k\n",
    "        )\n",
    "\n",
    "\n",
    "    model.addConstrs(\n",
    "        (x_prime[k] - x_prime[i]) + (1 - u[i,k]) * x_bar + v[i,k] * x_bar >= \\\n",
    "        0.5 * (P[i] * s[i] + Q[i] * (1 - s[i]) + P[k] * s[k] + Q[k] * (1 - s[k])) \\\n",
    "        for i in range(J) for k in range(J) if i != k\n",
    "        )\n",
    "\n",
    "    model.addConstrs(\n",
    "        (y_prime[i] - y_prime[k]) + u[i,k] * y_bar + (1 - v[i,k]) * y_bar >= \\\n",
    "        0.5 * (P[i] * (1 - s[i]) + Q[i] * s[i] + P[k] * (1 - s[k]) + Q[k] * s[k]) \\\n",
    "        for i in range(J) for k in range(J) if i != k\n",
    "        )\n",
    "\n",
    "    model.addConstrs(\n",
    "        (y_prime[k] - y_prime[i]) + (1 - u[i,k]) * y_bar + (1 - v[i,k]) * y_bar >= \\\n",
    "        0.5 * (P[i] * (1 - s[i]) + Q[i] * s[i] + P[k] * (1 - s[k]) + Q[k] * s[k]) \\\n",
    "        for i in range(J) for k in range(J) if i != k\n",
    "        )\n",
    "\n",
    "    model.addConstr(x_bar >= x)\n",
    "    model.addConstrs(x >= x_prime[i] + 0.5 * (P[i] * s[i] + Q[i] * (1 - s[i])) for i in range(J))\n",
    "    model.addConstr(y_bar >= y)\n",
    "    model.addConstrs(y >= y_prime[i] + 0.5 * (P[i] * (1 - s[i]) + Q[i] * s[i]) for i in range(J))\n",
    "\n",
    "    model.addConstrs(x_prime[i] - 0.5 * (P[i] * s[i] + Q[i] * (1 - s[i])) >= 0 for i in range(J))\n",
    "    model.addConstrs(y_prime[i] - 0.5 * (P[i] * (1 - s[i]) + Q[i] * s[i]) >= 0 for i in range(J))\n",
    "\n",
    "    model.optimize()\n",
    "    # print(\"objective value:\", model.objVal)\n",
    "    if limit == \"time\":\n",
    "        return model.objVal, model.MIPGap\n",
    "    elif limit == \"gap\":\n",
    "        return time.time() - start\n"
   ]
  },
  {
   "cell_type": "code",
   "execution_count": 14,
   "metadata": {
    "tags": []
   },
   "outputs": [
    {
     "output_type": "stream",
     "name": "stdout",
     "text": [
      "Changed value of parameter TimeLimit to 300.0\n",
      "   Prev: inf  Min: 0.0  Max: inf  Default: inf\n",
      "Gurobi Optimizer version 9.1.1 build v9.1.1rc0 (linux64)\n",
      "Thread count: 32 physical cores, 64 logical processors, using up to 32 threads\n",
      "Optimize a model with 704 rows, 366 columns and 3118 nonzeros\n",
      "Model fingerprint: 0x5d425985\n",
      "Variable types: 46 continuous, 320 integer (320 binary)\n",
      "Coefficient statistics:\n",
      "  Matrix range     [1e+00, 2e+02]\n",
      "  Objective range  [8e-04, 2e+00]\n",
      "  Bounds range     [1e+00, 1e+00]\n",
      "  RHS range        [2e+00, 3e+02]\n",
      "Found heuristic solution: objective 8.6111309\n",
      "Presolve removed 44 rows and 37 columns\n",
      "Presolve time: 0.01s\n",
      "Presolved: 660 rows, 329 columns, 3094 nonzeros\n",
      "Variable types: 42 continuous, 287 integer (287 binary)\n",
      "\n",
      "Root relaxation: objective 2.234054e+00, 190 iterations, 0.00 seconds\n",
      "\n",
      "    Nodes    |    Current Node    |     Objective Bounds      |     Work\n",
      " Expl Unexpl |  Obj  Depth IntInf | Incumbent    BestBd   Gap | It/Node Time\n",
      "\n",
      "     0     0    2.23405    0  153    8.61113    2.23405  74.1%     -    0s\n",
      "H    0     0                       7.2674699    2.23405  69.3%     -    0s\n",
      "H    0     0                       7.2405791    2.23405  69.1%     -    0s\n",
      "H    0     0                       7.1756740    2.23405  68.9%     -    0s\n",
      "     0     0    4.32776    0  215    7.17567    4.32776  39.7%     -    0s\n",
      "     0     0    4.32776    0  146    7.17567    4.32776  39.7%     -    0s\n",
      "H    0     0                       7.1330156    4.32776  39.3%     -    0s\n",
      "     0     2    4.32776    0  127    7.13302    4.32776  39.3%     -    0s\n",
      "H  160   171                       7.0263695    4.48326  36.2%  31.1    0s\n",
      "H  165   171                       7.0050402    4.48326  36.0%  30.5    0s\n",
      "* 2727  2008              90       6.9222683    4.70098  32.1%  10.9    0s\n",
      " 15517  6046    6.34821   73   40    6.92227    5.78258  16.5%  26.8    5s\n",
      "H16288  5669                       6.8663797    5.78258  15.8%  26.6    5s\n",
      "H16315  5654                       6.8542851    5.78258  15.6%  26.6    5s\n",
      "*17931  6510              95       6.8339208    5.78305  15.4%  26.3    5s\n",
      "*19429  6819              83       6.8030644    5.78305  15.0%  25.8    6s\n",
      "*24856  8356              96       6.7722081    5.78999  14.5%  24.7    6s\n",
      "\n",
      "Cutting planes:\n",
      "  Learned: 34\n",
      "  Gomory: 115\n",
      "  Cover: 68\n",
      "  Implied bound: 7\n",
      "  Projected implied bound: 1\n",
      "  MIR: 144\n",
      "  Flow cover: 477\n",
      "  Inf proof: 21\n",
      "  Zero half: 1\n",
      "  Network: 1\n",
      "  RLT: 49\n",
      "  Relax-and-lift: 26\n",
      "\n",
      "Explored 59420 nodes (1558102 simplex iterations) in 10.48 seconds\n",
      "Thread count was 32 (of 64 available processors)\n",
      "\n",
      "Solution count 10: 6.77221 6.80306 6.83392 ... 7.13302\n",
      "\n",
      "Solve interrupted\n",
      "Best objective 6.772208055720e+00, best bound 6.000771002806e+00, gap 11.3912%\n",
      "objective value: 6.772208055720064\n",
      "Changed value of parameter TimeLimit to 300.0\n",
      "   Prev: inf  Min: 0.0  Max: inf  Default: inf\n",
      "Gurobi Optimizer version 9.1.1 build v9.1.1rc0 (linux64)\n",
      "Thread count: 32 physical cores, 64 logical processors, using up to 32 threads\n",
      "Optimize a model with 732 rows, 374 columns and 3182 nonzeros\n",
      "Model fingerprint: 0x1ccebc0e\n",
      "Variable types: 50 continuous, 324 integer (324 binary)\n",
      "Coefficient statistics:\n",
      "  Matrix range     [1e+00, 2e+02]\n",
      "  Objective range  [7e-04, 1e+00]\n",
      "  Bounds range     [1e+00, 1e+00]\n",
      "  RHS range        [2e+00, 3e+02]\n",
      "Found heuristic solution: objective 7.9475706\n",
      "Presolve removed 48 rows and 37 columns\n",
      "Presolve time: 0.02s\n",
      "Presolved: 684 rows, 337 columns, 3166 nonzeros\n",
      "Variable types: 46 continuous, 291 integer (291 binary)\n",
      "\n",
      "Root relaxation: objective 2.160798e+00, 188 iterations, 0.00 seconds\n",
      "\n",
      "    Nodes    |    Current Node    |     Objective Bounds      |     Work\n",
      " Expl Unexpl |  Obj  Depth IntInf | Incumbent    BestBd   Gap | It/Node Time\n",
      "\n",
      "     0     0    2.16080    0  157    7.94757    2.16080  72.8%     -    0s\n",
      "H    0     0                       7.9036334    2.16080  72.7%     -    0s\n",
      "H    0     0                       7.2922630    2.16080  70.4%     -    0s\n",
      "     0     0    4.71083    0  180    7.29226    4.71083  35.4%     -    0s\n",
      "H    0     0                       7.1353795    4.71083  34.0%     -    0s\n",
      "     0     0    4.71083    0  149    7.13538    4.71083  34.0%     -    0s\n",
      "     0     2    4.71083    0  126    7.13538    4.71083  34.0%     -    0s\n",
      "H  211   195                       7.1167160    4.71083  33.8%  26.4    0s\n",
      "H 1054   797                       7.0318784    4.71083  33.0%  13.3    0s\n",
      "H 2998  1716                       7.0160680    5.63905  19.6%  12.9    3s\n",
      "\n",
      "Cutting planes:\n",
      "  Learned: 3\n",
      "  Gomory: 17\n",
      "  Cover: 32\n",
      "  Implied bound: 9\n",
      "  Projected implied bound: 1\n",
      "  Clique: 2\n",
      "  MIR: 89\n",
      "  Flow cover: 155\n",
      "  Zero half: 1\n",
      "  RLT: 25\n",
      "  Relax-and-lift: 13\n",
      "\n",
      "Explored 3034 nodes (64298 simplex iterations) in 4.31 seconds\n",
      "Thread count was 32 (of 64 available processors)\n",
      "\n",
      "Solution count 10: 7.01607 7.01607 7.01607 ... 7.94757\n",
      "\n",
      "Solve interrupted\n",
      "Best objective 7.016067998094e+00, best bound 5.639046360983e+00, gap 19.6267%\n",
      "objective value: 7.016067998093594\n",
      "Changed value of parameter TimeLimit to 300.0\n",
      "   Prev: inf  Min: 0.0  Max: inf  Default: inf\n",
      "Gurobi Optimizer version 9.1.1 build v9.1.1rc0 (linux64)\n",
      "Thread count: 32 physical cores, 64 logical processors, using up to 32 threads\n",
      "Optimize a model with 760 rows, 382 columns and 3246 nonzeros\n",
      "Model fingerprint: 0xfcc203cb\n",
      "Variable types: 54 continuous, 328 integer (328 binary)\n",
      "Coefficient statistics:\n",
      "  Matrix range     [1e+00, 2e+02]\n",
      "  Objective range  [5e-04, 1e+00]\n",
      "  Bounds range     [1e+00, 1e+00]\n",
      "  RHS range        [2e+00, 3e+02]\n",
      "Found heuristic solution: objective 7.9113435\n",
      "Presolve removed 52 rows and 37 columns\n",
      "Presolve time: 0.01s\n",
      "Presolved: 708 rows, 345 columns, 3238 nonzeros\n",
      "Variable types: 50 continuous, 295 integer (295 binary)\n",
      "\n",
      "Root relaxation: objective 2.100159e+00, 187 iterations, 0.00 seconds\n",
      "\n",
      "    Nodes    |    Current Node    |     Objective Bounds      |     Work\n",
      " Expl Unexpl |  Obj  Depth IntInf | Incumbent    BestBd   Gap | It/Node Time\n",
      "\n",
      "     0     0    2.10016    0  161    7.91134    2.10016  73.5%     -    0s\n",
      "H    0     0                       7.2936558    2.10016  71.2%     -    0s\n",
      "     0     0    5.08611    0  209    7.29366    5.08611  30.3%     -    0s\n",
      "     0     0    5.21149    0  145    7.29366    5.21149  28.5%     -    0s\n",
      "H    0     0                       7.2514847    5.21149  28.1%     -    0s\n",
      "H    0     0                       7.1076679    5.21149  26.7%     -    0s\n",
      "     0     2    5.21149    0  133    7.10767    5.21149  26.7%     -    0s\n",
      "H  160   161                       7.0389013    5.21149  26.0%  47.6    0s\n",
      "H  879   668                       7.0320954    5.21149  25.9%  20.1    0s\n",
      "H 2382  1738                       6.8231490    5.21149  23.6%  13.8    0s\n",
      "\n",
      "Cutting planes:\n",
      "  Learned: 93\n",
      "  Gomory: 34\n",
      "  Cover: 292\n",
      "  Implied bound: 59\n",
      "  MIR: 178\n",
      "  Inf proof: 8\n",
      "  RLT: 48\n",
      "\n",
      "Explored 6761 nodes (81308 simplex iterations) in 1.37 seconds\n",
      "Thread count was 32 (of 64 available processors)\n",
      "\n",
      "Solution count 7: 6.82315 7.0321 7.0389 ... 7.91134\n",
      "\n",
      "Solve interrupted\n",
      "Best objective 6.823148964722e+00, best bound 5.211485119260e+00, gap 23.6205%\n",
      "objective value: 6.823148964722092\n",
      "Changed value of parameter TimeLimit to 300.0\n",
      "   Prev: inf  Min: 0.0  Max: inf  Default: inf\n",
      "Gurobi Optimizer version 9.1.1 build v9.1.1rc0 (linux64)\n",
      "Thread count: 32 physical cores, 64 logical processors, using up to 32 threads\n",
      "Optimize a model with 788 rows, 390 columns and 3310 nonzeros\n",
      "Model fingerprint: 0xa4ae64b5\n",
      "Variable types: 58 continuous, 332 integer (332 binary)\n",
      "Coefficient statistics:\n",
      "  Matrix range     [1e+00, 2e+02]\n",
      "  Objective range  [5e-04, 1e+00]\n",
      "  Bounds range     [1e+00, 1e+00]\n",
      "  RHS range        [2e+00, 3e+02]\n",
      "Found heuristic solution: objective 7.7673760\n",
      "Presolve removed 56 rows and 37 columns\n",
      "Presolve time: 0.01s\n",
      "Presolved: 732 rows, 353 columns, 3310 nonzeros\n",
      "Variable types: 54 continuous, 299 integer (299 binary)\n",
      "\n",
      "Root relaxation: objective 2.045987e+00, 184 iterations, 0.00 seconds\n",
      "\n",
      "    Nodes    |    Current Node    |     Objective Bounds      |     Work\n",
      " Expl Unexpl |  Obj  Depth IntInf | Incumbent    BestBd   Gap | It/Node Time\n",
      "\n",
      "     0     0    2.04599    0  165    7.76738    2.04599  73.7%     -    0s\n",
      "H    0     0                       7.3832766    2.04599  72.3%     -    0s\n",
      "H    0     0                       7.3102116    2.04599  72.0%     -    0s\n",
      "H    0     0                       7.1946515    3.69700  48.6%     -    0s\n",
      "     0     0    5.40467    0  198    7.19465    5.40467  24.9%     -    0s\n",
      "     0     0    5.40467    0  132    7.19465    5.40467  24.9%     -    0s\n",
      "\n",
      "Cutting planes:\n",
      "  Learned: 8\n",
      "  Cover: 15\n",
      "  Implied bound: 49\n",
      "  MIR: 11\n",
      "  Flow cover: 2\n",
      "  RLT: 8\n",
      "\n",
      "Explored 1 nodes (1547 simplex iterations) in 0.13 seconds\n",
      "Thread count was 32 (of 64 available processors)\n",
      "\n",
      "Solution count 4: 7.19465 7.31021 7.38328 7.76738 \n",
      "\n",
      "Solve interrupted\n",
      "Best objective 7.194651493948e+00, best bound 5.404671182268e+00, gap 24.8793%\n",
      "objective value: 7.194651493948098\n",
      "Changed value of parameter TimeLimit to 300.0\n",
      "   Prev: inf  Min: 0.0  Max: inf  Default: inf\n",
      "Gurobi Optimizer version 9.1.1 build v9.1.1rc0 (linux64)\n",
      "Thread count: 32 physical cores, 64 logical processors, using up to 32 threads\n",
      "Optimize a model with 816 rows, 398 columns and 3374 nonzeros\n",
      "Model fingerprint: 0xe60106fa\n",
      "Variable types: 62 continuous, 336 integer (336 binary)\n",
      "Coefficient statistics:\n",
      "  Matrix range     [1e+00, 2e+02]\n",
      "  Objective range  [4e-04, 1e+00]\n",
      "  Bounds range     [1e+00, 1e+00]\n",
      "  RHS range        [2e+00, 3e+02]\n",
      "Found heuristic solution: objective 8.4459543\n",
      "Presolve removed 60 rows and 37 columns\n",
      "Presolve time: 0.01s\n",
      "Presolved: 756 rows, 361 columns, 3382 nonzeros\n",
      "Variable types: 58 continuous, 303 integer (303 binary)\n",
      "\n",
      "Root relaxation: objective 1.995949e+00, 190 iterations, 0.00 seconds\n",
      "\n",
      "    Nodes    |    Current Node    |     Objective Bounds      |     Work\n",
      " Expl Unexpl |  Obj  Depth IntInf | Incumbent    BestBd   Gap | It/Node Time\n",
      "\n",
      "     0     0    1.99595    0  169    8.44595    1.99595  76.4%     -    0s\n",
      "H    0     0                       7.4145390    1.99595  73.1%     -    0s\n",
      "H    0     0                       7.1777513    1.99595  72.2%     -    0s\n",
      "     0     0    5.37237    0  201    7.17775    5.37237  25.2%     -    0s\n",
      "\n",
      "Cutting planes:\n",
      "  Learned: 66\n",
      "  Gomory: 111\n",
      "  Cover: 47\n",
      "  Implied bound: 72\n",
      "  MIR: 193\n",
      "  Flow cover: 4\n",
      "  Network: 1\n",
      "  RLT: 33\n",
      "\n",
      "Explored 1 nodes (1111 simplex iterations) in 0.11 seconds\n",
      "Thread count was 32 (of 64 available processors)\n",
      "\n",
      "Solution count 3: 7.17775 7.41454 8.44595 \n",
      "\n",
      "Solve interrupted\n",
      "Best objective 7.177751270947e+00, best bound 5.372368786761e+00, gap 25.1525%\n",
      "objective value: 7.177751270947108\n"
     ]
    }
   ],
   "source": [
    "objs = list()\n",
    "gaps = list()\n",
    "for resolution in range(10, 20, 2):\n",
    "    obj, gap = q3_4(resolution=resolution, limit=\"time\")\n",
    "    objs.append(obj)\n",
    "    gaps.append(gap)\n",
    "\n",
    "\n",
    "\n",
    "\n"
   ]
  },
  {
   "cell_type": "code",
   "execution_count": null,
   "metadata": {},
   "outputs": [],
   "source": [
    "ts = list()\n",
    "for resolution in range(10, 20, 2):\n",
    "    t = q3_4(resolution=resolution, limit=\"gap\")\n",
    "    ts.append(t)\n"
   ]
  },
  {
   "source": [
    "讓model運算180秒過後的結果，依據線性化切段個數的改變，解的品質如圖所示，第一張圖是目標式值的改變，第二章圖是gap的改變\n",
    "\n",
    "\n"
   ],
   "cell_type": "markdown",
   "metadata": {}
  },
  {
   "cell_type": "code",
   "execution_count": null,
   "metadata": {},
   "outputs": [],
   "source": [
    "plt.plot(objs)"
   ]
  },
  {
   "cell_type": "code",
   "execution_count": null,
   "metadata": {},
   "outputs": [],
   "source": [
    "plt.plot(gaps)"
   ]
  },
  {
   "source": [
    "讓model運算直到達到gap < 0.04，依據線性化切段個數的改變，所花的時間如圖所示"
   ],
   "cell_type": "markdown",
   "metadata": {}
  },
  {
   "cell_type": "code",
   "execution_count": null,
   "metadata": {},
   "outputs": [],
   "source": [
    "plt.plot(ts)"
   ]
  },
  {
   "cell_type": "code",
   "execution_count": null,
   "metadata": {},
   "outputs": [],
   "source": []
  },
  {
   "cell_type": "code",
   "execution_count": null,
   "metadata": {},
   "outputs": [],
   "source": []
  },
  {
   "source": [
    "**隨著num of break point上升得到的objective value，x軸由25起算  \n",
    "隨著對ln的精準度越高，objective value上升，因為原本用內插法就會低估了。**\n"
   ],
   "cell_type": "markdown",
   "metadata": {}
  },
  {
   "cell_type": "code",
   "execution_count": 15,
   "metadata": {},
   "outputs": [
    {
     "output_type": "execute_result",
     "data": {
      "text/plain": [
       "[<matplotlib.lines.Line2D at 0x7f6e0786a090>]"
      ]
     },
     "metadata": {},
     "execution_count": 15
    },
    {
     "output_type": "display_data",
     "data": {
      "text/plain": "<Figure size 432x288 with 1 Axes>",
      "image/svg+xml": "<?xml version=\"1.0\" encoding=\"utf-8\" standalone=\"no\"?>\n<!DOCTYPE svg PUBLIC \"-//W3C//DTD SVG 1.1//EN\"\n  \"http://www.w3.org/Graphics/SVG/1.1/DTD/svg11.dtd\">\n<svg height=\"248.518125pt\" version=\"1.1\" viewBox=\"0 0 372.103125 248.518125\" width=\"372.103125pt\" xmlns=\"http://www.w3.org/2000/svg\" xmlns:xlink=\"http://www.w3.org/1999/xlink\">\n <metadata>\n  <rdf:RDF xmlns:cc=\"http://creativecommons.org/ns#\" xmlns:dc=\"http://purl.org/dc/elements/1.1/\" xmlns:rdf=\"http://www.w3.org/1999/02/22-rdf-syntax-ns#\">\n   <cc:Work>\n    <dc:type rdf:resource=\"http://purl.org/dc/dcmitype/StillImage\"/>\n    <dc:date>2021-04-27T12:18:43.817044</dc:date>\n    <dc:format>image/svg+xml</dc:format>\n    <dc:creator>\n     <cc:Agent>\n      <dc:title>Matplotlib v3.4.1, https://matplotlib.org/</dc:title>\n     </cc:Agent>\n    </dc:creator>\n   </cc:Work>\n  </rdf:RDF>\n </metadata>\n <defs>\n  <style type=\"text/css\">*{stroke-linecap:butt;stroke-linejoin:round;}</style>\n </defs>\n <g id=\"figure_1\">\n  <g id=\"patch_1\">\n   <path d=\"M 0 248.518125 \nL 372.103125 248.518125 \nL 372.103125 0 \nL 0 0 \nz\n\" style=\"fill:none;\"/>\n  </g>\n  <g id=\"axes_1\">\n   <g id=\"patch_2\">\n    <path d=\"M 30.103125 224.64 \nL 364.903125 224.64 \nL 364.903125 7.2 \nL 30.103125 7.2 \nz\n\" style=\"fill:#ffffff;\"/>\n   </g>\n   <g id=\"matplotlib.axis_1\">\n    <g id=\"xtick_1\">\n     <g id=\"line2d_1\">\n      <defs>\n       <path d=\"M 0 0 \nL 0 3.5 \n\" id=\"mce66cf3101\" style=\"stroke:#000000;stroke-width:0.8;\"/>\n      </defs>\n      <g>\n       <use style=\"stroke:#000000;stroke-width:0.8;\" x=\"45.321307\" xlink:href=\"#mce66cf3101\" y=\"224.64\"/>\n      </g>\n     </g>\n     <g id=\"text_1\">\n      <!-- 0.0 -->\n      <g transform=\"translate(37.369744 239.238438)scale(0.1 -0.1)\">\n       <defs>\n        <path d=\"M 2034 4250 \nQ 1547 4250 1301 3770 \nQ 1056 3291 1056 2328 \nQ 1056 1369 1301 889 \nQ 1547 409 2034 409 \nQ 2525 409 2770 889 \nQ 3016 1369 3016 2328 \nQ 3016 3291 2770 3770 \nQ 2525 4250 2034 4250 \nz\nM 2034 4750 \nQ 2819 4750 3233 4129 \nQ 3647 3509 3647 2328 \nQ 3647 1150 3233 529 \nQ 2819 -91 2034 -91 \nQ 1250 -91 836 529 \nQ 422 1150 422 2328 \nQ 422 3509 836 4129 \nQ 1250 4750 2034 4750 \nz\n\" id=\"DejaVuSans-30\" transform=\"scale(0.015625)\"/>\n        <path d=\"M 684 794 \nL 1344 794 \nL 1344 0 \nL 684 0 \nL 684 794 \nz\n\" id=\"DejaVuSans-2e\" transform=\"scale(0.015625)\"/>\n       </defs>\n       <use xlink:href=\"#DejaVuSans-30\"/>\n       <use x=\"63.623047\" xlink:href=\"#DejaVuSans-2e\"/>\n       <use x=\"95.410156\" xlink:href=\"#DejaVuSans-30\"/>\n      </g>\n     </g>\n    </g>\n    <g id=\"xtick_2\">\n     <g id=\"line2d_2\">\n      <g>\n       <use style=\"stroke:#000000;stroke-width:0.8;\" x=\"83.366761\" xlink:href=\"#mce66cf3101\" y=\"224.64\"/>\n      </g>\n     </g>\n     <g id=\"text_2\">\n      <!-- 0.5 -->\n      <g transform=\"translate(75.415199 239.238438)scale(0.1 -0.1)\">\n       <defs>\n        <path d=\"M 691 4666 \nL 3169 4666 \nL 3169 4134 \nL 1269 4134 \nL 1269 2991 \nQ 1406 3038 1543 3061 \nQ 1681 3084 1819 3084 \nQ 2600 3084 3056 2656 \nQ 3513 2228 3513 1497 \nQ 3513 744 3044 326 \nQ 2575 -91 1722 -91 \nQ 1428 -91 1123 -41 \nQ 819 9 494 109 \nL 494 744 \nQ 775 591 1075 516 \nQ 1375 441 1709 441 \nQ 2250 441 2565 725 \nQ 2881 1009 2881 1497 \nQ 2881 1984 2565 2268 \nQ 2250 2553 1709 2553 \nQ 1456 2553 1204 2497 \nQ 953 2441 691 2322 \nL 691 4666 \nz\n\" id=\"DejaVuSans-35\" transform=\"scale(0.015625)\"/>\n       </defs>\n       <use xlink:href=\"#DejaVuSans-30\"/>\n       <use x=\"63.623047\" xlink:href=\"#DejaVuSans-2e\"/>\n       <use x=\"95.410156\" xlink:href=\"#DejaVuSans-35\"/>\n      </g>\n     </g>\n    </g>\n    <g id=\"xtick_3\">\n     <g id=\"line2d_3\">\n      <g>\n       <use style=\"stroke:#000000;stroke-width:0.8;\" x=\"121.412216\" xlink:href=\"#mce66cf3101\" y=\"224.64\"/>\n      </g>\n     </g>\n     <g id=\"text_3\">\n      <!-- 1.0 -->\n      <g transform=\"translate(113.460653 239.238438)scale(0.1 -0.1)\">\n       <defs>\n        <path d=\"M 794 531 \nL 1825 531 \nL 1825 4091 \nL 703 3866 \nL 703 4441 \nL 1819 4666 \nL 2450 4666 \nL 2450 531 \nL 3481 531 \nL 3481 0 \nL 794 0 \nL 794 531 \nz\n\" id=\"DejaVuSans-31\" transform=\"scale(0.015625)\"/>\n       </defs>\n       <use xlink:href=\"#DejaVuSans-31\"/>\n       <use x=\"63.623047\" xlink:href=\"#DejaVuSans-2e\"/>\n       <use x=\"95.410156\" xlink:href=\"#DejaVuSans-30\"/>\n      </g>\n     </g>\n    </g>\n    <g id=\"xtick_4\">\n     <g id=\"line2d_4\">\n      <g>\n       <use style=\"stroke:#000000;stroke-width:0.8;\" x=\"159.45767\" xlink:href=\"#mce66cf3101\" y=\"224.64\"/>\n      </g>\n     </g>\n     <g id=\"text_4\">\n      <!-- 1.5 -->\n      <g transform=\"translate(151.506108 239.238438)scale(0.1 -0.1)\">\n       <use xlink:href=\"#DejaVuSans-31\"/>\n       <use x=\"63.623047\" xlink:href=\"#DejaVuSans-2e\"/>\n       <use x=\"95.410156\" xlink:href=\"#DejaVuSans-35\"/>\n      </g>\n     </g>\n    </g>\n    <g id=\"xtick_5\">\n     <g id=\"line2d_5\">\n      <g>\n       <use style=\"stroke:#000000;stroke-width:0.8;\" x=\"197.503125\" xlink:href=\"#mce66cf3101\" y=\"224.64\"/>\n      </g>\n     </g>\n     <g id=\"text_5\">\n      <!-- 2.0 -->\n      <g transform=\"translate(189.551563 239.238438)scale(0.1 -0.1)\">\n       <defs>\n        <path d=\"M 1228 531 \nL 3431 531 \nL 3431 0 \nL 469 0 \nL 469 531 \nQ 828 903 1448 1529 \nQ 2069 2156 2228 2338 \nQ 2531 2678 2651 2914 \nQ 2772 3150 2772 3378 \nQ 2772 3750 2511 3984 \nQ 2250 4219 1831 4219 \nQ 1534 4219 1204 4116 \nQ 875 4013 500 3803 \nL 500 4441 \nQ 881 4594 1212 4672 \nQ 1544 4750 1819 4750 \nQ 2544 4750 2975 4387 \nQ 3406 4025 3406 3419 \nQ 3406 3131 3298 2873 \nQ 3191 2616 2906 2266 \nQ 2828 2175 2409 1742 \nQ 1991 1309 1228 531 \nz\n\" id=\"DejaVuSans-32\" transform=\"scale(0.015625)\"/>\n       </defs>\n       <use xlink:href=\"#DejaVuSans-32\"/>\n       <use x=\"63.623047\" xlink:href=\"#DejaVuSans-2e\"/>\n       <use x=\"95.410156\" xlink:href=\"#DejaVuSans-30\"/>\n      </g>\n     </g>\n    </g>\n    <g id=\"xtick_6\">\n     <g id=\"line2d_6\">\n      <g>\n       <use style=\"stroke:#000000;stroke-width:0.8;\" x=\"235.54858\" xlink:href=\"#mce66cf3101\" y=\"224.64\"/>\n      </g>\n     </g>\n     <g id=\"text_6\">\n      <!-- 2.5 -->\n      <g transform=\"translate(227.597017 239.238438)scale(0.1 -0.1)\">\n       <use xlink:href=\"#DejaVuSans-32\"/>\n       <use x=\"63.623047\" xlink:href=\"#DejaVuSans-2e\"/>\n       <use x=\"95.410156\" xlink:href=\"#DejaVuSans-35\"/>\n      </g>\n     </g>\n    </g>\n    <g id=\"xtick_7\">\n     <g id=\"line2d_7\">\n      <g>\n       <use style=\"stroke:#000000;stroke-width:0.8;\" x=\"273.594034\" xlink:href=\"#mce66cf3101\" y=\"224.64\"/>\n      </g>\n     </g>\n     <g id=\"text_7\">\n      <!-- 3.0 -->\n      <g transform=\"translate(265.642472 239.238438)scale(0.1 -0.1)\">\n       <defs>\n        <path d=\"M 2597 2516 \nQ 3050 2419 3304 2112 \nQ 3559 1806 3559 1356 \nQ 3559 666 3084 287 \nQ 2609 -91 1734 -91 \nQ 1441 -91 1130 -33 \nQ 819 25 488 141 \nL 488 750 \nQ 750 597 1062 519 \nQ 1375 441 1716 441 \nQ 2309 441 2620 675 \nQ 2931 909 2931 1356 \nQ 2931 1769 2642 2001 \nQ 2353 2234 1838 2234 \nL 1294 2234 \nL 1294 2753 \nL 1863 2753 \nQ 2328 2753 2575 2939 \nQ 2822 3125 2822 3475 \nQ 2822 3834 2567 4026 \nQ 2313 4219 1838 4219 \nQ 1578 4219 1281 4162 \nQ 984 4106 628 3988 \nL 628 4550 \nQ 988 4650 1302 4700 \nQ 1616 4750 1894 4750 \nQ 2613 4750 3031 4423 \nQ 3450 4097 3450 3541 \nQ 3450 3153 3228 2886 \nQ 3006 2619 2597 2516 \nz\n\" id=\"DejaVuSans-33\" transform=\"scale(0.015625)\"/>\n       </defs>\n       <use xlink:href=\"#DejaVuSans-33\"/>\n       <use x=\"63.623047\" xlink:href=\"#DejaVuSans-2e\"/>\n       <use x=\"95.410156\" xlink:href=\"#DejaVuSans-30\"/>\n      </g>\n     </g>\n    </g>\n    <g id=\"xtick_8\">\n     <g id=\"line2d_8\">\n      <g>\n       <use style=\"stroke:#000000;stroke-width:0.8;\" x=\"311.639489\" xlink:href=\"#mce66cf3101\" y=\"224.64\"/>\n      </g>\n     </g>\n     <g id=\"text_8\">\n      <!-- 3.5 -->\n      <g transform=\"translate(303.687926 239.238438)scale(0.1 -0.1)\">\n       <use xlink:href=\"#DejaVuSans-33\"/>\n       <use x=\"63.623047\" xlink:href=\"#DejaVuSans-2e\"/>\n       <use x=\"95.410156\" xlink:href=\"#DejaVuSans-35\"/>\n      </g>\n     </g>\n    </g>\n    <g id=\"xtick_9\">\n     <g id=\"line2d_9\">\n      <g>\n       <use style=\"stroke:#000000;stroke-width:0.8;\" x=\"349.684943\" xlink:href=\"#mce66cf3101\" y=\"224.64\"/>\n      </g>\n     </g>\n     <g id=\"text_9\">\n      <!-- 4.0 -->\n      <g transform=\"translate(341.733381 239.238438)scale(0.1 -0.1)\">\n       <defs>\n        <path d=\"M 2419 4116 \nL 825 1625 \nL 2419 1625 \nL 2419 4116 \nz\nM 2253 4666 \nL 3047 4666 \nL 3047 1625 \nL 3713 1625 \nL 3713 1100 \nL 3047 1100 \nL 3047 0 \nL 2419 0 \nL 2419 1100 \nL 313 1100 \nL 313 1709 \nL 2253 4666 \nz\n\" id=\"DejaVuSans-34\" transform=\"scale(0.015625)\"/>\n       </defs>\n       <use xlink:href=\"#DejaVuSans-34\"/>\n       <use x=\"63.623047\" xlink:href=\"#DejaVuSans-2e\"/>\n       <use x=\"95.410156\" xlink:href=\"#DejaVuSans-30\"/>\n      </g>\n     </g>\n    </g>\n   </g>\n   <g id=\"matplotlib.axis_2\">\n    <g id=\"ytick_1\">\n     <g id=\"line2d_10\">\n      <defs>\n       <path d=\"M 0 0 \nL -3.5 0 \n\" id=\"mb7a9053b0e\" style=\"stroke:#000000;stroke-width:0.8;\"/>\n      </defs>\n      <g>\n       <use style=\"stroke:#000000;stroke-width:0.8;\" x=\"30.103125\" xlink:href=\"#mb7a9053b0e\" y=\"201.75176\"/>\n      </g>\n     </g>\n     <g id=\"text_10\">\n      <!-- 6.8 -->\n      <g transform=\"translate(7.2 205.550979)scale(0.1 -0.1)\">\n       <defs>\n        <path d=\"M 2113 2584 \nQ 1688 2584 1439 2293 \nQ 1191 2003 1191 1497 \nQ 1191 994 1439 701 \nQ 1688 409 2113 409 \nQ 2538 409 2786 701 \nQ 3034 994 3034 1497 \nQ 3034 2003 2786 2293 \nQ 2538 2584 2113 2584 \nz\nM 3366 4563 \nL 3366 3988 \nQ 3128 4100 2886 4159 \nQ 2644 4219 2406 4219 \nQ 1781 4219 1451 3797 \nQ 1122 3375 1075 2522 \nQ 1259 2794 1537 2939 \nQ 1816 3084 2150 3084 \nQ 2853 3084 3261 2657 \nQ 3669 2231 3669 1497 \nQ 3669 778 3244 343 \nQ 2819 -91 2113 -91 \nQ 1303 -91 875 529 \nQ 447 1150 447 2328 \nQ 447 3434 972 4092 \nQ 1497 4750 2381 4750 \nQ 2619 4750 2861 4703 \nQ 3103 4656 3366 4563 \nz\n\" id=\"DejaVuSans-36\" transform=\"scale(0.015625)\"/>\n        <path d=\"M 2034 2216 \nQ 1584 2216 1326 1975 \nQ 1069 1734 1069 1313 \nQ 1069 891 1326 650 \nQ 1584 409 2034 409 \nQ 2484 409 2743 651 \nQ 3003 894 3003 1313 \nQ 3003 1734 2745 1975 \nQ 2488 2216 2034 2216 \nz\nM 1403 2484 \nQ 997 2584 770 2862 \nQ 544 3141 544 3541 \nQ 544 4100 942 4425 \nQ 1341 4750 2034 4750 \nQ 2731 4750 3128 4425 \nQ 3525 4100 3525 3541 \nQ 3525 3141 3298 2862 \nQ 3072 2584 2669 2484 \nQ 3125 2378 3379 2068 \nQ 3634 1759 3634 1313 \nQ 3634 634 3220 271 \nQ 2806 -91 2034 -91 \nQ 1263 -91 848 271 \nQ 434 634 434 1313 \nQ 434 1759 690 2068 \nQ 947 2378 1403 2484 \nz\nM 1172 3481 \nQ 1172 3119 1398 2916 \nQ 1625 2713 2034 2713 \nQ 2441 2713 2670 2916 \nQ 2900 3119 2900 3481 \nQ 2900 3844 2670 4047 \nQ 2441 4250 2034 4250 \nQ 1625 4250 1398 4047 \nQ 1172 3844 1172 3481 \nz\n\" id=\"DejaVuSans-38\" transform=\"scale(0.015625)\"/>\n       </defs>\n       <use xlink:href=\"#DejaVuSans-36\"/>\n       <use x=\"63.623047\" xlink:href=\"#DejaVuSans-2e\"/>\n       <use x=\"95.410156\" xlink:href=\"#DejaVuSans-38\"/>\n      </g>\n     </g>\n    </g>\n    <g id=\"ytick_2\">\n     <g id=\"line2d_11\">\n      <g>\n       <use style=\"stroke:#000000;stroke-width:0.8;\" x=\"30.103125\" xlink:href=\"#mb7a9053b0e\" y=\"154.959051\"/>\n      </g>\n     </g>\n     <g id=\"text_11\">\n      <!-- 6.9 -->\n      <g transform=\"translate(7.2 158.75827)scale(0.1 -0.1)\">\n       <defs>\n        <path d=\"M 703 97 \nL 703 672 \nQ 941 559 1184 500 \nQ 1428 441 1663 441 \nQ 2288 441 2617 861 \nQ 2947 1281 2994 2138 \nQ 2813 1869 2534 1725 \nQ 2256 1581 1919 1581 \nQ 1219 1581 811 2004 \nQ 403 2428 403 3163 \nQ 403 3881 828 4315 \nQ 1253 4750 1959 4750 \nQ 2769 4750 3195 4129 \nQ 3622 3509 3622 2328 \nQ 3622 1225 3098 567 \nQ 2575 -91 1691 -91 \nQ 1453 -91 1209 -44 \nQ 966 3 703 97 \nz\nM 1959 2075 \nQ 2384 2075 2632 2365 \nQ 2881 2656 2881 3163 \nQ 2881 3666 2632 3958 \nQ 2384 4250 1959 4250 \nQ 1534 4250 1286 3958 \nQ 1038 3666 1038 3163 \nQ 1038 2656 1286 2365 \nQ 1534 2075 1959 2075 \nz\n\" id=\"DejaVuSans-39\" transform=\"scale(0.015625)\"/>\n       </defs>\n       <use xlink:href=\"#DejaVuSans-36\"/>\n       <use x=\"63.623047\" xlink:href=\"#DejaVuSans-2e\"/>\n       <use x=\"95.410156\" xlink:href=\"#DejaVuSans-39\"/>\n      </g>\n     </g>\n    </g>\n    <g id=\"ytick_3\">\n     <g id=\"line2d_12\">\n      <g>\n       <use style=\"stroke:#000000;stroke-width:0.8;\" x=\"30.103125\" xlink:href=\"#mb7a9053b0e\" y=\"108.166343\"/>\n      </g>\n     </g>\n     <g id=\"text_12\">\n      <!-- 7.0 -->\n      <g transform=\"translate(7.2 111.965562)scale(0.1 -0.1)\">\n       <defs>\n        <path d=\"M 525 4666 \nL 3525 4666 \nL 3525 4397 \nL 1831 0 \nL 1172 0 \nL 2766 4134 \nL 525 4134 \nL 525 4666 \nz\n\" id=\"DejaVuSans-37\" transform=\"scale(0.015625)\"/>\n       </defs>\n       <use xlink:href=\"#DejaVuSans-37\"/>\n       <use x=\"63.623047\" xlink:href=\"#DejaVuSans-2e\"/>\n       <use x=\"95.410156\" xlink:href=\"#DejaVuSans-30\"/>\n      </g>\n     </g>\n    </g>\n    <g id=\"ytick_4\">\n     <g id=\"line2d_13\">\n      <g>\n       <use style=\"stroke:#000000;stroke-width:0.8;\" x=\"30.103125\" xlink:href=\"#mb7a9053b0e\" y=\"61.373634\"/>\n      </g>\n     </g>\n     <g id=\"text_13\">\n      <!-- 7.1 -->\n      <g transform=\"translate(7.2 65.172853)scale(0.1 -0.1)\">\n       <use xlink:href=\"#DejaVuSans-37\"/>\n       <use x=\"63.623047\" xlink:href=\"#DejaVuSans-2e\"/>\n       <use x=\"95.410156\" xlink:href=\"#DejaVuSans-31\"/>\n      </g>\n     </g>\n    </g>\n    <g id=\"ytick_5\">\n     <g id=\"line2d_14\">\n      <g>\n       <use style=\"stroke:#000000;stroke-width:0.8;\" x=\"30.103125\" xlink:href=\"#mb7a9053b0e\" y=\"14.580926\"/>\n      </g>\n     </g>\n     <g id=\"text_14\">\n      <!-- 7.2 -->\n      <g transform=\"translate(7.2 18.380144)scale(0.1 -0.1)\">\n       <use xlink:href=\"#DejaVuSans-37\"/>\n       <use x=\"63.623047\" xlink:href=\"#DejaVuSans-2e\"/>\n       <use x=\"95.410156\" xlink:href=\"#DejaVuSans-32\"/>\n      </g>\n     </g>\n    </g>\n   </g>\n   <g id=\"line2d_15\">\n    <path clip-path=\"url(#p8ba85a9071)\" d=\"M 45.321307 214.756364 \nL 121.412216 100.647691 \nL 197.503125 190.919733 \nL 273.594034 17.083636 \nL 349.684943 24.991708 \n\" style=\"fill:none;stroke:#1f77b4;stroke-linecap:square;stroke-width:1.5;\"/>\n   </g>\n   <g id=\"patch_3\">\n    <path d=\"M 30.103125 224.64 \nL 30.103125 7.2 \n\" style=\"fill:none;stroke:#000000;stroke-linecap:square;stroke-linejoin:miter;stroke-width:0.8;\"/>\n   </g>\n   <g id=\"patch_4\">\n    <path d=\"M 364.903125 224.64 \nL 364.903125 7.2 \n\" style=\"fill:none;stroke:#000000;stroke-linecap:square;stroke-linejoin:miter;stroke-width:0.8;\"/>\n   </g>\n   <g id=\"patch_5\">\n    <path d=\"M 30.103125 224.64 \nL 364.903125 224.64 \n\" style=\"fill:none;stroke:#000000;stroke-linecap:square;stroke-linejoin:miter;stroke-width:0.8;\"/>\n   </g>\n   <g id=\"patch_6\">\n    <path d=\"M 30.103125 7.2 \nL 364.903125 7.2 \n\" style=\"fill:none;stroke:#000000;stroke-linecap:square;stroke-linejoin:miter;stroke-width:0.8;\"/>\n   </g>\n  </g>\n </g>\n <defs>\n  <clipPath id=\"p8ba85a9071\">\n   <rect height=\"217.44\" width=\"334.8\" x=\"30.103125\" y=\"7.2\"/>\n  </clipPath>\n </defs>\n</svg>\n",
      "image/png": "[encoded data removed]"
     },
     "metadata": {
      "needs_background": "light"
     }
    }
   ],
   "source": [
    "plt.plot(objs)"
   ]
  },
  {
   "source": [
    "**隨著num of break point上升得到的execute time，x軸由25起算  \n",
    "隨著對ln的精準度越高，執行速度變得更快。**\n"
   ],
   "cell_type": "markdown",
   "metadata": {}
  },
  {
   "cell_type": "code",
   "execution_count": 17,
   "metadata": {},
   "outputs": [
    {
     "output_type": "execute_result",
     "data": {
      "text/plain": [
       "0.032109147637417436"
      ]
     },
     "metadata": {},
     "execution_count": 17
    }
   ],
   "source": [
    "model.MIPGap"
   ]
  },
  {
   "cell_type": "code",
   "execution_count": null,
   "metadata": {},
   "outputs": [],
   "source": []
  }
 ],
 "metadata": {
  "kernelspec": {
   "name": "python3710jvsc74a57bd0934e6c75a0eeb828ce6b1a9a49d15b8b412e0d976aad4defdc3ceea4c4f6ddf5",
   "display_name": "Python 3.7.10 64-bit",
   "language": "python"
  },
  "language_info": {
   "codemirror_mode": {
    "name": "ipython",
    "version": 3
   },
   "file_extension": ".py",
   "mimetype": "text/x-python",
   "name": "python",
   "nbconvert_exporter": "python",
   "pygments_lexer": "ipython3",
   "version": "3.7.10"
  }
 },
 "nbformat": 4,
 "nbformat_minor": 5
}