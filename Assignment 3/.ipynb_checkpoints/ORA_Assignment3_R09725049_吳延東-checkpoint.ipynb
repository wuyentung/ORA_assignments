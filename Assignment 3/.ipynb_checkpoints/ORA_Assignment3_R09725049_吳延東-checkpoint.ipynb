{
 "cells": [
  {
   "cell_type": "code",
   "execution_count": 1,
   "metadata": {},
   "outputs": [],
   "source": [
    "from pulp import *\n",
    "import gurobipy as gp\n",
    "from gurobipy import GRB\n",
    "import matplotlib.pyplot as plt\n",
    "import math\n",
    "import numpy as np"
   ]
  },
  {
   "cell_type": "markdown",
   "metadata": {},
   "source": [
    " ## 1."
   ]
  },
  {
   "cell_type": "code",
   "execution_count": 2,
   "metadata": {},
   "outputs": [],
   "source": [
    "## add parameters\n",
    "W = [\n",
    "    [5, 3, 0, 0], \n",
    "    [0, 1, 8, 4]\n",
    "    ]\n",
    "\n",
    "V = [\n",
    "    [0, 6],\n",
    "    [6, 0]\n",
    "    ]\n",
    "\n",
    "A = [0, 4, 6, 10]\n",
    "B = [2, 0, 8, 4]\n",
    "\n",
    "M_INDEX = [0, 1, 2, 3]\n",
    "N_INDEX = [0, 1]\n"
   ]
  },
  {
   "cell_type": "markdown",
   "metadata": {},
   "source": [
    " ### (a)\n",
    " #### 因 X、Y 軸互相獨立，所以可以分別建立模型後，再將結果相加(以下的 $x$ 代換為 $y$ 後，即為在 $y$ 軸上的運算)\n",
    " #### Linear Form\n",
    " ##### Decision Variables\n",
    " $x_j, \\forall j \\in \\text{facilities}$: 新據點的$x$軸座標  \n",
    " $p_{jk}$: 新據點$j$到新據點$k$在$x$軸上的左邊幾單位  \n",
    " $q_{jk}$: 新據點$j$到新據點$k$在$x$軸上的右邊幾單位  \n",
    " $r_{ji}$: 新據點$j$到舊據點$i$在$x$軸上的右邊幾單位  \n",
    " $s_{ji}$: 新據點$j$到舊據點$i$在$x$軸上的左邊幾單位  \n",
    " ##### Model\n",
    " $\\text{min}  \\displaystyle{\\sum_{1 \\leq j < k \\leq n} v_{jk} (p_{jk} + q_{jk}) + \\sum_{j=1}^{n} \\sum_{i=1}^{m}w_{ji}(r^X_{ji} + s^X_{ji})}$  \n",
    " $\\text{s.t.}$  \n",
    " $x_j - q_{jk} + p_{jk} = x_k, 1 \\leq j < k \\leq n$  \n",
    " $x_j - r_{ji} + s_{ji} = a_i, 1 \\leq i \\leq m, 1 \\leq j \\leq n$  \n",
    " $x_j, x_k, r_{ji}, s_{ji}, q_{jk}, p_{jk} \\geq 0, \\forall j \\in \\text{facilities}$  \n",
    " ### (b)"
   ]
  },
  {
   "cell_type": "code",
   "execution_count": 4,
   "metadata": {},
   "outputs": [],
   "source": [
    "def prob_sep(prob_name=\"problem_s\", axis=0):\n",
    "    if axis:\n",
    "        a = B\n",
    "    else:\n",
    "        a = A\n",
    "    ## problem\n",
    "    prob = LpProblem(\"%s\" %prob_name, LpMinimize)\n",
    "\n",
    "    ## add variables\n",
    "    p = []\n",
    "    p.append(LpVariable.dicts(name=\"p0\", indexs=N_INDEX, lowBound=0, upBound=None, cat=\"continuous\"))\n",
    "    p.append(LpVariable.dicts(name=\"p1\", indexs=N_INDEX, lowBound=0, upBound=None, cat=\"continuous\"))\n",
    "    q = []\n",
    "    q.append(LpVariable.dicts(name=\"q0\", indexs=N_INDEX, lowBound=0, upBound=None, cat=\"continuous\"))\n",
    "    q.append(LpVariable.dicts(name=\"q1\", indexs=N_INDEX, lowBound=0, upBound=None, cat=\"continuous\"))\n",
    "    x = LpVariable.dicts(name=\"x\", indexs=N_INDEX, lowBound=0, upBound=None, cat=\"continuous\")\n",
    "    r = []\n",
    "    r.append(LpVariable.dicts(name=\"r0\", indexs=M_INDEX, lowBound=0, upBound=None, cat=\"continuous\"))\n",
    "    r.append(LpVariable.dicts(name=\"r1\", indexs=M_INDEX, lowBound=0, upBound=None, cat=\"continuous\"))\n",
    "    s = []\n",
    "    s.append(LpVariable.dicts(name=\"s0\", indexs=M_INDEX, lowBound=0, upBound=None, cat=\"continuous\"))\n",
    "    s.append(LpVariable.dicts(name=\"s1\", indexs=M_INDEX, lowBound=0, upBound=None, cat=\"continuous\"))\n",
    "\n",
    "\n",
    "    ## objective function\n",
    "    prob += lpSum(\n",
    "        [V[j][k] * (p[j][k] + q[j][k]) for j in N_INDEX for k in N_INDEX if j < k]\n",
    "        ) + lpSum(\n",
    "        [W[j][i] * (r[j][i] + s[j][i]) for i in M_INDEX for j in N_INDEX]\n",
    "        )\n",
    "\n",
    "    ## constraints\n",
    "    for j in N_INDEX:\n",
    "        for k in N_INDEX:\n",
    "            if j < k:\n",
    "                prob += x[j] - q[j][k] + p[j][k] == x[k]\n",
    "    for i in M_INDEX:\n",
    "        for j in N_INDEX:\n",
    "            prob += a[i] == x[j] - r[j][i] + s[j][i]\n",
    "\n",
    "    ## solve\n",
    "    prob.solve()\n",
    "    return prob"
   ]
  },
  {
   "cell_type": "code",
   "execution_count": 5,
   "metadata": {},
   "outputs": [],
   "source": [
    "def prob_result(prob):\n",
    "    print(\"Status for %s:\" %prob.name, LpStatus[prob.status])\n",
    "    target = []\n",
    "    #印出解及目標值\n",
    "    for v in prob.variables():\n",
    "        print(v.name, \"=\", v.varValue)\n",
    "        if \"x\" in v.name:\n",
    "            target.append(v.varValue)\n",
    "    print(\"---\")\n",
    "    print('obj=',value(prob.objective))\n",
    "    return target"
   ]
  },
  {
   "cell_type": "code",
   "execution_count": 6,
   "metadata": {},
   "outputs": [
    {
     "name": "stdout",
     "output_type": "stream",
     "text": [
      "Status for 1b_x: Optimal\n",
      "p0_1 = 2.0\n",
      "q0_1 = 0.0\n",
      "r0_0 = 4.0\n",
      "r0_1 = 0.0\n",
      "r0_2 = 0.0\n",
      "r0_3 = 0.0\n",
      "r1_0 = 6.0\n",
      "r1_1 = 2.0\n",
      "r1_2 = 0.0\n",
      "r1_3 = 0.0\n",
      "s0_0 = 0.0\n",
      "s0_1 = 0.0\n",
      "s0_2 = 2.0\n",
      "s0_3 = 6.0\n",
      "s1_0 = 0.0\n",
      "s1_1 = 0.0\n",
      "s1_2 = 0.0\n",
      "s1_3 = 4.0\n",
      "x_0 = 4.0\n",
      "x_1 = 6.0\n",
      "---\n",
      "obj= 50.0\n",
      "\n",
      "\n",
      "------------\n",
      "\n",
      "\n",
      "Status for 1b_y: Optimal\n",
      "p0_1 = 2.0\n",
      "q0_1 = 0.0\n",
      "r0_0 = 0.0\n",
      "r0_1 = 2.0\n",
      "r0_2 = 0.0\n",
      "r0_3 = 0.0\n",
      "r1_0 = 2.0\n",
      "r1_1 = 4.0\n",
      "r1_2 = 0.0\n",
      "r1_3 = 0.0\n",
      "s0_0 = 0.0\n",
      "s0_1 = 0.0\n",
      "s0_2 = 6.0\n",
      "s0_3 = 2.0\n",
      "s1_0 = 0.0\n",
      "s1_1 = 0.0\n",
      "s1_2 = 4.0\n",
      "s1_3 = 0.0\n",
      "x_0 = 2.0\n",
      "x_1 = 4.0\n",
      "---\n",
      "obj= 54.0\n"
     ]
    }
   ],
   "source": [
    "## 1b\n",
    "prob_x = prob_sep(prob_name=\"1b_x\", axis=0)\n",
    "xs = prob_result(prob=prob_x)\n",
    "print(\"\\n\\n------------\\n\\n\")\n",
    "prob_y = prob_sep(prob_name=\"1b_y\", axis=1)\n",
    "ys = prob_result(prob=prob_y)\n"
   ]
  },
  {
   "cell_type": "code",
   "execution_count": 7,
   "metadata": {},
   "outputs": [
    {
     "name": "stdout",
     "output_type": "stream",
     "text": [
      "new facility 1 located at: (4.0, 2.0)\n",
      "new facility 2 located at: (6.0, 4.0)\n",
      "objective value: 104\n"
     ]
    }
   ],
   "source": [
    "for j in N_INDEX:\n",
    "    print(\"new facility {} located at: ({}, {})\".format(j+1, xs[j], ys[j]))\n",
    "\n",
    "print(\"objective value:\", 104)"
   ]
  },
  {
   "cell_type": "code",
   "execution_count": 8,
   "metadata": {},
   "outputs": [
    {
     "data": {
      "image/png": "[encoded data removed]",
      "text/plain": [
       "<Figure size 576x432 with 1 Axes>"
      ]
     },
     "metadata": {
      "needs_background": "light"
     },
     "output_type": "display_data"
    },
    {
     "name": "stdout",
     "output_type": "stream",
     "text": [
      "藍色的點是舊的據點，紅色是新的\n"
     ]
    }
   ],
   "source": [
    "## 1c\n",
    "plt.figure(figsize=(8, 6))\n",
    "plt.scatter(A, B)\n",
    "plt.scatter(xs, ys, c=\"r\")\n",
    "plt.show()\n",
    "print(\"藍色的點是舊的據點，紅色是新的\")\n"
   ]
  },
  {
   "cell_type": "markdown",
   "metadata": {},
   "source": [
    " ## 2.\n",
    " ### (a)\n",
    " 令在$x$右邊的點的集合為$R$，在$x$左邊的點的集合為$L$，$W_i$為到點$i$的權重  \n",
    " 則$x$每向右$1$單位，相對於每個在右處的點的距離都會下降$1$單位、每個在左處的點的距離都會上升$1$單位，  \n",
    " 根據斜率的定義：  \n",
    " $x$每向右一單位，$f(x)$的改變量\n",
    " 可以得知，以每個點的相對改變量乘上$W_i$的和就是斜率： \n",
    " $$\\displaystyle{\\text{slope} = \\sum_{i \\in L}W_i - \\sum_{i \\in R}W_i}$$\n",
    "\n",
    " ### (b)\n",
    " 因為這是一個 convex function，亦即函數上的任意兩點連線段必在函數的上方，所以最佳解所在的位置會在斜率的正負號轉折之處(Optimality properties is because of the convexity of the function)，綜合(a)題的結論，我們知道函數的最低點必定是向右的weight與向左的weight抵銷到為$0$的情況，也就是在這個點才會發生斜率的正負號轉折。"
   ]
  },
  {
   "cell_type": "markdown",
   "metadata": {},
   "source": [
    " ## 3.\n",
    " 4個長為8寬為16、5個長為9寬為9、3個長為18寬為3的長方形\n",
    " ### (a)\n"
   ]
  },
  {
   "cell_type": "markdown",
   "metadata": {},
   "source": [
    " #### Variables\n",
    " $x$：總所需面積的$x$軸長度  \n",
    " $y$：總所需面積的$y$軸長度  \n",
    " $x_i^\\prime$：長方形$i$的中心點和原點沿著$x$軸的距離，$i \\in \\text{rectangles}$  \n",
    " $y_i^\\prime$：長方形$i$的中心點和原點沿著$y$軸的距離，$i \\in \\text{rectangles}$  \n",
    " $s_i$：長方形$i$的方向，$1$為$p$軸平行$x$軸，$0$為$p$軸平行$y$軸，$i \\in \\text{rectangles}$  \n",
    " $u_{ik}, v_{ik}$：分別表示長方形$i$與長方形$k$之間的平行與垂直相對位置，$i, k \\in \\text{rectangles}, i \\neq k$  \n",
    " $\\alpha^X_j, \\beta^X_j$：對$\\text{ln }x$線性化所需的變數，$2 \\leq j \\leq m^X$  \n",
    " $\\alpha^Y_j, \\beta^Y_j$：對$\\text{ln }y$線性化所需的變數，$2 \\leq j \\leq m^Y$  \n",
    "\n",
    "\n",
    " #### Model\n",
    " $\\displaystyle{\\text{min } \\text{ln }a_1 + t^X_1(x - a_1) + \\sum_{j=2}^{m^X-1}(t^X_j - t^X_{j-1})(a_j \\alpha^X_j + x - a_j - \\beta^X_j) + \\text{ln }b_1 + t^Y_1(y - b_1) + \\sum_{j=2}^{m^Y-1}(t^Y_j - t^Y_{j-1})(b_j \\alpha^Y_j + y - b_j - \\beta^Y_j)}$  \n",
    " \n",
    " $\\text{s.t.}$  \n",
    " $$- \\bar{x} \\alpha^X_j \\leq x - a_j \\leq \\bar{x}(1 - \\alpha^X_j)$$\n",
    " $$- \\bar{x} \\alpha^X_j \\leq \\beta^X_j \\leq \\bar{x} \\alpha^X_{j} $$\n",
    " $$\\bar{x} (\\alpha^X_j - 1) + x \\leq \\beta^X_j \\leq \\bar{x} (1 - \\alpha^X_j) + x $$\n",
    " $$\\alpha^X_j \\leq \\alpha^X_{j-1}$$\n",
    " $$\\forall 2 \\leq j \\leq m^X$$\n",
    "\n",
    " $$- \\bar{y} \\alpha^Y_j \\leq y - b_j \\leq \\bar{y}(1 - \\alpha^Y_j)$$\n",
    " $$- \\bar{y} \\alpha^Y_j \\leq \\beta^Y_j \\leq \\bar{y} \\alpha^Y_{j} $$\n",
    " $$\\bar{y} (\\alpha^Y_j - 1) + y \\leq \\beta^Y_j \\leq \\bar{y} (1 - \\alpha^Y_j) + y $$\n",
    " $$\\alpha^Y_j \\leq \\alpha^Y_{j-1}$$\n",
    " $$\\forall 2 \\leq j \\leq m^Y$$  \n",
    "\n",
    " $$(x^\\prime_i - x^\\prime_k) + u_{ik} \\bar{x} + v_{ik} \\bar{x} \\geq \\frac{1}{2} (p_i s_i + q_i (1-s_i) + p_k s_k + q_k (1-s_k)), \\forall i,k \\in \\text{rectangles} $$  \n",
    " $$(x^\\prime_k - x^\\prime_i) + (1 - u_{ik}) \\bar{x} + v_{ik} \\bar{x} \\geq \\frac{1}{2} (p_i s_i + q_i (1-s_i) + p_k s_k + q_k (1-s_k)), \\forall i,k \\in \\text{rectangles} $$  \n",
    " $$(y^\\prime_i - y^\\prime_k) + u_{ik} \\bar{y} + (1 - v_{ik}) \\bar{y} \\geq \\frac{1}{2} (p_i (1 - s_i) + q_i s_i + p_k (1 - s_k) + q_k s_k), \\forall i,k \\in \\text{rectangles} $$  \n",
    " $$(y^\\prime_k - y^\\prime_i) + (1 - u_{ik}) \\bar{y} + (1 - v_{ik}) \\bar{y} \\geq \\frac{1}{2} (p_i (1 - s_i) + q_i s_i + p_k (1 - s_k) + q_k s_k), \\forall i,k \\in \\text{rectangles} $$  \n",
    "\n",
    " $$\\bar{x} \\geq x \\geq x^\\prime_i + \\frac{1}{2}(p_i s_i + q_i (1-s_i)), \\forall i \\in \\text{rectangles} $$\n",
    " $$\\bar{y} \\geq y \\geq y^\\prime_i + \\frac{1}{2}(p_i (1-s_i) + q_i s_i), \\forall i \\in \\text{rectangles} $$\n",
    " $$x^\\prime_i - \\frac{1}{2}(p_i s_i + q_i (1-s_i)) \\geq 0, \\forall i \\in \\text{rectangles} $$\n",
    " $$y^\\prime_i - \\frac{1}{2}(p_i (1-s_i) + q_i s_i) \\geq 0, \\forall i \\in \\text{rectangles} $$\n",
    "\n",
    "\n",
    "\n",
    "\n",
    " $$s_i, u_{ik}, v_{ik}, \\alpha^X_j, \\alpha^Y_j \\in \\{0, 1\\}, \\text{else all varialbes} \\geq 0$$\n"
   ]
  },
  {
   "cell_type": "markdown",
   "metadata": {},
   "source": [
    " ### (b)"
   ]
  },
  {
   "cell_type": "code",
   "execution_count": 9,
   "metadata": {},
   "outputs": [],
   "source": [
    "import gurobipy as gp\n",
    "from gurobipy import GRB\n",
    "import matplotlib.pyplot as plt\n",
    "import math\n",
    "import numpy as np\n",
    "P = [8] * 4 + [9] * 5 + [18] * 3\n",
    "Q = [16] * 4 + [9] * 5 + [3] * 3\n",
    "X_BAR = 18 * 3 + 9 * 5 + 16 * 4\n",
    "Y_BAR = 18 * 3 + 9 * 5 + 16 * 4\n",
    "\n",
    "J = len(P)\n",
    "M_X = 25\n",
    "M_Y = 25\n",
    "\n"
   ]
  },
  {
   "cell_type": "code",
   "execution_count": 10,
   "metadata": {},
   "outputs": [
    {
     "data": {
      "text/plain": [
       "<matplotlib.collections.PathCollection at 0x287fc402848>"
      ]
     },
     "execution_count": 10,
     "metadata": {},
     "output_type": "execute_result"
    },
    {
     "data": {
      "image/png": "[encoded data removed]",
      "text/plain": [
       "<Figure size 432x288 with 1 Axes>"
      ]
     },
     "metadata": {
      "needs_background": "light"
     },
     "output_type": "display_data"
    }
   ],
   "source": [
    "A = list()\n",
    "ln_A = list()\n",
    "for _ in np.linspace(3, X_BAR, num=M_X):\n",
    "    A.append(_)\n",
    "    ln_A.append(math.log(_))\n",
    "\n",
    "B = list()\n",
    "ln_B = list()\n",
    "for _ in np.linspace(3, Y_BAR, num=M_Y):\n",
    "    B.append(_)\n",
    "    ln_B.append(math.log(_))\n",
    "\n",
    "SLOPE_X = list()\n",
    "for j in range(0, M_X-1):\n",
    "    SLOPE_X.append((ln_A[j+1] - ln_A[j]) / (A[j+1] - A[j]))\n",
    "\n",
    "SLOPE_Y = list()\n",
    "for j in range(0, M_Y-1):\n",
    "    SLOPE_Y.append((ln_B[j+1] - ln_B[j]) / (B[j+1] - B[j]))\n",
    "\n",
    "plt.scatter(A, ln_A)\n",
    "\n",
    "\n"
   ]
  },
  {
   "cell_type": "code",
   "execution_count": 11,
   "metadata": {},
   "outputs": [
    {
     "name": "stdout",
     "output_type": "stream",
     "text": [
      "Using license file C:\\Users\\user\\gurobi.lic\n",
      "Academic license - for non-commercial use only\n"
     ]
    }
   ],
   "source": [
    "prob_3 = gp.Model(\"cutting_stock\")"
   ]
  },
  {
   "cell_type": "code",
   "execution_count": 12,
   "metadata": {},
   "outputs": [],
   "source": [
    "x = prob_3.addVar(lb=0.0, ub=float('inf'), vtype=GRB.CONTINUOUS, name=\"x\")\n",
    "y = prob_3.addVar(lb=0.0, ub=float('inf'), vtype=GRB.CONTINUOUS, name=\"y\")\n",
    "x_prime = prob_3.addVars(J, lb=0.0, ub=float('inf'), vtype=GRB.CONTINUOUS, name=\"x_prime\")\n",
    "y_prime = prob_3.addVars(J, lb=0.0, ub=float('inf'), vtype=GRB.CONTINUOUS, name=\"y_prime\")\n",
    "s = prob_3.addVars(J, vtype=GRB.BINARY, name=\"s\")\n",
    "u = prob_3.addVars(J, J, vtype=GRB.BINARY, name=\"u\")\n",
    "v = prob_3.addVars(J, J, vtype=GRB.BINARY, name=\"v\")\n",
    "r_x = prob_3.addVars(M_X, lb=0.0, ub=1.0, vtype=GRB.BINARY, name=\"r_x\")\n",
    "r_y = prob_3.addVars(M_Y, lb=0.0, ub=1.0, vtype=GRB.BINARY, name=\"r_y\")\n",
    "w_x = prob_3.addVars(M_X, lb=0.0, ub=float('inf'), vtype=GRB.CONTINUOUS, name=\"w_x\")\n",
    "w_y = prob_3.addVars(M_Y, lb=0.0, ub=float('inf'), vtype=GRB.CONTINUOUS, name=\"w_y\")\n",
    "\n"
   ]
  },
  {
   "cell_type": "code",
   "execution_count": 13,
   "metadata": {},
   "outputs": [],
   "source": [
    "prob_3.setObjective(\n",
    "    ln_A[0] + SLOPE_X[0] * (x - A[0]) + \\\n",
    "    gp.quicksum((SLOPE_X[j] - SLOPE_X[j-1]) * (A[j] * r_x[j] + x - A[j] - w_x[j]) for j in range(1, M_X-1)) + \\\n",
    "    ln_B[0] + SLOPE_Y[0] * (y - B[0]) + \\\n",
    "    gp.quicksum((SLOPE_Y[j] - SLOPE_Y[j-1]) * (B[j] * r_y[j] + y - B[j] - w_y[j]) for j in range(1, M_Y-1))\n",
    ")\n",
    "\n"
   ]
  },
  {
   "cell_type": "code",
   "execution_count": 14,
   "metadata": {},
   "outputs": [
    {
     "data": {
      "text/plain": [
       "{0: <gurobi.Constr *Awaiting Model Update*>,\n",
       " 1: <gurobi.Constr *Awaiting Model Update*>,\n",
       " 2: <gurobi.Constr *Awaiting Model Update*>,\n",
       " 3: <gurobi.Constr *Awaiting Model Update*>,\n",
       " 4: <gurobi.Constr *Awaiting Model Update*>,\n",
       " 5: <gurobi.Constr *Awaiting Model Update*>,\n",
       " 6: <gurobi.Constr *Awaiting Model Update*>,\n",
       " 7: <gurobi.Constr *Awaiting Model Update*>,\n",
       " 8: <gurobi.Constr *Awaiting Model Update*>,\n",
       " 9: <gurobi.Constr *Awaiting Model Update*>,\n",
       " 10: <gurobi.Constr *Awaiting Model Update*>,\n",
       " 11: <gurobi.Constr *Awaiting Model Update*>}"
      ]
     },
     "execution_count": 14,
     "metadata": {},
     "output_type": "execute_result"
    }
   ],
   "source": [
    "prob_3.addConstrs(-X_BAR * r_x[j] <= x - A[j] for j in range(1, M_X))\n",
    "prob_3.addConstrs(x - A[j] <= X_BAR * (1 - r_x[j]) for j in range(1, M_X))\n",
    "prob_3.addConstrs(-X_BAR * r_x[j] <= w_x[j] for j in range(1, M_X))\n",
    "prob_3.addConstrs(w_x[j] <= X_BAR * r_x[j] for j in range(1, M_X))\n",
    "prob_3.addConstrs(X_BAR * (r_x[j] - 1) + x <= w_x[j] for j in range(1, M_X))\n",
    "prob_3.addConstrs(w_x[j] <= X_BAR * (1 - r_x[j]) + x for j in range(1, M_X))\n",
    "prob_3.addConstrs(r_x[j] <= r_x[j-1] for j in range(1, M_X))\n",
    "\n",
    "\n",
    "\n",
    "prob_3.addConstrs(-Y_BAR * r_y[j] <= y - B[j] for j in range(1, M_Y))\n",
    "prob_3.addConstrs(y - B[j] <= Y_BAR * (1 - r_y[j]) for j in range(1, M_Y))\n",
    "prob_3.addConstrs(-Y_BAR * r_y[j] <= w_y[j] for j in range(1, M_Y))\n",
    "prob_3.addConstrs(w_y[j] <= Y_BAR * r_y[j] for j in range(1, M_Y))\n",
    "prob_3.addConstrs(Y_BAR * (r_y[j] - 1) + y <= w_y[j] for j in range(1, M_Y))\n",
    "prob_3.addConstrs(w_y[j] <= Y_BAR * (1 - r_y[j]) + y for j in range(1, M_Y))\n",
    "prob_3.addConstrs(r_y[j] <= r_y[j-1] for j in range(1, M_Y))\n",
    "\n",
    "\n",
    "\n",
    "\n",
    "prob_3.addConstrs(\n",
    "    (x_prime[i] - x_prime[k]) + u[i,k] * X_BAR + v[i,k] * X_BAR >= \\\n",
    "    0.5 * (P[i] * s[i] + Q[i] * (1 - s[i]) + P[k] * s[k] + Q[k] * (1 - s[k])) \\\n",
    "    for i in range(J) for k in range(J) if i != k\n",
    "    )\n",
    "\n",
    "\n",
    "prob_3.addConstrs(\n",
    "    (x_prime[k] - x_prime[i]) + (1 - u[i,k]) * X_BAR + v[i,k] * X_BAR >= \\\n",
    "    0.5 * (P[i] * s[i] + Q[i] * (1 - s[i]) + P[k] * s[k] + Q[k] * (1 - s[k])) \\\n",
    "    for i in range(J) for k in range(J) if i != k\n",
    "    )\n",
    "\n",
    "prob_3.addConstrs(\n",
    "    (y_prime[i] - y_prime[k]) + u[i,k] * Y_BAR + (1 - v[i,k]) * Y_BAR >= \\\n",
    "    0.5 * (P[i] * (1 - s[i]) + Q[i] * s[i] + P[k] * (1 - s[k]) + Q[k] * s[k]) \\\n",
    "    for i in range(J) for k in range(J) if i != k\n",
    "    )\n",
    "\n",
    "prob_3.addConstrs(\n",
    "    (y_prime[k] - y_prime[i]) + (1 - u[i,k]) * Y_BAR + (1 - v[i,k]) * Y_BAR >= \\\n",
    "    0.5 * (P[i] * (1 - s[i]) + Q[i] * s[i] + P[k] * (1 - s[k]) + Q[k] * s[k]) \\\n",
    "    for i in range(J) for k in range(J) if i != k\n",
    "    )\n",
    "\n",
    "prob_3.addConstr(X_BAR >= x)\n",
    "prob_3.addConstrs(x >= x_prime[i] + 0.5 * (P[i] * s[i] + Q[i] * (1 - s[i])) for i in range(J))\n",
    "prob_3.addConstr(Y_BAR >= y)\n",
    "prob_3.addConstrs(y >= y_prime[i] + 0.5 * (P[i] * (1 - s[i]) + Q[i] * s[i]) for i in range(J))\n",
    "\n",
    "prob_3.addConstrs(x_prime[i] - 0.5 * (P[i] * s[i] + Q[i] * (1 - s[i])) >= 0 for i in range(J))\n",
    "prob_3.addConstrs(y_prime[i] - 0.5 * (P[i] * (1 - s[i]) + Q[i] * s[i]) >= 0 for i in range(J))\n",
    "\n"
   ]
  },
  {
   "cell_type": "code",
   "execution_count": 15,
   "metadata": {},
   "outputs": [
    {
     "name": "stdout",
     "output_type": "stream",
     "text": [
      "Gurobi Optimizer version 9.0.3 build v9.0.3rc0 (win64)\n",
      "Optimize a model with 914 rows, 426 columns and 3598 nonzeros\n",
      "Model fingerprint: 0x7fd9e564\n",
      "Variable types: 76 continuous, 350 integer (350 binary)\n",
      "Coefficient statistics:\n",
      "  Matrix range     [1e+00, 2e+02]\n",
      "  Objective range  [3e-04, 9e-01]\n",
      "  Bounds range     [1e+00, 1e+00]\n",
      "  RHS range        [2e+00, 3e+02]\n",
      "Presolve removed 344 rows and 127 columns\n",
      "Presolve time: 0.01s\n",
      "Presolved: 570 rows, 299 columns, 2826 nonzeros\n",
      "Variable types: 26 continuous, 273 integer (273 binary)\n",
      "\n",
      "Root relaxation: objective 4.417979e+00, 185 iterations, 0.00 seconds\n",
      "\n",
      "    Nodes    |    Current Node    |     Objective Bounds      |     Work\n",
      " Expl Unexpl |  Obj  Depth IntInf | Incumbent    BestBd   Gap | It/Node Time\n",
      "\n",
      "     0     0    4.41798    0  140          -    4.41798      -     -    0s\n",
      "H    0     0                       7.2454266    4.41798  39.0%     -    0s\n",
      "\n",
      "Cutting planes:\n",
      "  Learned: 66\n",
      "  Cover: 33\n",
      "  MIR: 136\n",
      "  RLT: 53\n",
      "\n",
      "Explored 1 nodes (478 simplex iterations) in 0.08 seconds\n",
      "Thread count was 8 (of 8 available processors)\n",
      "\n",
      "Solution count 1: 7.24543 \n",
      "\n",
      "Optimal solution found (tolerance 1.00e-04)\n",
      "Best objective 7.245426616860e+00, best bound 7.245426616860e+00, gap 0.0000%\n"
     ]
    }
   ],
   "source": [
    "prob_3.write('q3.lp')\n",
    "\n",
    "prob_3.optimize()\n"
   ]
  },
  {
   "cell_type": "markdown",
   "metadata": {},
   "source": [
    " ### (c)"
   ]
  },
  {
   "cell_type": "code",
   "execution_count": 16,
   "metadata": {},
   "outputs": [
    {
     "name": "stdout",
     "output_type": "stream",
     "text": [
      "4.0 7.999999999999943\n",
      "4.0 23.999999999989072\n",
      "4.0 39.99999999997787\n",
      "4.0 55.99999999996746\n",
      "4.5 68.49999999995663\n",
      "4.5 77.49999999994688\n",
      "4.5 86.49999999993867\n",
      "4.5 95.4999999999302\n",
      "4.5 104.49999999992195\n",
      "1.5 117.9999999999144\n",
      "4.499999999999746 117.99999999991462\n",
      "7.49999999999952 117.99999999991479\n"
     ]
    },
    {
     "data": {
      "text/plain": [
       "<matplotlib.collections.PathCollection at 0x287fbcccc08>"
      ]
     },
     "execution_count": 16,
     "metadata": {},
     "output_type": "execute_result"
    },
    {
     "data": {
      "image/png": "[encoded data removed]",
      "text/plain": [
       "<Figure size 432x288 with 1 Axes>"
      ]
     },
     "metadata": {
      "needs_background": "light"
     },
     "output_type": "display_data"
    }
   ],
   "source": [
    "from matplotlib.patches import Rectangle\n",
    "fig, ax = plt.subplots()\n",
    "colors = ['yellow', 'red', 'blue', 'green', 'pink', 'purple']\n",
    "xs = list()\n",
    "ys = list()\n",
    "for j in range(J):\n",
    "    center_x, center_y = prob_3.getAttr('x', x_prime)[j], prob_3.getAttr('x', y_prime)[j]\n",
    "    print(center_x, center_y)\n",
    "    xs.append(center_x)\n",
    "    ys.append(center_y)\n",
    "    if prob_3.getAttr('x', s)[j] == 1: # p和x平行\n",
    "        corner_x = center_x - 0.5 * P[j]\n",
    "        corner_y = center_y - 0.5 * Q[j]\n",
    "        ax.add_patch(Rectangle((corner_x, corner_y), P[j], Q[j], color=colors[j % len(colors)]))\n",
    "    else: # p和y平行\n",
    "        corner_x = center_x - 0.5 * Q[j]\n",
    "        corner_y = center_y - 0.5 * P[j]\n",
    "        ax.add_patch(Rectangle((corner_x, corner_y), Q[j], P[j], color=colors[j % len(colors)]))\n",
    "    # break\n",
    "ax.scatter(xs, ys, c='black', zorder=100)\n"
   ]
  },
  {
   "cell_type": "markdown",
   "metadata": {},
   "source": [
    " ### (d)"
   ]
  },
  {
   "cell_type": "code",
   "execution_count": 17,
   "metadata": {},
   "outputs": [],
   "source": [
    "import gurobipy as gp\n",
    "from gurobipy import GRB\n",
    "import matplotlib.pyplot as plt\n",
    "import math\n",
    "import numpy as np\n",
    "import time \n",
    "\n"
   ]
  },
  {
   "cell_type": "code",
   "execution_count": 18,
   "metadata": {},
   "outputs": [],
   "source": [
    "def q3_4(resolution):\n",
    "    start = time.time()\n",
    "    P = [8] * 4 + [9] * 5 + [18] * 3\n",
    "    Q = [16] * 4 + [9] * 5 + [3] * 3\n",
    "    x_bar = 18 * 3 + 9 * 5 + 16 * 4\n",
    "    y_bar = 18 * 3 + 9 * 5 + 16 * 4\n",
    "\n",
    "    J = len(P)\n",
    "    m_X = resolution\n",
    "    m_Y = resolution\n",
    "\n",
    "    a = list()\n",
    "    ln_a = list()\n",
    "    for _ in np.linspace(3, x_bar, num=m_X):\n",
    "        a.append(_)\n",
    "        ln_a.append(math.log(_))\n",
    "\n",
    "    b = list()\n",
    "    ln_b = list()\n",
    "    for _ in np.linspace(3, y_bar, num=m_Y):\n",
    "        b.append(_)\n",
    "        ln_b.append(math.log(_))\n",
    "\n",
    "    t_X = list()\n",
    "    for j in range(0, m_X-1):\n",
    "        t_X.append((ln_a[j+1] - ln_a[j]) / (a[j+1] - a[j]))\n",
    "\n",
    "    t_Y = list()\n",
    "    for j in range(0, m_Y-1):\n",
    "        t_Y.append((ln_b[j+1] - ln_b[j]) / (b[j+1] - b[j]))\n",
    "\n",
    "\n",
    "\n",
    "\n",
    "\n",
    "\n",
    "\n",
    "    model = gp.Model(\"cutting_stock\")\n",
    "    x = model.addVar(lb=0.0, ub=float('inf'), vtype=GRB.CONTINUOUS, name=\"x\")\n",
    "    y = model.addVar(lb=0.0, ub=float('inf'), vtype=GRB.CONTINUOUS, name=\"y\")\n",
    "    x_prime = model.addVars(J, lb=0.0, ub=float('inf'), vtype=GRB.CONTINUOUS, name=\"x_prime\")\n",
    "    y_prime = model.addVars(J, lb=0.0, ub=float('inf'), vtype=GRB.CONTINUOUS, name=\"y_prime\")\n",
    "    s = model.addVars(J, vtype=GRB.BINARY, name=\"s\")\n",
    "    u = model.addVars(J, J, vtype=GRB.BINARY, name=\"u\")\n",
    "    v = model.addVars(J, J, vtype=GRB.BINARY, name=\"v\")\n",
    "    alpha_X = model.addVars(m_X, lb=0.0, ub=1.0, vtype=GRB.BINARY, name=\"alpha_X\")\n",
    "    alpha_Y = model.addVars(m_Y, lb=0.0, ub=1.0, vtype=GRB.BINARY, name=\"alpha_Y\")\n",
    "    beta_X = model.addVars(m_X, lb=0.0, ub=float('inf'), vtype=GRB.CONTINUOUS, name=\"beta_X\")\n",
    "    beta_Y = model.addVars(m_Y, lb=0.0, ub=float('inf'), vtype=GRB.CONTINUOUS, name=\"beta_Y\")\n",
    "\n",
    "    model.setObjective(\n",
    "        ln_a[0] + t_X[0] * (x - a[0]) + \\\n",
    "        gp.quicksum((t_X[j] - t_X[j-1]) * (a[j] * alpha_X[j] + x - a[j] - beta_X[j]) for j in range(1, m_X-1)) + \\\n",
    "        ln_b[0] + t_Y[0] * (y - b[0]) + \\\n",
    "        gp.quicksum((t_Y[j] - t_Y[j-1]) * (b[j] * alpha_Y[j] + y - b[j] - beta_Y[j]) for j in range(1, m_Y-1))\n",
    "    )\n",
    "\n",
    "    model.addConstrs(-x_bar * alpha_X[j] <= x - a[j] for j in range(1, m_X))\n",
    "    model.addConstrs(x - a[j] <= x_bar * (1 - alpha_X[j]) for j in range(1, m_X))\n",
    "    model.addConstrs(-x_bar * alpha_X[j] <= beta_X[j] for j in range(1, m_X))\n",
    "    model.addConstrs(beta_X[j] <= x_bar * alpha_X[j] for j in range(1, m_X))\n",
    "    model.addConstrs(x_bar * (alpha_X[j] - 1) + x <= beta_X[j] for j in range(1, m_X))\n",
    "    model.addConstrs(beta_X[j] <= x_bar * (1 - alpha_X[j]) + x for j in range(1, m_X))\n",
    "    model.addConstrs(alpha_X[j] <= alpha_X[j-1] for j in range(1, m_X))\n",
    "\n",
    "\n",
    "\n",
    "    model.addConstrs(-y_bar * alpha_Y[j] <= y - b[j] for j in range(1, m_Y))\n",
    "    model.addConstrs(y - b[j] <= y_bar * (1 - alpha_Y[j]) for j in range(1, m_Y))\n",
    "    model.addConstrs(-y_bar * alpha_Y[j] <= beta_Y[j] for j in range(1, m_Y))\n",
    "    model.addConstrs(beta_Y[j] <= y_bar * alpha_Y[j] for j in range(1, m_Y))\n",
    "    model.addConstrs(y_bar * (alpha_Y[j] - 1) + y <= beta_Y[j] for j in range(1, m_Y))\n",
    "    model.addConstrs(beta_Y[j] <= y_bar * (1 - alpha_Y[j]) + y for j in range(1, m_Y))\n",
    "    model.addConstrs(alpha_Y[j] <= alpha_Y[j-1] for j in range(1, m_Y))\n",
    "\n",
    "\n",
    "\n",
    "\n",
    "    model.addConstrs(\n",
    "        (x_prime[i] - x_prime[k]) + u[i,k] * x_bar + v[i,k] * x_bar >= \\\n",
    "        0.5 * (P[i] * s[i] + Q[i] * (1 - s[i]) + P[k] * s[k] + Q[k] * (1 - s[k])) \\\n",
    "        for i in range(J) for k in range(J) if i != k\n",
    "        )\n",
    "\n",
    "\n",
    "    model.addConstrs(\n",
    "        (x_prime[k] - x_prime[i]) + (1 - u[i,k]) * x_bar + v[i,k] * x_bar >= \\\n",
    "        0.5 * (P[i] * s[i] + Q[i] * (1 - s[i]) + P[k] * s[k] + Q[k] * (1 - s[k])) \\\n",
    "        for i in range(J) for k in range(J) if i != k\n",
    "        )\n",
    "\n",
    "    model.addConstrs(\n",
    "        (y_prime[i] - y_prime[k]) + u[i,k] * y_bar + (1 - v[i,k]) * y_bar >= \\\n",
    "        0.5 * (P[i] * (1 - s[i]) + Q[i] * s[i] + P[k] * (1 - s[k]) + Q[k] * s[k]) \\\n",
    "        for i in range(J) for k in range(J) if i != k\n",
    "        )\n",
    "\n",
    "    model.addConstrs(\n",
    "        (y_prime[k] - y_prime[i]) + (1 - u[i,k]) * y_bar + (1 - v[i,k]) * y_bar >= \\\n",
    "        0.5 * (P[i] * (1 - s[i]) + Q[i] * s[i] + P[k] * (1 - s[k]) + Q[k] * s[k]) \\\n",
    "        for i in range(J) for k in range(J) if i != k\n",
    "        )\n",
    "\n",
    "    model.addConstr(x_bar >= x)\n",
    "    model.addConstrs(x >= x_prime[i] + 0.5 * (P[i] * s[i] + Q[i] * (1 - s[i])) for i in range(J))\n",
    "    model.addConstr(y_bar >= y)\n",
    "    model.addConstrs(y >= y_prime[i] + 0.5 * (P[i] * (1 - s[i]) + Q[i] * s[i]) for i in range(J))\n",
    "\n",
    "    model.addConstrs(x_prime[i] - 0.5 * (P[i] * s[i] + Q[i] * (1 - s[i])) >= 0 for i in range(J))\n",
    "    model.addConstrs(y_prime[i] - 0.5 * (P[i] * (1 - s[i]) + Q[i] * s[i]) >= 0 for i in range(J))\n",
    "\n",
    "    model.optimize()\n",
    "    print(\"objective value:\", model.objVal)\n",
    "    return model.objVal, time.time() - start\n",
    "\n"
   ]
  },
  {
   "cell_type": "code",
   "execution_count": 19,
   "metadata": {},
   "outputs": [
    {
     "name": "stdout",
     "output_type": "stream",
     "text": [
      "Gurobi Optimizer version 9.0.3 build v9.0.3rc0 (win64)\n",
      "Optimize a model with 914 rows, 426 columns and 3598 nonzeros\n",
      "Model fingerprint: 0x7fd9e564\n",
      "Variable types: 76 continuous, 350 integer (350 binary)\n",
      "Coefficient statistics:\n",
      "  Matrix range     [1e+00, 2e+02]\n",
      "  Objective range  [3e-04, 9e-01]\n",
      "  Bounds range     [1e+00, 1e+00]\n",
      "  RHS range        [2e+00, 3e+02]\n",
      "Presolve removed 344 rows and 127 columns\n",
      "Presolve time: 0.01s\n",
      "Presolved: 570 rows, 299 columns, 2826 nonzeros\n",
      "Variable types: 26 continuous, 273 integer (273 binary)\n",
      "\n",
      "Root relaxation: objective 4.417979e+00, 185 iterations, 0.00 seconds\n",
      "\n",
      "    Nodes    |    Current Node    |     Objective Bounds      |     Work\n",
      " Expl Unexpl |  Obj  Depth IntInf | Incumbent    BestBd   Gap | It/Node Time\n",
      "\n",
      "     0     0    4.41798    0  140          -    4.41798      -     -    0s\n",
      "H    0     0                       7.2454266    4.41798  39.0%     -    0s\n",
      "\n",
      "Cutting planes:\n",
      "  Learned: 66\n",
      "  Cover: 33\n",
      "  MIR: 136\n",
      "  RLT: 53\n",
      "\n",
      "Explored 1 nodes (478 simplex iterations) in 0.07 seconds\n",
      "Thread count was 8 (of 8 available processors)\n",
      "\n",
      "Solution count 1: 7.24543 \n",
      "\n",
      "Optimal solution found (tolerance 1.00e-04)\n",
      "Best objective 7.245426616860e+00, best bound 7.245426616860e+00, gap 0.0000%\n",
      "objective value: 7.245426616860102\n",
      "Gurobi Optimizer version 9.0.3 build v9.0.3rc0 (win64)\n",
      "Optimize a model with 928 rows, 430 columns and 3630 nonzeros\n",
      "Model fingerprint: 0xff94edf9\n",
      "Variable types: 78 continuous, 352 integer (352 binary)\n",
      "Coefficient statistics:\n",
      "  Matrix range     [1e+00, 2e+02]\n",
      "  Objective range  [3e-04, 9e-01]\n",
      "  Bounds range     [1e+00, 1e+00]\n",
      "  RHS range        [2e+00, 3e+02]\n",
      "Presolve removed 358 rows and 131 columns\n",
      "Presolve time: 0.01s\n",
      "Presolved: 570 rows, 299 columns, 2826 nonzeros\n",
      "Variable types: 26 continuous, 273 integer (273 binary)\n",
      "\n",
      "Root relaxation: objective 4.452596e+00, 185 iterations, 0.00 seconds\n",
      "\n",
      "    Nodes    |    Current Node    |     Objective Bounds      |     Work\n",
      " Expl Unexpl |  Obj  Depth IntInf | Incumbent    BestBd   Gap | It/Node Time\n",
      "\n",
      "     0     0    4.45260    0  140          -    4.45260      -     -    0s\n",
      "H    0     0                       7.2630788    4.45260  38.7%     -    0s\n",
      "\n",
      "Cutting planes:\n",
      "  Learned: 66\n",
      "  Cover: 33\n",
      "  MIR: 136\n",
      "  RLT: 53\n",
      "\n",
      "Explored 1 nodes (478 simplex iterations) in 0.06 seconds\n",
      "Thread count was 8 (of 8 available processors)\n",
      "\n",
      "Solution count 1: 7.26308 \n",
      "\n",
      "Optimal solution found (tolerance 1.00e-04)\n",
      "Best objective 7.263078802545e+00, best bound 7.263078802545e+00, gap 0.0000%\n",
      "objective value: 7.263078802544728\n",
      "Gurobi Optimizer version 9.0.3 build v9.0.3rc0 (win64)\n",
      "Optimize a model with 942 rows, 434 columns and 3662 nonzeros\n",
      "Model fingerprint: 0xe487b1db\n",
      "Variable types: 80 continuous, 354 integer (354 binary)\n",
      "Coefficient statistics:\n",
      "  Matrix range     [1e+00, 2e+02]\n",
      "  Objective range  [3e-04, 9e-01]\n",
      "  Bounds range     [1e+00, 1e+00]\n",
      "  RHS range        [2e+00, 3e+02]\n",
      "Presolve removed 372 rows and 135 columns\n",
      "Presolve time: 0.01s\n",
      "Presolved: 570 rows, 299 columns, 2826 nonzeros\n",
      "Variable types: 26 continuous, 273 integer (273 binary)\n",
      "\n",
      "Root relaxation: objective 4.485848e+00, 185 iterations, 0.00 seconds\n",
      "\n",
      "    Nodes    |    Current Node    |     Objective Bounds      |     Work\n",
      " Expl Unexpl |  Obj  Depth IntInf | Incumbent    BestBd   Gap | It/Node Time\n",
      "\n",
      "     0     0    4.48585    0  140          -    4.48585      -     -    0s\n",
      "H    0     0                       7.2800353    4.48585  38.4%     -    0s\n",
      "\n",
      "Cutting planes:\n",
      "  Learned: 66\n",
      "  Cover: 33\n",
      "  MIR: 136\n",
      "  RLT: 53\n",
      "\n",
      "Explored 1 nodes (478 simplex iterations) in 0.06 seconds\n",
      "Thread count was 8 (of 8 available processors)\n",
      "\n",
      "Solution count 1: 7.28004 \n",
      "\n",
      "Optimal solution found (tolerance 1.00e-04)\n",
      "Best objective 7.280035290282e+00, best bound 7.280035290282e+00, gap 0.0000%\n",
      "objective value: 7.280035290282209\n",
      "Gurobi Optimizer version 9.0.3 build v9.0.3rc0 (win64)\n",
      "Optimize a model with 956 rows, 438 columns and 3694 nonzeros\n",
      "Model fingerprint: 0x793b5721\n",
      "Variable types: 82 continuous, 356 integer (356 binary)\n",
      "Coefficient statistics:\n",
      "  Matrix range     [1e+00, 2e+02]\n",
      "  Objective range  [2e-04, 9e-01]\n",
      "  Bounds range     [1e+00, 1e+00]\n",
      "  RHS range        [2e+00, 3e+02]\n",
      "Presolve removed 400 rows and 143 columns\n",
      "Presolve time: 0.00s\n",
      "Presolved: 556 rows, 295 columns, 2784 nonzeros\n",
      "Variable types: 24 continuous, 271 integer (271 binary)\n",
      "\n",
      "Root relaxation: interrupted, 0 iterations, 0.00 seconds\n",
      "\n",
      "    Nodes    |    Current Node    |     Objective Bounds      |     Work\n",
      " Expl Unexpl |  Obj  Depth IntInf | Incumbent    BestBd   Gap | It/Node Time\n",
      "\n",
      "H    0     0                      10.1875004   10.18750  0.00%     -    0s\n",
      "\n",
      "Explored 0 nodes (0 simplex iterations) in 0.02 seconds\n",
      "Thread count was 8 (of 8 available processors)\n",
      "\n",
      "Solution count 1: 10.1875 \n",
      "\n",
      "Optimal solution found (tolerance 1.00e-04)\n",
      "Best objective 1.018750040161e+01, best bound 1.018750040161e+01, gap 0.0000%\n",
      "objective value: 10.187500401613523\n",
      "Gurobi Optimizer version 9.0.3 build v9.0.3rc0 (win64)\n",
      "Optimize a model with 970 rows, 442 columns and 3726 nonzeros\n",
      "Model fingerprint: 0x0a7e23a2\n",
      "Variable types: 84 continuous, 358 integer (358 binary)\n",
      "Coefficient statistics:\n",
      "  Matrix range     [1e+00, 2e+02]\n",
      "  Objective range  [2e-04, 9e-01]\n",
      "  Bounds range     [1e+00, 1e+00]\n",
      "  RHS range        [2e+00, 3e+02]\n",
      "Presolve removed 414 rows and 147 columns\n",
      "Presolve time: 0.00s\n",
      "Presolved: 556 rows, 295 columns, 2784 nonzeros\n",
      "Variable types: 24 continuous, 271 integer (271 binary)\n",
      "\n",
      "Root relaxation: interrupted, 0 iterations, 0.00 seconds\n",
      "\n",
      "    Nodes    |    Current Node    |     Objective Bounds      |     Work\n",
      " Expl Unexpl |  Obj  Depth IntInf | Incumbent    BestBd   Gap | It/Node Time\n",
      "\n",
      "H    0     0                      10.1875004   10.18750  0.00%     -    0s\n",
      "\n",
      "Explored 0 nodes (0 simplex iterations) in 0.03 seconds\n",
      "Thread count was 8 (of 8 available processors)\n",
      "\n",
      "Solution count 1: 10.1875 \n",
      "\n",
      "Optimal solution found (tolerance 1.00e-04)\n",
      "Best objective 1.018750040161e+01, best bound 1.018750040161e+01, gap 0.0000%\n",
      "objective value: 10.187500401613523\n"
     ]
    }
   ],
   "source": [
    "objs = list()\n",
    "times = list()\n",
    "for resolution in range(25, 30, 1):\n",
    "    obj, t = q3_4(resolution)\n",
    "    objs.append(obj)\n",
    "    times.append(t)\n",
    "\n",
    "\n"
   ]
  },
  {
   "cell_type": "markdown",
   "metadata": {},
   "source": [
    " **隨著num of break point上升得到的objective value，x軸由25起算\n",
    " 隨著對ln的精準度越高，objective value上升，因為原本用內插法就會低估了。**\n"
   ]
  },
  {
   "cell_type": "code",
   "execution_count": 20,
   "metadata": {},
   "outputs": [
    {
     "data": {
      "text/plain": [
       "[<matplotlib.lines.Line2D at 0x287fd5f0e08>]"
      ]
     },
     "execution_count": 20,
     "metadata": {},
     "output_type": "execute_result"
    },
    {
     "data": {
      "image/png": "[encoded data removed]",
      "text/plain": [
       "<Figure size 432x288 with 1 Axes>"
      ]
     },
     "metadata": {
      "needs_background": "light"
     },
     "output_type": "display_data"
    }
   ],
   "source": [
    "plt.plot(objs)\n"
   ]
  },
  {
   "cell_type": "markdown",
   "metadata": {},
   "source": [
    " **隨著num of break point上升得到的execute time，x軸由25起算\n",
    " 隨著對ln的精準度越高，執行速度變得更快。**\n"
   ]
  },
  {
   "cell_type": "code",
   "execution_count": 21,
   "metadata": {},
   "outputs": [
    {
     "data": {
      "text/plain": [
       "[<matplotlib.lines.Line2D at 0x287fd5a1448>]"
      ]
     },
     "execution_count": 21,
     "metadata": {},
     "output_type": "execute_result"
    },
    {
     "data": {
      "image/png": "[encoded data removed]",
      "text/plain": [
       "<Figure size 432x288 with 1 Axes>"
      ]
     },
     "metadata": {
      "needs_background": "light"
     },
     "output_type": "display_data"
    }
   ],
   "source": [
    "plt.plot(times)\n",
    "\n"
   ]
  },
  {
   "cell_type": "code",
   "execution_count": null,
   "metadata": {},
   "outputs": [],
   "source": [
    "times\n",
    "\n"
   ]
  },
  {
   "cell_type": "code",
   "execution_count": null,
   "metadata": {},
   "outputs": [],
   "source": [
    "\n",
    "\n",
    "\n"
   ]
  }
 ],
 "metadata": {
  "kernelspec": {
   "display_name": "Python 3",
   "language": "python",
   "name": "python3"
  },
  "language_info": {
   "codemirror_mode": {
    "name": "ipython",
    "version": 3
   },
   "file_extension": ".py",
   "mimetype": "text/x-python",
   "name": "python",
   "nbconvert_exporter": "python",
   "pygments_lexer": "ipython3",
   "version": "3.7.6"
  }
 },
 "nbformat": 4,
 "nbformat_minor": 4
}
