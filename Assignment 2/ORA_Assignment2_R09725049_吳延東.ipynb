{
 "cells": [
  {
   "cell_type": "markdown",
   "metadata": {},
   "source": [
    "# 1.\n",
    "## (a) (5%) Define decision variables and give linear programming (LP) formulation with respect to average yield scenario (i.e. EV solution)."
   ]
  },
  {
   "cell_type": "markdown",
   "metadata": {},
   "source": [
    "### set:\n",
    "$I$ : set of products, $I=$ {wheat, corn, sugar}\n",
    "\n",
    "### index:\n",
    "$i$ : index of products $i$, $i$ $\\in$ $I$\n",
    "\n",
    "### parameters:\n",
    "$C_i$ : cost per acre for each unit product $i$, $\\forall$$i$ $\\in$ $I$  \n",
    "$Y_i$ : average yield of product $i$ per acre, $\\forall$$i$ $\\in$ $I$  \n",
    "$D_i$ : price changing threshold for product $i$, $\\forall$$i$ $\\in$ $I$  \n",
    "$P^a_i$ : price for product $i$ when its yield is above $D_i$, $\\forall$$i$ $\\in$ $I$  \n",
    "$P^b_i$ : price for product $i$ when its yield is below $D_i$, $\\forall$$i$ $\\in$ $I$\n",
    "\n",
    "### decision variables:\n",
    "$l_i$ : lands to plant product $i$, $\\forall$$i$ $\\in$ $I$  \n",
    "$p_i$ : profit gain when product $i$ harvest, $\\forall$$i$ $\\in$ $I$\n",
    "\n",
    "### objective function:\n",
    "$$max = \\sum_{i\\in I}p_i - \\sum_{i\\in I}C_i l_i$$\n",
    "### constraints:\n",
    "$$\\sum_{i\\in I}l_i \\leq 500$$  \n",
    "$$p_i \\leq -|P^b_i| * D_i + |P^b_i| * l_i * Y_i, i={wheat, corn}$$  \n",
    "$$p_i \\leq -|P^a_i| * D_i + |P^a_i| * l_i * Y_i, i= {wheat, corn} $$  \n",
    "$$p_i \\leq P^b_i * l_i * Y_i, i={sugar}$$  \n",
    "$$p_i \\leq |P^b_i - P^a_i| * D_i + P^a_i * l_i * Y_i, i={sugar}$$  \n",
    "$$l_i \\geq 0, i \\in I$$  \n",
    "$$p_i \\in free, i \\in I$$  "
   ]
  },
  {
   "cell_type": "code",
   "execution_count": 1,
   "metadata": {},
   "outputs": [],
   "source": [
    "from pulp import *\n",
    "import numpy as np\n",
    "import scipy.stats"
   ]
  },
  {
   "cell_type": "code",
   "execution_count": 2,
   "metadata": {},
   "outputs": [],
   "source": [
    "def solve_prob(LpProb):\n",
    "    LpProb.solve()\n",
    "    #查看目前解的狀態\n",
    "    print(\"Status:\", LpStatus[LpProb.status])\n",
    "\n",
    "    #印出解及目標值\n",
    "    for v in LpProb.variables():\n",
    "        print(v.name, \"=\", v.varValue)\n",
    "    print('obj=',value(LpProb.objective))\n",
    "    pass"
   ]
  },
  {
   "cell_type": "code",
   "execution_count": 3,
   "metadata": {},
   "outputs": [],
   "source": [
    "## add parameters\n",
    "Products = ['Wheat', 'Corn', 'Sugar']\n",
    "\n",
    "Costs = { # per acre\n",
    "    Products[0]: 150, \n",
    "    Products[1]: 230, \n",
    "    Products[2]: 260, \n",
    "    }\n",
    "\n",
    "Avg_yield = { # average yield of products per acre\n",
    "    Products[0]: 2.5, \n",
    "    Products[1]: 3, \n",
    "    Products[2]: 20, \n",
    "    }\n",
    "\n",
    "Demands = { # ton\n",
    "    Products[0]: 200, \n",
    "    Products[1]: 240, \n",
    "    Products[2]: 6000, # set sugar price threshhold as demand\n",
    "    }\n",
    "\n",
    "Price_above = { # selling price when total yeild is above demand\n",
    "    Products[0]: 170, \n",
    "    Products[1]: 150, \n",
    "    Products[2]: 10, \n",
    "    }\n",
    "\n",
    "Price_below = { # selling price when total yeild is below demand\n",
    "    Products[0]: -238, \n",
    "    Products[1]: -210, \n",
    "    Products[2]: 36, \n",
    "    }"
   ]
  },
  {
   "cell_type": "code",
   "execution_count": 4,
   "metadata": {},
   "outputs": [],
   "source": [
    "def prob_senario_ana(prob_name=\"problem_s\", s=1):\n",
    "    ## problem\n",
    "    prob_senario = LpProblem(\"%s\" %prob_name, LpMaximize)\n",
    "\n",
    "    ## add variables\n",
    "    land_vars = LpVariable.dicts(name=\"Land\", indexs=Products, lowBound=0, upBound=None, cat=\"continuous\")\n",
    "    profits = LpVariable.dicts(name=\"profit\", indexs=Products, lowBound=None, upBound=None, cat=\"continuous\")\n",
    "\n",
    "    ## objective function\n",
    "    prob_senario += lpSum(\n",
    "        [-Costs[i] * land_vars[i] for i in Products] + \n",
    "        [profits[i] for i in Products] # splitting piecewise profit function into two\n",
    "        )\n",
    "\n",
    "    ## constraints\n",
    "    prob_senario += 500 >= lpSum(land_vars[i] for i in Products) # total land limit\n",
    "\n",
    "    prob_senario += profits[\"Wheat\"] <= [-np.abs(Price_below[i]) * Demands[i] + np.abs(Price_below[i]) * land_vars[i] * Avg_yield[i] * s for i in [\"Wheat\"]] # pay price when yield below demand (piecewise)\n",
    "    prob_senario += profits[\"Wheat\"] <= [-np.abs(Price_above[i]) * Demands[i] + np.abs(Price_above[i]) * land_vars[i] * Avg_yield[i] * s for i in [\"Wheat\"]] # get profit when yield above demand (piecewise)\n",
    "\n",
    "    prob_senario += profits[\"Corn\"] <= [-np.abs(Price_below[i]) * Demands[i] + np.abs(Price_below[i]) * land_vars[i] * Avg_yield[i] * s for i in [\"Corn\"]] # pay price when yield below demand (piecewise)\n",
    "    prob_senario += profits[\"Corn\"] <= [-np.abs(Price_above[i]) * Demands[i] + np.abs(Price_above[i]) * land_vars[i] * Avg_yield[i] * s for i in [\"Corn\"]] # get profit when yield above demand (piecewise)\n",
    "\n",
    "    prob_senario += profits[\"Sugar\"] <= [Price_below[i] * land_vars[i] * Avg_yield[i] * s for i in [\"Sugar\"]] # get higher profit ratio when yield below demand (piecewise)\n",
    "    prob_senario += profits[\"Sugar\"] <= [np.abs(Price_below[i] - Price_above[i]) * Demands[i] + Price_above[i] * land_vars[i] * Avg_yield[i] * s for i in [\"Sugar\"]] # get lower profit ratio when yield above demand (piecewise)\n",
    "\n",
    "    ## solve\n",
    "    prob_senario.solve()\n",
    "    return prob_senario"
   ]
  },
  {
   "cell_type": "code",
   "execution_count": 5,
   "metadata": {},
   "outputs": [],
   "source": [
    "def prob_result(prob):\n",
    "    print(\"Status for %s:\" %prob.name, LpStatus[prob.status])\n",
    "\n",
    "    #印出解及目標值\n",
    "    for v in prob.variables():\n",
    "        print(v.name, \"=\", v.varValue)\n",
    "    print('obj=',value(prob.objective))\n",
    "    pass"
   ]
  },
  {
   "cell_type": "code",
   "execution_count": 6,
   "metadata": {},
   "outputs": [],
   "source": [
    "def senario_obj(determined_land, s=1):\n",
    "    cost = np.sum([determined_land[i] * Costs[i] for i in Products])\n",
    "\n",
    "    profits = {\n",
    "        Products[0]: 0,\n",
    "        Products[1]: 0,\n",
    "        Products[2]: 0,\n",
    "    }\n",
    "\n",
    "    for i in Products:\n",
    "        y = determined_land[i] * Avg_yield[i] * s\n",
    "        if y <= Demands[i]:\n",
    "            if i != \"Sugar\":\n",
    "                profits[i] = Price_below[i] * (Demands[i] - y)\n",
    "            else:\n",
    "                profits[i] = Price_below[i] * y\n",
    "        else:\n",
    "            if i != \"Sugar\":\n",
    "                profits[i] = Price_above[i] * (y - Demands[i])\n",
    "            else:\n",
    "                profits[i] = Price_above[i] * (y - Demands[i]) + Price_below[i] * Demands[i]\n",
    "    return np.sum([profits[i] for i in Products]) - cost"
   ]
  },
  {
   "cell_type": "code",
   "execution_count": 21,
   "metadata": {},
   "outputs": [
    {
     "name": "stdout",
     "output_type": "stream",
     "text": [
      "Status for EV_solution: Optimal\n",
      "Land_Corn = 80.0\n",
      "Land_Sugar = 300.0\n",
      "Land_Wheat = 120.0\n",
      "profit_Corn = 0.0\n",
      "profit_Sugar = 216000.0\n",
      "profit_Wheat = 17000.0\n",
      "obj= 118600.0\n"
     ]
    }
   ],
   "source": [
    "## 1a\n",
    "prob_a = prob_senario_ana(prob_name=\"EV_solution\")\n",
    "prob_result(prob=prob_a)\n",
    "\n",
    "# https://docs.mosek.com/modeling-cookbook/mio.html\n",
    "# http://civil.colorado.edu/~balajir/CVEN5393/lectures/chapter-08.pdf"
   ]
  },
  {
   "cell_type": "markdown",
   "metadata": {},
   "source": [
    "## (b) (5%) Solve the solution of Scenario Analysis and the EV solution?"
   ]
  },
  {
   "cell_type": "code",
   "execution_count": 8,
   "metadata": {},
   "outputs": [],
   "source": [
    "## 1b\n",
    "Senario = {\n",
    "    \"high\" : 1.2, \n",
    "    \"avg\" : 1, \n",
    "    \"low\" : 0.8\n",
    "    }"
   ]
  },
  {
   "cell_type": "code",
   "execution_count": 22,
   "metadata": {},
   "outputs": [
    {
     "name": "stdout",
     "output_type": "stream",
     "text": [
      "Status for senario_analysis_high: Optimal\n",
      "Land_Corn = 66.666667\n",
      "Land_Sugar = 250.0\n",
      "Land_Wheat = 183.33333\n",
      "profit_Corn = 0.0\n",
      "profit_Sugar = 216000.0\n",
      "profit_Wheat = 59500.0\n",
      "obj= 167666.66709\n",
      "\n",
      "Status for senario_analysis_avg: Optimal\n",
      "Land_Corn = 80.0\n",
      "Land_Sugar = 300.0\n",
      "Land_Wheat = 120.0\n",
      "profit_Corn = 0.0\n",
      "profit_Sugar = 216000.0\n",
      "profit_Wheat = 17000.0\n",
      "obj= 118600.0\n",
      "\n",
      "Status for senario_analysis_low: Optimal\n",
      "Land_Corn = 25.0\n",
      "Land_Sugar = 375.0\n",
      "Land_Wheat = 100.0\n",
      "profit_Corn = -37800.0\n",
      "profit_Sugar = 216000.0\n",
      "profit_Wheat = 0.0\n",
      "obj= 59950.0\n",
      "\n"
     ]
    }
   ],
   "source": [
    "prob_1bs = {}\n",
    "for s in Senario:\n",
    "    prob_1bs[s] = prob_senario_ana(prob_name=\"senario_analysis_%s\" %s, s=Senario[s])\n",
    "    prob_result(prob=prob_1bs[s])\n",
    "    print()\n"
   ]
  },
  {
   "cell_type": "markdown",
   "metadata": {},
   "source": [
    "### Answer for (b):\n",
    "#### senario analysis:\n",
    "- objective value when high demand: 167666\n",
    "- objective value when average demand: 118600\n",
    "- objective value when low demand: 59950  \n",
    "\n",
    "#### EV solution:\n",
    "- objective value: 118600"
   ]
  },
  {
   "cell_type": "markdown",
   "metadata": {},
   "source": [
    "## (c) (5%) Define new decision variables and give deterministic equivalent problem (DEP) formulation of two-stage recourse problem (RP)."
   ]
  },
  {
   "cell_type": "markdown",
   "metadata": {},
   "source": [
    "### scenario:\n",
    "for each scenario $\\omega$ $\\in$ {$\\omega^1$, $\\omega^2$, $\\omega^3$}, where each correspond to scenarios \"high\", \"average\", \"low\" for yield rate\n",
    "\n",
    "### index:\n",
    "$s$ : index of scenarios $s$, $s$ $\\in$ $\\omega$\n",
    "\n",
    "### add parameters:\n",
    "$S_s$ : yield rate scenario for $s$, $\\forall$$s$ $\\in$ $\\omega$  \n",
    "\n",
    "### first-stage decision variables:\n",
    "$l_i$ : lands to plant product $i$, $\\forall$$i$ $\\in$ $I$ \n",
    "\n",
    "### second-stage decision variables:\n",
    "$p^s_i$ : profit gain when product $i$ harvest under scenario $s$, $\\forall$$i$ $\\in$ $I$, $\\forall$$s$ $\\in$ $\\omega$\n",
    "\n",
    "### objective function:\n",
    "$$max = 1/3 \\sum_{s\\in\\omega}\\sum_{i\\in I}p_i - \\sum_{i\\in I}C_i l_i$$\n",
    "### constraints:\n",
    "$$\\sum_{i\\in I}l_i \\leq 500$$  \n",
    "$$p_i \\leq -|P^b_i| * D_i + |P^b_i| * l_i * Y_i * S_s, i=(wheat, corn), s\\in\\omega$$  \n",
    "$$p_i \\leq -|P^a_i| * D_i + |P^a_i| * l_i * Y_i * S_s, i= (wheat, corn), s\\in\\omega $$  \n",
    "$$p_i \\leq P^b_i * l_i * Y_i * S_s, i=(sugar), s\\in\\omega$$  \n",
    "$$p_i \\leq |P^b_i - P^a_i| * D_i + P^a_i * l_i * Y_i * S_s, i=(sugar), s\\in\\omega$$  \n",
    "$$l_i \\geq 0, i \\in I$$  \n",
    "$$p_i \\in free, i \\in I$$  \n",
    "$$s\\in\\omega$$"
   ]
  },
  {
   "cell_type": "markdown",
   "metadata": {},
   "source": [
    "## (d) (5%) Solve the RP model."
   ]
  },
  {
   "cell_type": "code",
   "execution_count": 10,
   "metadata": {},
   "outputs": [
    {
     "name": "stdout",
     "output_type": "stream",
     "text": [
      "Status: Optimal\n",
      "lands_for_Corn = 80.0\n",
      "lands_for_Sugar = 250.0\n",
      "lands_for_Wheat = 170.0\n",
      "profit_when_avg_yield_Corn = 0.0\n",
      "profit_when_avg_yield_Sugar = 180000.0\n",
      "profit_when_avg_yield_Wheat = 38250.0\n",
      "profit_when_high_yield_Corn = 7200.0\n",
      "profit_when_high_yield_Sugar = 216000.0\n",
      "profit_when_high_yield_Wheat = 52700.0\n",
      "profit_when_low_yield_Corn = -10080.0\n",
      "profit_when_low_yield_Sugar = 144000.0\n",
      "profit_when_low_yield_Wheat = 23800.0\n",
      "obj= 108390.0\n"
     ]
    }
   ],
   "source": [
    "## 1d\n",
    "## model\n",
    "all_stages = LpProblem(\"problem_1c\", LpMaximize)\n",
    "## vars\n",
    "lands = LpVariable.dicts(name=\"lands_for\", indexs=Products, lowBound=0, upBound=None, cat=\"continuous\")\n",
    "profits = {}\n",
    "for s in Senario:\n",
    "    profits[s] = LpVariable.dicts(name=\"profit_when_%s_yield\" %s, indexs=Products, lowBound=None, upBound=None, cat=\"continuous\")\n",
    "\n",
    "## obj\n",
    "all_stages += lpSum([-Costs[i] * lands[i] for i in Products]) + 1/3 * lpSum([profits[s][i] for s in Senario for i in Products])\n",
    "\n",
    "## st\n",
    "### land\n",
    "all_stages += 500 >= lpSum([lands[i] for i in Products])\n",
    "\n",
    "### \n",
    "for s in Senario:\n",
    "    all_stages += profits[s][\"Wheat\"] <= [-np.abs(Price_below[i]) * Demands[i] + np.abs(Price_below[i]) * lands[i] * Avg_yield[i] * Senario[s] for i in [\"Wheat\"]] # pay price when yield below demand (piecewise)\n",
    "    all_stages += profits[s][\"Wheat\"] <= [-np.abs(Price_above[i]) * Demands[i] + np.abs(Price_above[i]) * lands[i] * Avg_yield[i] * Senario[s] for i in [\"Wheat\"]] # get profit when yield above demand (piecewise)\n",
    "\n",
    "    all_stages += profits[s][\"Corn\"] <= [-np.abs(Price_below[i]) * Demands[i] + np.abs(Price_below[i]) * lands[i] * Avg_yield[i] * Senario[s] for i in [\"Corn\"]] # pay price when yield below demand (piecewise)\n",
    "    all_stages += profits[s][\"Corn\"] <= [-np.abs(Price_above[i]) * Demands[i] + np.abs(Price_above[i]) * lands[i] * Avg_yield[i] * Senario[s] for i in [\"Corn\"]] # get profit when yield above demand (piecewise)\n",
    "\n",
    "    all_stages += profits[s][\"Sugar\"] <= [Price_below[i] * lands[i] * Avg_yield[i] * Senario[s] for i in [\"Sugar\"]] # get higher profit ratio when yield below demand (piecewise)\n",
    "    all_stages += profits[s][\"Sugar\"] <= [np.abs(Price_below[i] - Price_above[i]) * Demands[i] + Price_above[i] * lands[i] * Avg_yield[i] * Senario[s] for i in [\"Sugar\"]] # get lower profit ratio when yield above demand (piecewise)\n",
    "\n",
    "solve_prob(all_stages)"
   ]
  },
  {
   "cell_type": "markdown",
   "metadata": {},
   "source": [
    "### lands for each product:\n",
    "- wheat: 170\n",
    "- corn: 80\n",
    "- sugar: 250"
   ]
  },
  {
   "cell_type": "code",
   "execution_count": 24,
   "metadata": {},
   "outputs": [
    {
     "name": "stdout",
     "output_type": "stream",
     "text": [
      "Recourse Solution profit when high demand:  167000.0\n",
      "\n",
      "Recourse Solution profit when avg demand:  109350.0\n",
      "\n",
      "Recourse Solution profit when low demand:  48820.0\n",
      "\n"
     ]
    }
   ],
   "source": [
    "land_1d = {}\n",
    "land_1d[Products[0]] = all_stages.variables()[2].varValue\n",
    "land_1d[Products[1]] = all_stages.variables()[0].varValue\n",
    "land_1d[Products[2]] = all_stages.variables()[1].varValue\n",
    "for s in Senario:\n",
    "    print(\"Recourse Solution profit when %s demand: \" % s , senario_obj(determined_land=land_1d, s=Senario[s]))\n",
    "    print()"
   ]
  },
  {
   "cell_type": "markdown",
   "metadata": {},
   "source": [
    "## (e) (5%) What’s the Expected Value of Perfect Information (EVPI)? What’s the value of the stochastic solution (VSS)?"
   ]
  },
  {
   "cell_type": "code",
   "execution_count": 25,
   "metadata": {},
   "outputs": [
    {
     "name": "stdout",
     "output_type": "stream",
     "text": [
      "EV for high demand:  148000.0\n",
      "\n",
      "EV for avg demand:  118600.0\n",
      "\n",
      "EV for low demand:  55120.0\n",
      "\n"
     ]
    }
   ],
   "source": [
    "## 1e EVPI, VSS\n",
    "### EVPI\n",
    "### max: WS - RP\n",
    "ws = np.mean([value(prob_1bs[s].objective) for s in Senario])\n",
    "rp = value(all_stages.objective)\n",
    "evpi = ws - rp\n",
    "### VSS\n",
    "### max: EEV - RP\n",
    "eev = 0\n",
    "land_1a = {}\n",
    "land_1a[Products[0]] = prob_a.variables()[2].varValue\n",
    "land_1a[Products[1]] = prob_a.variables()[0].varValue\n",
    "land_1a[Products[2]] = prob_a.variables()[1].varValue\n",
    "\n",
    "for s in Senario:\n",
    "    obj = senario_obj(determined_land=land_1a, s=Senario[s])\n",
    "    print(\"EV for %s demand: \" % s , obj)\n",
    "    eev += (1/3) * (obj)\n",
    "    print()\n",
    "vss = rp - eev"
   ]
  },
  {
   "cell_type": "code",
   "execution_count": 27,
   "metadata": {},
   "outputs": [
    {
     "name": "stdout",
     "output_type": "stream",
     "text": [
      "EEV:  107240.0\n",
      "VSS:  1150.0\n"
     ]
    }
   ],
   "source": [
    "print(\"EEV: \", round(eev))\n",
    "print(\"VSS: \", round(vss))"
   ]
  },
  {
   "cell_type": "markdown",
   "metadata": {},
   "source": [
    "## (f) (5%) Do you think RP providing a good solution in this study? Why?"
   ]
  },
  {
   "cell_type": "markdown",
   "metadata": {},
   "source": [
    "#### yes, since EEV is positive, and VSS is not close to zero, we can suggest RP provide a better solution here"
   ]
  },
  {
   "cell_type": "markdown",
   "metadata": {},
   "source": [
    "## (g) (15%) For continuous scenarios, if the weather results in a continuous probability distribution of the yield rate, which follows the normal distribution N(1,0.1). Calculate the objective function (i.e. expected value of the resource function) with the confidence intervals of the upper bound and lower bound, respectively, by Monte Carlo sampling average approximation (SAA). In the Monte Carlo simulation, we use the sample size 𝑁=𝑁̅=30 and the replications (batches) 𝑀=𝑇=15."
   ]
  },
  {
   "cell_type": "markdown",
   "metadata": {},
   "source": [
    "以下假設設定下限時皆是已經確定產出比率的情況下決定種植多少產品，所以都是採用 scenario analysis 的方法進行"
   ]
  },
  {
   "cell_type": "code",
   "execution_count": 13,
   "metadata": {},
   "outputs": [],
   "source": [
    "## 1g\n",
    "## set samples\n",
    "mu, sigma = 1, 0.1\n",
    "M = []\n",
    "T = []\n",
    "for i in range(15):\n",
    "    M.append(np.random.normal(mu, sigma, 30))\n",
    "    T.append(np.random.normal(mu, sigma, 30))"
   ]
  },
  {
   "cell_type": "code",
   "execution_count": 14,
   "metadata": {},
   "outputs": [],
   "source": [
    "## lower\n",
    "low_vars = []\n",
    "low_obj = []\n",
    "for i in range(15):\n",
    "    low_vars.append([None] * 30)\n",
    "    low_obj.append([None] * 30)\n",
    "\n",
    "for i in range(15):\n",
    "    for j in range(30):\n",
    "        low_prob = prob_senario_ana(M[i][j])\n",
    "        low_vars[i][j], low_obj[i][j] = low_prob.variables(), value(low_prob.objective)"
   ]
  },
  {
   "cell_type": "code",
   "execution_count": 15,
   "metadata": {},
   "outputs": [],
   "source": [
    "def mean_confidence_interval(data, confidence=0.95):\n",
    "    a = 1.0 * np.array(data)\n",
    "    n = len(a)\n",
    "    m, se = np.mean(a), scipy.stats.sem(a)\n",
    "    h = se * scipy.stats.t.ppf((1 + confidence) / 2., n-1)\n",
    "    return m, m-h, m+h"
   ]
  },
  {
   "cell_type": "code",
   "execution_count": 16,
   "metadata": {},
   "outputs": [],
   "source": [
    "lower_bound = {}\n",
    "lower_bound[\"mean\"], lower_bound[\"low\"], lower_bound[\"high\"] = mean_confidence_interval(data=[low_obj[i][j] for i in range(15) for j in range(30)])"
   ]
  },
  {
   "cell_type": "markdown",
   "metadata": {},
   "source": [
    "we use mean of the decision variables of lower bound to calculate upper bound"
   ]
  },
  {
   "cell_type": "code",
   "execution_count": 17,
   "metadata": {},
   "outputs": [],
   "source": [
    "## upper\n",
    "land_mu = {}\n",
    "land_mu[\"Wheat\"] = np.mean([low_vars[i][j][2].varValue for i in range(15) for j in range(30)])\n",
    "land_mu[\"Corn\"] = np.mean([low_vars[i][j][0].varValue for i in range(15) for j in range(30)])\n",
    "land_mu[\"Sugar\"] = np.mean([low_vars[i][j][1].varValue for i in range(15) for j in range(30)])"
   ]
  },
  {
   "cell_type": "code",
   "execution_count": 18,
   "metadata": {},
   "outputs": [],
   "source": [
    "up_obj = []\n",
    "for i in range(15):\n",
    "    up_obj.append([None] * 30)\n",
    "\n",
    "for i in range(15):\n",
    "    for j in range(30):\n",
    "        up_obj[i][j] = senario_obj(determined_land=land_mu, s=T[i][j])"
   ]
  },
  {
   "cell_type": "code",
   "execution_count": 19,
   "metadata": {},
   "outputs": [],
   "source": [
    "upper_bound = {}\n",
    "upper_bound[\"mean\"], upper_bound[\"low\"], upper_bound[\"high\"] = mean_confidence_interval(data=[up_obj[i][j] for i in range(15) for j in range(30)])"
   ]
  },
  {
   "cell_type": "code",
   "execution_count": 28,
   "metadata": {},
   "outputs": [
    {
     "name": "stdout",
     "output_type": "stream",
     "text": [
      "lower bound interval:  {'mean': 118600.0, 'low': 118600.0, 'high': 118600.0}\n",
      "upper bound interval:  {'mean': 111847.9942440623, 'low': 109687.79893589333, 'high': 114008.18955223127}\n"
     ]
    }
   ],
   "source": [
    "print(\"lower bound interval: \", lower_bound)\n",
    "print(\"upper bound interval: \", upper_bound)"
   ]
  },
  {
   "cell_type": "markdown",
   "metadata": {},
   "source": [
    "After we plug in decision variables of lower bound into upper bound, we found that upper bound in this problem is lower than lower bound. It's beacuse this problem is a Maximun problem."
   ]
  },
  {
   "cell_type": "markdown",
   "metadata": {},
   "source": [
    "# 2"
   ]
  },
  {
   "cell_type": "markdown",
   "metadata": {},
   "source": [
    "## (a) (5%) How many decision nodes are required? How many branches come out of each decision node?"
   ]
  },
  {
   "cell_type": "markdown",
   "metadata": {},
   "source": [
    "one decision node, three branches out of decision node"
   ]
  },
  {
   "cell_type": "markdown",
   "metadata": {},
   "source": [
    "## (b) (5%) How many chance nodes are required? How many branches come out of each chance node?"
   ]
  },
  {
   "cell_type": "markdown",
   "metadata": {},
   "source": [
    "three chance node, two branches out of each chance node"
   ]
  },
  {
   "cell_type": "markdown",
   "metadata": {},
   "source": [
    "## (c) (5%) Draw the decision tree. Label each branch completely including probabilities and payoffs."
   ]
  },
  {
   "cell_type": "markdown",
   "metadata": {},
   "source": [
    "![](https://i.imgur.com/7QF8iY8.jpg)"
   ]
  },
  {
   "cell_type": "markdown",
   "metadata": {},
   "source": [
    "## (d) (5%) Solve the decision tree and find the best production strategy."
   ]
  },
  {
   "cell_type": "code",
   "execution_count": 39,
   "metadata": {},
   "outputs": [
    {
     "name": "stdout",
     "output_type": "stream",
     "text": [
      "174000.0\n",
      "423000.0\n",
      "277000.0\n",
      "solution is b:  423000.0\n"
     ]
    }
   ],
   "source": [
    "high = 0.41\n",
    "low = 0.59\n",
    "## A\n",
    "a = 1000000 * high + (-400000) * low\n",
    "## B\n",
    "b = 600000 * high + (300000) * low\n",
    "## C\n",
    "c = 100000 * high + (400000) * low\n",
    "\n",
    "print(a)\n",
    "print(b)\n",
    "print(c)\n",
    "\n",
    "ev = np.max([a, b, c])\n",
    "print(\"solution is b: \", ev)"
   ]
  },
  {
   "cell_type": "markdown",
   "metadata": {},
   "source": [
    "## (e) (5%) Calculate the joint probabilities, i.e. P(X=0,θ =0), P(X=0,θ =1), P(X=1,θ =0), and P(X=1,θ=1)."
   ]
  },
  {
   "cell_type": "code",
   "execution_count": 47,
   "metadata": {},
   "outputs": [
    {
     "name": "stdout",
     "output_type": "stream",
     "text": [
      "P(X=0,θ =0): 0.413000\n",
      "P(X=0,θ =1): 0.082000\n",
      "P(X=1,θ =0): 0.177000\n",
      "P(X=1,θ =1): 0.328000\n"
     ]
    }
   ],
   "source": [
    "hihi = 0.8\n",
    "lolo = 0.7\n",
    "p00 = lolo * low\n",
    "p01 = (1-hihi) * high\n",
    "p10 = (1-lolo) * low\n",
    "p11 = hihi * high\n",
    "print(\"P(X=0,θ =0): %f\" %p00)\n",
    "print(\"P(X=0,θ =1): %f\" %p01)\n",
    "print(\"P(X=1,θ =0): %f\" %p10)\n",
    "print(\"P(X=1,θ =1): %f\" %p11)"
   ]
  },
  {
   "cell_type": "markdown",
   "metadata": {},
   "source": [
    "## (f) (5%) Calculate the marginal probabilities, i.e. P(X=1) and P(X=0)."
   ]
  },
  {
   "cell_type": "code",
   "execution_count": 51,
   "metadata": {},
   "outputs": [
    {
     "name": "stdout",
     "output_type": "stream",
     "text": [
      "P(X=0): 0.495000\n",
      "P(X=1): 0.505000\n"
     ]
    }
   ],
   "source": [
    "print(\"P(X=0): %f\" %(p00 + p01))\n",
    "print(\"P(X=1): %f\" %(p10 + p11))"
   ]
  },
  {
   "cell_type": "markdown",
   "metadata": {},
   "source": [
    "## (g) (5%) Calculate the posterior probabilities, i.e. P(θ =0|X=0), P(θ =1|X=0), P(θ =0|X=1), and P(θ=1|X=1)."
   ]
  },
  {
   "cell_type": "code",
   "execution_count": 54,
   "metadata": {},
   "outputs": [
    {
     "name": "stdout",
     "output_type": "stream",
     "text": [
      "P(θ =0|X=0): 0.834343\n",
      "P(θ =1|X=0): 0.165657\n",
      "P(θ =0|X=1): 0.350495\n",
      "P(θ =1|X=1): 0.649505\n"
     ]
    }
   ],
   "source": [
    "print(\"P(θ =0|X=0): %f\" %(p00 / (p00 + p01)))\n",
    "print(\"P(θ =1|X=0): %f\" %(p01 / (p00 + p01)))\n",
    "print(\"P(θ =0|X=1): %f\" %(p10 / (p10 + p11)))\n",
    "print(\"P(θ =1|X=1): %f\" %(p11 / (p10 + p11)))"
   ]
  },
  {
   "cell_type": "markdown",
   "metadata": {},
   "source": [
    "## (h) (5%) Redraw the revised decision tree with considering two alternatives: Hire or Non-Hire marketing research firm."
   ]
  },
  {
   "cell_type": "markdown",
   "metadata": {},
   "source": [
    "![](https://i.imgur.com/FcbMs83.jpg)"
   ]
  },
  {
   "cell_type": "markdown",
   "metadata": {},
   "source": [
    "## (i) (5%) Calculate the EVPI."
   ]
  },
  {
   "cell_type": "code",
   "execution_count": 56,
   "metadata": {},
   "outputs": [
    {
     "name": "stdout",
     "output_type": "stream",
     "text": [
      "ERPI = 646000.0\n",
      "ERw/o = 423000.0\n",
      "EVPI = 223000.0\n"
     ]
    }
   ],
   "source": [
    "erpi = high * 1000000 + low * 400000\n",
    "print(\"ERPI =\", erpi)\n",
    "print(\"ERw/o =\", ev)\n",
    "print(\"EVPI =\", erpi - ev)"
   ]
  },
  {
   "cell_type": "markdown",
   "metadata": {},
   "source": [
    "## (j) (5%) Calculate the EVE when we directly use the marketing results, i.e. if X=1 then Strategy A; otherwise X=0 then Strategy C."
   ]
  },
  {
   "cell_type": "code",
   "execution_count": 57,
   "metadata": {},
   "outputs": [
    {
     "name": "stdout",
     "output_type": "stream",
     "text": [
      "ERE = 430899.0\n",
      "EVE = 7899.0\n"
     ]
    }
   ],
   "source": [
    "ere = 0.505 * (0.65 * 1000000 + 0.35 * (-400000)) + 0.495 * (0.166 * 100000 + 0.834 * 400000)\n",
    "print(\"ERE =\", ere)\n",
    "print(\"EVE =\", ere - ev)"
   ]
  },
  {
   "cell_type": "markdown",
   "metadata": {},
   "source": [
    "## (k) (5%) If hiring marketing research firm costs NTD 50,000, do you suggest NTU President to hire?"
   ]
  },
  {
   "cell_type": "markdown",
   "metadata": {},
   "source": [
    "No, since value of the the perfect information is 7899, which is less than 50000. The cost of the research may decrease the expected value."
   ]
  },
  {
   "cell_type": "code",
   "execution_count": null,
   "metadata": {},
   "outputs": [],
   "source": []
  }
 ],
 "metadata": {
  "kernelspec": {
   "display_name": "Python 3",
   "language": "python",
   "name": "python3"
  },
  "language_info": {
   "codemirror_mode": {
    "name": "ipython",
    "version": 3
   },
   "file_extension": ".py",
   "mimetype": "text/x-python",
   "name": "python",
   "nbconvert_exporter": "python",
   "pygments_lexer": "ipython3",
   "version": "3.7.6"
  }
 },
 "nbformat": 4,
 "nbformat_minor": 4
}
